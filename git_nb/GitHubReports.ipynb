{
 "cells": [
  {
   "cell_type": "markdown",
   "id": "9af9674c",
   "metadata": {},
   "source": [
    "# GitHub Repository Report"
   ]
  },
  {
   "cell_type": "markdown",
   "id": "dcb5105c",
   "metadata": {},
   "source": [
    "## About this Notebook"
   ]
  },
  {
   "cell_type": "markdown",
   "id": "af7730d3",
   "metadata": {},
   "source": [
    "<p>This Notebook provides a flexible reporting tool that creates a report based on either a users repositories and an organizations repository.  </p>\n",
    "<p>For organizations with a large number of repositories, a Filter List can be used to limit the number of repos returned.</p>\n",
    "\n",
    "This Notebook uses the following:\n",
    "* Python 3 \n",
    "* toc2 extension."
   ]
  },
  {
   "cell_type": "markdown",
   "id": "3720f89e",
   "metadata": {},
   "source": [
    "## Prerequisites"
   ]
  },
  {
   "cell_type": "markdown",
   "id": "710988f4",
   "metadata": {},
   "source": [
    "### GitHub Credentials File Setup\n",
    "\n",
    "<div class=\"alert alert-block alert-info\">\n",
    "<b>Credential security file:</b> \n",
    "<p>In the same directory as this Notebook, create a file - gitsecrets.py - and add the following:<br>\n",
    "    GITHUB_USER= Your Git User Name  <br>\n",
    "    GITHUB_TOKEN= Your Git Token\n",
    "</p>\n",
    "</div>\n",
    "\n",
    "<div class=\"alert alert-block alert-warning\"><b>GitHub API Limits: </b>You may reach a limit of API calls that GitHub will allow, ex. 2000 calls/minute.  Try to limit the number of repos/folders/files. </div>\n"
   ]
  },
  {
   "cell_type": "markdown",
   "id": "395dce49",
   "metadata": {},
   "source": [
    "### Determine Reporting Strategy\n",
    "\n",
    "<div class=\"alert alert-block alert-warning\">\n",
    "<b>Example config file:</b> Use yellow boxes for examples that are not inside code cells, or use for mathematical formulas if needed. Typically also used to display warning messages.\n",
    "</div>\n"
   ]
  },
  {
   "cell_type": "markdown",
   "id": "343e0097",
   "metadata": {},
   "source": [
    "## Initialize Report"
   ]
  },
  {
   "cell_type": "markdown",
   "id": "b8fbd814",
   "metadata": {},
   "source": [
    "### Import packages and Fetch Repositories of interest"
   ]
  },
  {
   "cell_type": "code",
   "execution_count": null,
   "id": "00cd9dc7",
   "metadata": {
    "ExecuteTime": {
     "end_time": "2021-12-29T19:11:10.007506Z",
     "start_time": "2021-12-29T19:11:09.097258Z"
    }
   },
   "outputs": [],
   "source": [
    "import requests\n",
    "import pprint\n",
    "from gitsecrets import GITHUB_USER,GITHUB_TOKEN\n",
    "# Create auth for Git credentials\n",
    "auth=requests.auth.HTTPBasicAuth( GITHUB_USER  ,GITHUB_TOKEN )\n",
    "\n",
    "userRepoUrl = 'https://api.github.com/user/repos'\n",
    "orgRepoUrl = 'https://api.github.com/orgs/<Your Org>/repos'\n",
    "#  Change myRepoUrl with on of the above as needed\n",
    "myRepoUrl = userRepoUrl\n",
    "repoResponse = requests.get(myRepoUrl, auth=auth)\n"
   ]
  },
  {
   "cell_type": "markdown",
   "id": "e66f276b",
   "metadata": {},
   "source": [
    "# Get Repos List"
   ]
  },
  {
   "cell_type": "markdown",
   "id": "750eeed2",
   "metadata": {
    "heading_collapsed": true
   },
   "source": [
    "## Org Repo List"
   ]
  },
  {
   "cell_type": "code",
   "execution_count": null,
   "id": "80ab91e2",
   "metadata": {
    "ExecuteTime": {
     "end_time": "2021-12-27T19:18:51.521731Z",
     "start_time": "2021-12-27T19:18:49.999002Z"
    },
    "hidden": true
   },
   "outputs": [],
   "source": [
    "trOciRepoUrls = []\n",
    "trOciRepoUrls.append('https://api.github.com/repos/tr/truccr_oci-iac')\n",
    "trOciRepoUrls.append('https://api.github.com/repos/tr/truccr_oci-ca-dumptruck')\n",
    "trOciRepoUrls.append('https://api.github.com/repos/tr/truccr_oci-manual-transmission')\n",
    "trOciRepos =[]\n",
    "for trOciRepoUrls in trOciRepoUrls:\n",
    "    resp = repoResponse = requests.get(trOciRepoUrls, auth=auth)\n",
    "    trOciRepos.append(resp.json())\n",
    "print(len(trOciRepos))\n",
    "repos = trOciRepos\n",
    "pprint.pprint(trOciRepos)"
   ]
  },
  {
   "cell_type": "markdown",
   "id": "4474bebb",
   "metadata": {},
   "source": [
    "## User Repo List"
   ]
  },
  {
   "cell_type": "code",
   "execution_count": null,
   "id": "cd98d581",
   "metadata": {
    "ExecuteTime": {
     "end_time": "2021-12-29T19:11:26.055934Z",
     "start_time": "2021-12-29T19:11:26.034989Z"
    }
   },
   "outputs": [],
   "source": [
    "repos =[]\n",
    "for repoR in repoResponse.json():\n",
    "    repos.append(repoR)\n",
    "print('Number of Repos = ', str(len(repos)))\n"
   ]
  },
  {
   "cell_type": "markdown",
   "id": "c70d0948",
   "metadata": {},
   "source": [
    "# Repository Report"
   ]
  },
  {
   "cell_type": "code",
   "execution_count": null,
   "id": "770a9470",
   "metadata": {
    "ExecuteTime": {
     "end_time": "2021-12-29T19:12:01.139207Z",
     "start_time": "2021-12-29T19:11:48.864622Z"
    },
    "code_folding": [
     12,
     17,
     23,
     32,
     55
    ]
   },
   "outputs": [],
   "source": [
    "for repo in repos :\n",
    "    print( 'Repo:',repo[\"name\"])\n",
    "    print('    Private:     ', repo['private'])\n",
    "    print('    HTTPS URL:   ', repo['clone_url'])\n",
    "    print('    SSH URL:     ', repo['ssh_url'])    \n",
    "    contentsUrl = repo['contents_url']\n",
    "    print('    Contents URL:' ,contentsUrl.replace('{+path}',''))\n",
    "    contents = requests.get(contentsUrl.replace('{+path}',''),auth=auth)\n",
    "    cFileList = []  ;   cDirList = []\n",
    "    [cFileList.append(x) for x in contents.json() if x['type'] == 'file' ]\n",
    "#- Files\n",
    "    print('    Files:')\n",
    "    for content in cFileList:\n",
    "        print('       ', content['name'])\n",
    "    [cDirList.append(x) for x in contents.json() if x['type'] == 'dir' ]\n",
    "#- Folders\n",
    "    print('    Folders:')\n",
    "    for content in cDirList:\n",
    "        print('       ', '/' + content['name'])\n",
    "\n",
    "#- Branches\n",
    "    print('    Branches:')\n",
    "    branchs = requests.get(repo['branches_url'].replace('{/branch}',''),auth=auth)\n",
    "    for branch in branchs.json():\n",
    "        print('         ' ,branch['name'])\n",
    "        branchContents = requests.get(repo['branches_url'].replace('{/branch}','/'+branch['name'])\n",
    "                                      ,auth=auth)\n",
    "        branchContent = branchContents.json()['commit']['commit']\n",
    "        print('              Author:',branchContent['author'] ['name'])\n",
    "        print('              Date:  ' ,branchContent ['author'] ['date'] )             \n",
    "#-Folder Contents\n",
    "    print('    Folder Contents:')\n",
    "    for folder in cDirList:\n",
    "        print('        /'+ folder['name'])\n",
    "        fContents = requests.get(folder['url'] , auth=auth   )\n",
    "        cFileList2 = []  ;   cDirList2 = []\n",
    "        [cFileList2.append(x) for x in fContents.json() if x['type'] == 'file' ]\n",
    "        for content in cFileList2:\n",
    "            print('           '+ content['name'])\n",
    "        [cDirList2.append(x) for x in fContents.json() if x['type'] == 'dir' ]            \n",
    "        for content in cDirList2:\n",
    "            print('           /'+ content['name'])     \n",
    "            folder2 = folder['name'] + '/' + content['name']\n",
    "#             print(contentsUrl.replace('{+path}',folder2 ))\n",
    "            fContents2 = requests.get(contentsUrl.replace('{+path}',folder2),auth=auth)\n",
    "            cFileList3 = []  ;   cDirList3 = []\n",
    "            [cFileList3.append(x) for x in fContents2.json() if x['type'] == 'file' ]    \n",
    "            for content2 in cFileList3:\n",
    "                print('               ', content2['name'] )\n",
    "            [cDirList3.append(x) for x in fContents2.json() if x['type'] == 'dir' ] \n",
    "            for content2 in cDirList3:\n",
    "                print('               ', content2['name'] )                \n",
    "#- Issues\n",
    "    print('    Open Issues:')\n",
    "    issues = requests.get(repo['issues_url'].replace('{/number}',''),auth=auth)\n",
    "    for issue in issues.json():\n",
    "        if 'open' in issue['state']:\n",
    "            print('         ' ,str(issue['number']) + ' - ' +  issue['body'])    \n",
    "    print('\\n---' )\n",
    "print('----------')\n"
   ]
  },
  {
   "cell_type": "markdown",
   "id": "1a9b16f3",
   "metadata": {},
   "source": [
    "# My Gists Report"
   ]
  },
  {
   "cell_type": "markdown",
   "id": "b0a6936b",
   "metadata": {},
   "source": [
    "## Import Packages and Fetch Gists"
   ]
  },
  {
   "cell_type": "code",
   "execution_count": null,
   "id": "3432504f",
   "metadata": {
    "ExecuteTime": {
     "end_time": "2021-12-30T08:38:53.663160Z",
     "start_time": "2021-12-30T08:38:53.409759Z"
    }
   },
   "outputs": [],
   "source": [
    "import requests\n",
    "import pprint\n",
    "from gitsecrets import GITHUB_USER,GITHUB_TOKEN\n",
    "# Create auth for Git credentials\n",
    "auth=requests.auth.HTTPBasicAuth( GITHUB_USER  ,GITHUB_TOKEN )\n",
    "\n",
    "userRepoUrl = 'https://api.github.com/gists'\n",
    "# orgRepoUrl = 'https://api.github.com/orgs/<Your Org>/repos'\n",
    "#  Change myRepoUrl with on of the above as needed\n",
    "myGistsUrl = userRepoUrl\n",
    "repoResponse = requests.get(myGistsUrl, auth=auth)"
   ]
  },
  {
   "cell_type": "code",
   "execution_count": null,
   "id": "baedd36d",
   "metadata": {
    "ExecuteTime": {
     "end_time": "2021-12-30T08:38:59.758274Z",
     "start_time": "2021-12-30T08:38:59.226625Z"
    }
   },
   "outputs": [],
   "source": [
    "gists = repoResponse.json()\n",
    "for gist in gists:\n",
    "    print( gist['description'])\n",
    "    print('    Updated: ', gist['updated_at']  )\n",
    "    print('    Type:    ', 'Public' if gist['public'] else 'Private' )\n",
    "    print('    Html Url: ', gist['html_url']  )\n",
    "    print('    Comments: ', gist['comments']  )\n",
    "    \n",
    "    forks = requests.get(gist['forks_url'],auth=auth)\n",
    "    print('    Forks:    ',str(len(forks.json())))\n",
    "\n",
    "    files = gist['files']\n",
    "    print('    Files:')\n",
    "    for file,extra in files.items():\n",
    "        print('        File: ',file)\n",
    "\n",
    "    print('--')\n",
    "print('\\n----------')\n",
    "pprint.pprint(repoResponse.json()[0])"
   ]
  },
  {
   "cell_type": "code",
   "execution_count": null,
   "id": "198f0b53",
   "metadata": {},
   "outputs": [],
   "source": []
  }
 ],
 "metadata": {
  "kernelspec": {
   "display_name": "Python 3 (ipykernel)",
   "language": "python",
   "name": "python3"
  },
  "language_info": {
   "codemirror_mode": {
    "name": "ipython",
    "version": 3
   },
   "file_extension": ".py",
   "mimetype": "text/x-python",
   "name": "python",
   "nbconvert_exporter": "python",
   "pygments_lexer": "ipython3",
   "version": "3.8.10"
  },
  "toc": {
   "base_numbering": 1,
   "nav_menu": {},
   "number_sections": true,
   "sideBar": false,
   "skip_h1_title": false,
   "title_cell": "Table of Contents",
   "title_sidebar": "Contents",
   "toc_cell": false,
   "toc_position": {
    "height": "412px",
    "left": "32px",
    "top": "178px",
    "width": "165px"
   },
   "toc_section_display": true,
   "toc_window_display": true
  },
  "varInspector": {
   "cols": {
    "lenName": 16,
    "lenType": 16,
    "lenVar": 40
   },
   "kernels_config": {
    "python": {
     "delete_cmd_postfix": "",
     "delete_cmd_prefix": "del ",
     "library": "var_list.py",
     "varRefreshCmd": "print(var_dic_list())"
    },
    "r": {
     "delete_cmd_postfix": ") ",
     "delete_cmd_prefix": "rm(",
     "library": "var_list.r",
     "varRefreshCmd": "cat(var_dic_list()) "
    }
   },
   "types_to_exclude": [
    "module",
    "function",
    "builtin_function_or_method",
    "instance",
    "_Feature"
   ],
   "window_display": false
  }
 },
 "nbformat": 4,
 "nbformat_minor": 5
}
