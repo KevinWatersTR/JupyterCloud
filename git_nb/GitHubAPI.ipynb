{
 "cells": [
  {
   "cell_type": "markdown",
   "id": "eddb29a0",
   "metadata": {},
   "source": [
    "# Overview"
   ]
  },
  {
   "cell_type": "markdown",
   "id": "bd2253b2",
   "metadata": {},
   "source": [
    "# Init"
   ]
  },
  {
   "cell_type": "code",
   "execution_count": 1,
   "id": "51feda9d",
   "metadata": {
    "ExecuteTime": {
     "end_time": "2021-12-28T19:31:41.365994Z",
     "start_time": "2021-12-28T19:31:40.348434Z"
    }
   },
   "outputs": [],
   "source": [
    "import requests\n",
    "import pprint\n",
    "from gitsecrets import GITHUB_USER,GITHUB_TOKEN\n",
    "\n",
    "auth=requests.auth.HTTPBasicAuth( GITHUB_USER  ,GITHUB_TOKEN )\n",
    "userRepoUrl = 'https://api.github.com/user/repos'\n",
    "orgRepoUrl = 'https://api.github.com/orgs/org/repos'\n",
    "\n",
    "repoResponse = requests.get(userRepoUrl, auth=auth)\n",
    "# pprint.pprint(repoResponse.json())"
   ]
  },
  {
   "cell_type": "markdown",
   "id": "373a98ce",
   "metadata": {},
   "source": [
    "# Get Repos List"
   ]
  },
  {
   "cell_type": "markdown",
   "id": "17c9115b",
   "metadata": {
    "heading_collapsed": true
   },
   "source": [
    "## Org Repo List"
   ]
  },
  {
   "cell_type": "code",
   "execution_count": null,
   "id": "222ee0e1",
   "metadata": {
    "ExecuteTime": {
     "end_time": "2021-12-27T19:18:51.521731Z",
     "start_time": "2021-12-27T19:18:49.999002Z"
    },
    "hidden": true
   },
   "outputs": [],
   "source": [
    "trOciRepoUrls = []\n",
    "trOciRepoUrls.append('https://api.github.com/repos/tr/truccr_oci-iac')\n",
    "trOciRepoUrls.append('https://api.github.com/repos/tr/truccr_oci-ca-dumptruck')\n",
    "trOciRepoUrls.append('https://api.github.com/repos/tr/truccr_oci-manual-transmission')\n",
    "trOciRepos =[]\n",
    "for trOciRepoUrls in trOciRepoUrls:\n",
    "    resp = repoResponse = requests.get(trOciRepoUrls, auth=auth)\n",
    "    trOciRepos.append(resp.json())\n",
    "print(len(trOciRepos))\n",
    "repos = trOciRepos\n",
    "pprint.pprint(trOciRepos)"
   ]
  },
  {
   "cell_type": "markdown",
   "id": "b43c68a1",
   "metadata": {},
   "source": [
    "## User Repo List"
   ]
  },
  {
   "cell_type": "code",
   "execution_count": 2,
   "id": "181a1d23",
   "metadata": {
    "ExecuteTime": {
     "end_time": "2021-12-28T19:31:54.862837Z",
     "start_time": "2021-12-28T19:31:54.850190Z"
    }
   },
   "outputs": [
    {
     "name": "stdout",
     "output_type": "stream",
     "text": [
      "Number of Repos =  5\n"
     ]
    }
   ],
   "source": [
    "repos =[]\n",
    "for repoR in repoResponse.json():\n",
    "    repos.append(repoR)\n",
    "print('Number of Repos = ', str(len(repos)))\n"
   ]
  },
  {
   "cell_type": "markdown",
   "id": "f3898c7b",
   "metadata": {},
   "source": [
    "# Repos Report"
   ]
  },
  {
   "cell_type": "code",
   "execution_count": 3,
   "id": "af709629",
   "metadata": {
    "ExecuteTime": {
     "end_time": "2021-12-28T19:32:14.959521Z",
     "start_time": "2021-12-28T19:32:03.695841Z"
    }
   },
   "outputs": [
    {
     "name": "stdout",
     "output_type": "stream",
     "text": [
      "Repo: diffyQ\n",
      "    Private:      True\n",
      "    HTTPS URL:    https://github.com/waters262/diffyQ.git\n",
      "    SSH URL:      git@github.com:waters262/diffyQ.git\n",
      "    Contents URL: https://api.github.com/repos/waters262/diffyQ/contents/\n",
      "    Files:\n",
      "        README.md\n",
      "    Folders:\n",
      "        /code\n",
      "    Branches:\n",
      "          gamma\n",
      "              Author: waters262\n",
      "              Date:   2021-12-12T22:42:56Z\n",
      "          main\n",
      "              Author: Kevin Waters\n",
      "              Date:   2021-03-14T22:32:30Z\n",
      "    Folder Contents:\n",
      "        /code\n",
      "           Copy of ballisticTrajectories.py\n",
      "           ballisticTrajectories.py\n",
      "           craftEnergy.py\n",
      "           heatEquation.py\n",
      "           safeReturn.py\n",
      "           udacityplots.py\n",
      "           wildfire.py\n",
      "    Open Issues:\n",
      "\n",
      "---\n",
      "Repo: Jupyter\n",
      "    Private:      True\n",
      "    HTTPS URL:    https://github.com/waters262/Jupyter.git\n",
      "    SSH URL:      git@github.com:waters262/Jupyter.git\n",
      "    Contents URL: https://api.github.com/repos/waters262/Jupyter/contents/\n",
      "    Files:\n",
      "        .gitignore\n",
      "        README.md\n",
      "    Folders:\n",
      "        /Aramark\n",
      "        /CastleBranch\n",
      "        /CloudNative\n",
      "        /HPC\n",
      "        /TRUCCR\n",
      "        /WebServices\n",
      "        /laca\n",
      "        /ociCLI\n",
      "    Branches:\n",
      "          main\n",
      "              Author: Kevin Waters\n",
      "              Date:   2021-12-19T13:33:07Z\n",
      "    Folder Contents:\n",
      "        /Aramark\n",
      "           OIC_Monitor.ipynb\n",
      "        /CastleBranch\n",
      "           MakeDirsFromTree.ipynb\n",
      "           Untitled.ipynb\n",
      "        /CloudNative\n",
      "           Compartments-at-a-Glance-v3-CN.ipynb\n",
      "           Kubernetes.ipynb\n",
      "           Setting up VLAN on OCI Compute.md\n",
      "           Setting_up_VLAN_on_OCI_Compute.ipynb\n",
      "        /HPC\n",
      "           HostCommands-HPC.ipynb\n",
      "        /TRUCCR\n",
      "           Authenticate2Tenancy.ipynb\n",
      "           UsageTests.ipynb\n",
      "        /WebServices\n",
      "           DocInfoOCI_Dev.wsdl\n",
      "           DocInfoOCI_Prod.wsdl\n",
      "           DocInfoOnPremDev.wsdl\n",
      "           DocInfoOnPremProd.wsdl\n",
      "           HsoaConfigWCCTest.py\n",
      "           HsoaConfigWL.py\n",
      "           HsoaDocInfo.wsdl\n",
      "           SoapCalcWS.ipynb\n",
      "           Soap_WebCenter_Call_WSDL-HSOA.ipynb\n",
      "        /laca\n",
      "           /analysis\n",
      "                InternalWrapperService.ipynb\n",
      "                Sonar_project_info_analysis.ipynb\n",
      "                ZAP-Analysis.ipynb\n",
      "           /oci\n",
      "                BlockVolumes.ipynb\n",
      "                Untitled.ipynb\n",
      "           /operations\n",
      "                Sonar_issues_measures.ipynb\n",
      "                Sonar_quality_gates_rules.ipynb\n",
      "                Sonar_settings.ipynb\n",
      "                search_and_resolve_issues.ipynb\n",
      "                xfer_issue_resolutions.ipynb\n",
      "           /reports\n",
      "                LacaTraining.ipynb\n",
      "                MetricsReport-Partial.ipynb\n",
      "                TH_Short_Rept.ipynb\n",
      "                TownHallMetricsReport-Redacted.ipynb\n",
      "                TownHallMetricsReport.ipynb\n",
      "                myTable.tex\n",
      "                sonarRepts.ipynb\n",
      "        /ociCLI\n",
      "           CLICourse_ssh.ipynb\n",
      "           CLIMethods.py\n",
      "           Compartments-at-a-Glance-v2.ipynb\n",
      "           Compartments-at-a-Glance.ipynb\n",
      "           DBCLI.ipynb\n",
      "           DisplayComputeInstances.ipynb\n",
      "           HPC-CLI.ipynb\n",
      "           HPC-Python-SDK-SSO.ipynb\n",
      "           HPC-Python-SDK.ipynb\n",
      "           ModifyOCIfromCsv.ipynb\n",
      "           OCI_Compt_Sec_Lists.ipynb\n",
      "           QloudableCLICoursePythonScripts.ipynb\n",
      "           /Data\n",
      "                XFile.csv\n",
      "           /py\n",
      "                Compartments-at-a-Glance.py\n",
      "                QloudableCLICoursePythonScripts.py\n",
      "    Open Issues:\n",
      "\n",
      "---\n",
      "Repo: JupyterCloud\n",
      "    Private:      False\n",
      "    HTTPS URL:    https://github.com/waters262/JupyterCloud.git\n",
      "    SSH URL:      git@github.com:waters262/JupyterCloud.git\n",
      "    Contents URL: https://api.github.com/repos/waters262/JupyterCloud/contents/\n",
      "    Files:\n",
      "        .gitignore\n",
      "        README.md\n",
      "    Folders:\n",
      "        /git_nb\n",
      "    Branches:\n",
      "          Init_GitHubAPI\n",
      "              Author: waters262\n",
      "              Date:   2021-12-28T01:04:37Z\n",
      "          main\n",
      "              Author: waters262\n",
      "              Date:   2021-12-28T10:13:10Z\n",
      "    Folder Contents:\n",
      "        /git_nb\n",
      "           GitHubAPI.ipynb\n",
      "    Open Issues:\n",
      "          2 - The notebook needs to document how to set up  'secrets' file.\n",
      "\n",
      "---\n",
      "Repo: pythonSDK\n",
      "    Private:      False\n",
      "    HTTPS URL:    https://github.com/waters262/pythonSDK.git\n",
      "    SSH URL:      git@github.com:waters262/pythonSDK.git\n",
      "    Contents URL: https://api.github.com/repos/waters262/pythonSDK/contents/\n",
      "    Files:\n",
      "        README.md\n",
      "        test.txt\n",
      "    Folders:\n",
      "        /displayOCI\n",
      "    Branches:\n",
      "          alpha\n",
      "              Author: Kevin Waters\n",
      "              Date:   2021-12-12T12:51:05Z\n",
      "          main\n",
      "              Author: waters262\n",
      "              Date:   2021-12-12T22:17:46Z\n",
      "          master\n",
      "              Author: kevin_waters\n",
      "              Date:   2021-03-13T20:03:47Z\n",
      "    Folder Contents:\n",
      "        /displayOCI\n",
      "           Compartments-at-a-Glance.ipynb\n",
      "           Compartments-at-a-Glance.py\n",
      "    Open Issues:\n",
      "\n",
      "---\n",
      "Repo: terraform\n",
      "    Private:      False\n",
      "    HTTPS URL:    https://github.com/waters262/terraform.git\n",
      "    SSH URL:      git@github.com:waters262/terraform.git\n",
      "    Contents URL: https://api.github.com/repos/waters262/terraform/contents/\n",
      "    Files:\n",
      "        README.md\n",
      "        demo.tf\n",
      "        schema.yml\n",
      "    Folders:\n",
      "    Branches:\n",
      "          main\n",
      "              Author: Oracle Public Cloud User\n",
      "              Date:   2021-07-26T20:38:19Z\n",
      "    Folder Contents:\n",
      "    Open Issues:\n",
      "\n",
      "---\n",
      "----------\n"
     ]
    }
   ],
   "source": [
    "for repo in repos :\n",
    "    print( 'Repo:',repo[\"name\"])\n",
    "    print('    Private:     ', repo['private'])\n",
    "    print('    HTTPS URL:   ', repo['clone_url'])\n",
    "    print('    SSH URL:     ', repo['ssh_url'])    \n",
    "    contentsUrl = repo['contents_url']\n",
    "    print('    Contents URL:' ,contentsUrl.replace('{+path}',''))\n",
    "    contents = requests.get(contentsUrl.replace('{+path}',''),auth=auth)\n",
    "    cFileList = []  ;   cDirList = []\n",
    "    [cFileList.append(x) for x in contents.json() if x['type'] == 'file' ]\n",
    "#- Files\n",
    "    print('    Files:')\n",
    "    for content in cFileList:\n",
    "        print('       ', content['name'])\n",
    "    [cDirList.append(x) for x in contents.json() if x['type'] == 'dir' ]\n",
    "#- Folders\n",
    "    print('    Folders:')\n",
    "    for content in cDirList:\n",
    "        print('       ', '/' + content['name'])\n",
    "\n",
    "#- Branches\n",
    "    print('    Branches:')\n",
    "    branchs = requests.get(repo['branches_url'].replace('{/branch}',''),auth=auth)\n",
    "    for branch in branchs.json():\n",
    "        print('         ' ,branch['name'])\n",
    "        branchContents = requests.get(repo['branches_url'].replace('{/branch}','/'+branch['name'])\n",
    "                                      ,auth=auth)\n",
    "        branchContent = branchContents.json()['commit']['commit']\n",
    "        print('              Author:',branchContent['author'] ['name'])\n",
    "        print('              Date:  ' ,branchContent ['author'] ['date'] )             \n",
    "#-Folder Contents\n",
    "    print('    Folder Contents:')\n",
    "    for folder in cDirList:\n",
    "        print('        /'+ folder['name'])\n",
    "        fContents = requests.get(folder['url'] , auth=auth   )\n",
    "        cFileList2 = []  ;   cDirList2 = []\n",
    "        [cFileList2.append(x) for x in fContents.json() if x['type'] == 'file' ]\n",
    "        for content in cFileList2:\n",
    "            print('           '+ content['name'])\n",
    "        [cDirList2.append(x) for x in fContents.json() if x['type'] == 'dir' ]            \n",
    "        for content in cDirList2:\n",
    "            print('           /'+ content['name'])     \n",
    "            folder2 = folder['name'] + '/' + content['name']\n",
    "#             print(contentsUrl.replace('{+path}',folder2 ))\n",
    "            fContents2 = requests.get(contentsUrl.replace('{+path}',folder2),auth=auth)\n",
    "            cFileList3 = []  ;   cDirList3 = []\n",
    "            [cFileList3.append(x) for x in fContents2.json() if x['type'] == 'file' ]    \n",
    "            for content2 in cFileList3:\n",
    "                print('               ', content2['name'] )\n",
    "            [cDirList3.append(x) for x in fContents2.json() if x['type'] == 'dir' ] \n",
    "            for content2 in cDirList3:\n",
    "                print('               ', content2['name'] )                \n",
    "#- Issues\n",
    "    print('    Open Issues:')\n",
    "    issues = requests.get(repo['issues_url'].replace('{/number}',''),auth=auth)\n",
    "    for issue in issues.json():\n",
    "        if 'open' in issue['state']:\n",
    "            print('         ' ,str(issue['number']) + ' - ' +  issue['body'])    \n",
    "    print('\\n---' )\n",
    "print('----------')\n",
    "# pprint.pprint(branchContent)\n",
    "# pprint.pprint(response.text)"
   ]
  },
  {
   "cell_type": "markdown",
   "id": "c55648f7",
   "metadata": {},
   "source": [
    "## List Branches"
   ]
  },
  {
   "cell_type": "code",
   "execution_count": null,
   "id": "ae6da2dd",
   "metadata": {
    "ExecuteTime": {
     "end_time": "2021-12-27T21:10:51.672790Z",
     "start_time": "2021-12-27T21:10:51.349183Z"
    },
    "code_folding": []
   },
   "outputs": [],
   "source": [
    "# pprint.pprint(repo)\n",
    "print(repo['branches_url'].replace('{/branch}',''))\n",
    "branchContents = requests.get(repo['branches_url'].replace('{/branch}','/alpha'),auth=auth)\n",
    "branch = branchContents.json()\n",
    "print('     ' ,branch['name'])\n",
    "print( '         ' , branch['commit'] ['commit'] ['message'])\n",
    "print('         ' ,branch['commit'] ['commit'] ['author'] ['name'])\n",
    "print('         ' ,branch['commit'] ['commit'] ['author'] ['date'] )\n"
   ]
  },
  {
   "cell_type": "code",
   "execution_count": null,
   "id": "d0648ffd",
   "metadata": {
    "ExecuteTime": {
     "end_time": "2021-12-28T11:07:57.903347Z",
     "start_time": "2021-12-28T11:07:57.612911Z"
    }
   },
   "outputs": [],
   "source": [
    "    print('    Open Issues:')\n",
    "    issues = requests.get(repo['issues_url'].replace('{/number}',''),auth=auth)\n",
    "    \n",
    "    for issue in issues.json():\n",
    "#         pprint.pprint(issue)\n",
    "        if 'opexn' in issue['state']:\n",
    "            print('         ' ,str(issue['number']) + ' - ' +  issue['body'])"
   ]
  }
 ],
 "metadata": {
  "kernelspec": {
   "display_name": "Python 3 (ipykernel)",
   "language": "python",
   "name": "python3"
  },
  "language_info": {
   "codemirror_mode": {
    "name": "ipython",
    "version": 3
   },
   "file_extension": ".py",
   "mimetype": "text/x-python",
   "name": "python",
   "nbconvert_exporter": "python",
   "pygments_lexer": "ipython3",
   "version": "3.8.10"
  },
  "toc": {
   "base_numbering": 1,
   "nav_menu": {},
   "number_sections": true,
   "sideBar": false,
   "skip_h1_title": false,
   "title_cell": "Table of Contents",
   "title_sidebar": "Contents",
   "toc_cell": false,
   "toc_position": {
    "height": "412px",
    "left": "32px",
    "top": "178px",
    "width": "165px"
   },
   "toc_section_display": true,
   "toc_window_display": true
  },
  "varInspector": {
   "cols": {
    "lenName": 16,
    "lenType": 16,
    "lenVar": 40
   },
   "kernels_config": {
    "python": {
     "delete_cmd_postfix": "",
     "delete_cmd_prefix": "del ",
     "library": "var_list.py",
     "varRefreshCmd": "print(var_dic_list())"
    },
    "r": {
     "delete_cmd_postfix": ") ",
     "delete_cmd_prefix": "rm(",
     "library": "var_list.r",
     "varRefreshCmd": "cat(var_dic_list()) "
    }
   },
   "types_to_exclude": [
    "module",
    "function",
    "builtin_function_or_method",
    "instance",
    "_Feature"
   ],
   "window_display": false
  }
 },
 "nbformat": 4,
 "nbformat_minor": 5
}
