{
 "cells": [
  {
   "cell_type": "markdown",
   "id": "6bf691b2",
   "metadata": {},
   "source": [
    "# Overview"
   ]
  },
  {
   "cell_type": "markdown",
   "id": "1e5ae89f",
   "metadata": {},
   "source": [
    "# Init"
   ]
  },
  {
   "cell_type": "code",
   "execution_count": null,
   "id": "c93357ed",
   "metadata": {
    "ExecuteTime": {
     "end_time": "2021-12-28T19:31:41.365994Z",
     "start_time": "2021-12-28T19:31:40.348434Z"
    }
   },
   "outputs": [],
   "source": [
    "import requests\n",
    "import pprint\n",
    "from gitsecrets import GITHUB_USER,GITHUB_TOKEN\n",
    "\n",
    "auth=requests.auth.HTTPBasicAuth( GITHUB_USER  ,GITHUB_TOKEN )\n",
    "userRepoUrl = 'https://api.github.com/user/repos'\n",
    "orgRepoUrl = 'https://api.github.com/orgs/org/repos'\n",
    "\n",
    "repoResponse = requests.get(userRepoUrl, auth=auth)\n",
    "# pprint.pprint(repoResponse.json())"
   ]
  },
  {
   "cell_type": "markdown",
   "id": "5e6843b8",
   "metadata": {},
   "source": [
    "# Get Repos List"
   ]
  },
  {
   "cell_type": "markdown",
   "id": "69fb4c1f",
   "metadata": {
    "heading_collapsed": true
   },
   "source": [
    "## Org Repo List"
   ]
  },
  {
   "cell_type": "code",
   "execution_count": null,
   "id": "e67277e4",
   "metadata": {
    "ExecuteTime": {
     "end_time": "2021-12-27T19:18:51.521731Z",
     "start_time": "2021-12-27T19:18:49.999002Z"
    },
    "hidden": true
   },
   "outputs": [],
   "source": [
    "trOciRepoUrls = []\n",
    "trOciRepoUrls.append('https://api.github.com/repos/tr/truccr_oci-iac')\n",
    "trOciRepoUrls.append('https://api.github.com/repos/tr/truccr_oci-ca-dumptruck')\n",
    "trOciRepoUrls.append('https://api.github.com/repos/tr/truccr_oci-manual-transmission')\n",
    "trOciRepos =[]\n",
    "for trOciRepoUrls in trOciRepoUrls:\n",
    "    resp = repoResponse = requests.get(trOciRepoUrls, auth=auth)\n",
    "    trOciRepos.append(resp.json())\n",
    "print(len(trOciRepos))\n",
    "repos = trOciRepos\n",
    "pprint.pprint(trOciRepos)"
   ]
  },
  {
   "cell_type": "markdown",
   "id": "01df38e1",
   "metadata": {},
   "source": [
    "## User Repo List"
   ]
  },
  {
   "cell_type": "code",
   "execution_count": null,
   "id": "69492da2",
   "metadata": {
    "ExecuteTime": {
     "end_time": "2021-12-28T19:31:54.862837Z",
     "start_time": "2021-12-28T19:31:54.850190Z"
    }
   },
   "outputs": [],
   "source": [
    "repos =[]\n",
    "for repoR in repoResponse.json():\n",
    "    repos.append(repoR)\n",
    "print('Number of Repos = ', str(len(repos)))\n"
   ]
  },
  {
   "cell_type": "markdown",
   "id": "a0fd9971",
   "metadata": {},
   "source": [
    "# Repos Report"
   ]
  },
  {
   "cell_type": "code",
   "execution_count": null,
   "id": "536690d0",
   "metadata": {
    "ExecuteTime": {
     "end_time": "2021-12-28T19:32:14.959521Z",
     "start_time": "2021-12-28T19:32:03.695841Z"
    }
   },
   "outputs": [],
   "source": [
    "for repo in repos :\n",
    "    print( 'Repo:',repo[\"name\"])\n",
    "    print('    Private:     ', repo['private'])\n",
    "    print('    HTTPS URL:   ', repo['clone_url'])\n",
    "    print('    SSH URL:     ', repo['ssh_url'])    \n",
    "    contentsUrl = repo['contents_url']\n",
    "    print('    Contents URL:' ,contentsUrl.replace('{+path}',''))\n",
    "    contents = requests.get(contentsUrl.replace('{+path}',''),auth=auth)\n",
    "    cFileList = []  ;   cDirList = []\n",
    "    [cFileList.append(x) for x in contents.json() if x['type'] == 'file' ]\n",
    "#- Files\n",
    "    print('    Files:')\n",
    "    for content in cFileList:\n",
    "        print('       ', content['name'])\n",
    "    [cDirList.append(x) for x in contents.json() if x['type'] == 'dir' ]\n",
    "#- Folders\n",
    "    print('    Folders:')\n",
    "    for content in cDirList:\n",
    "        print('       ', '/' + content['name'])\n",
    "\n",
    "#- Branches\n",
    "    print('    Branches:')\n",
    "    branchs = requests.get(repo['branches_url'].replace('{/branch}',''),auth=auth)\n",
    "    for branch in branchs.json():\n",
    "        print('         ' ,branch['name'])\n",
    "        branchContents = requests.get(repo['branches_url'].replace('{/branch}','/'+branch['name'])\n",
    "                                      ,auth=auth)\n",
    "        branchContent = branchContents.json()['commit']['commit']\n",
    "        print('              Author:',branchContent['author'] ['name'])\n",
    "        print('              Date:  ' ,branchContent ['author'] ['date'] )             \n",
    "#-Folder Contents\n",
    "    print('    Folder Contents:')\n",
    "    for folder in cDirList:\n",
    "        print('        /'+ folder['name'])\n",
    "        fContents = requests.get(folder['url'] , auth=auth   )\n",
    "        cFileList2 = []  ;   cDirList2 = []\n",
    "        [cFileList2.append(x) for x in fContents.json() if x['type'] == 'file' ]\n",
    "        for content in cFileList2:\n",
    "            print('           '+ content['name'])\n",
    "        [cDirList2.append(x) for x in fContents.json() if x['type'] == 'dir' ]            \n",
    "        for content in cDirList2:\n",
    "            print('           /'+ content['name'])     \n",
    "            folder2 = folder['name'] + '/' + content['name']\n",
    "#             print(contentsUrl.replace('{+path}',folder2 ))\n",
    "            fContents2 = requests.get(contentsUrl.replace('{+path}',folder2),auth=auth)\n",
    "            cFileList3 = []  ;   cDirList3 = []\n",
    "            [cFileList3.append(x) for x in fContents2.json() if x['type'] == 'file' ]    \n",
    "            for content2 in cFileList3:\n",
    "                print('               ', content2['name'] )\n",
    "            [cDirList3.append(x) for x in fContents2.json() if x['type'] == 'dir' ] \n",
    "            for content2 in cDirList3:\n",
    "                print('               ', content2['name'] )                \n",
    "#- Issues\n",
    "    print('    Open Issues:')\n",
    "    issues = requests.get(repo['issues_url'].replace('{/number}',''),auth=auth)\n",
    "    for issue in issues.json():\n",
    "        if 'open' in issue['state']:\n",
    "            print('         ' ,str(issue['number']) + ' - ' +  issue['body'])    \n",
    "    print('\\n---' )\n",
    "print('----------')\n",
    "# pprint.pprint(branchContent)\n",
    "# pprint.pprint(response.text)"
   ]
  },
  {
   "cell_type": "markdown",
   "id": "21ef2d5f",
   "metadata": {},
   "source": [
    "## List Branches"
   ]
  },
  {
   "cell_type": "code",
   "execution_count": null,
   "id": "f8eee040",
   "metadata": {
    "ExecuteTime": {
     "end_time": "2021-12-27T21:10:51.672790Z",
     "start_time": "2021-12-27T21:10:51.349183Z"
    },
    "code_folding": []
   },
   "outputs": [],
   "source": [
    "# pprint.pprint(repo)\n",
    "print(repo['branches_url'].replace('{/branch}',''))\n",
    "branchContents = requests.get(repo['branches_url'].replace('{/branch}','/alpha'),auth=auth)\n",
    "branch = branchContents.json()\n",
    "print('     ' ,branch['name'])\n",
    "print( '         ' , branch['commit'] ['commit'] ['message'])\n",
    "print('         ' ,branch['commit'] ['commit'] ['author'] ['name'])\n",
    "print('         ' ,branch['commit'] ['commit'] ['author'] ['date'] )\n"
   ]
  },
  {
   "cell_type": "code",
   "execution_count": null,
   "id": "202ba757",
   "metadata": {
    "ExecuteTime": {
     "end_time": "2021-12-28T11:07:57.903347Z",
     "start_time": "2021-12-28T11:07:57.612911Z"
    }
   },
   "outputs": [],
   "source": [
    "    print('    Open Issues:')\n",
    "    issues = requests.get(repo['issues_url'].replace('{/number}',''),auth=auth)\n",
    "    \n",
    "    for issue in issues.json():\n",
    "#         pprint.pprint(issue)\n",
    "        if 'opexn' in issue['state']:\n",
    "            print('         ' ,str(issue['number']) + ' - ' +  issue['body'])"
   ]
  }
 ],
 "metadata": {
  "kernelspec": {
   "display_name": "Python 3 (ipykernel)",
   "language": "python",
   "name": "python3"
  },
  "language_info": {
   "codemirror_mode": {
    "name": "ipython",
    "version": 3
   },
   "file_extension": ".py",
   "mimetype": "text/x-python",
   "name": "python",
   "nbconvert_exporter": "python",
   "pygments_lexer": "ipython3",
   "version": "3.8.10"
  },
  "toc": {
   "base_numbering": 1,
   "nav_menu": {},
   "number_sections": true,
   "sideBar": false,
   "skip_h1_title": false,
   "title_cell": "Table of Contents",
   "title_sidebar": "Contents",
   "toc_cell": false,
   "toc_position": {
    "height": "412px",
    "left": "32px",
    "top": "178px",
    "width": "165px"
   },
   "toc_section_display": true,
   "toc_window_display": true
  },
  "varInspector": {
   "cols": {
    "lenName": 16,
    "lenType": 16,
    "lenVar": 40
   },
   "kernels_config": {
    "python": {
     "delete_cmd_postfix": "",
     "delete_cmd_prefix": "del ",
     "library": "var_list.py",
     "varRefreshCmd": "print(var_dic_list())"
    },
    "r": {
     "delete_cmd_postfix": ") ",
     "delete_cmd_prefix": "rm(",
     "library": "var_list.r",
     "varRefreshCmd": "cat(var_dic_list()) "
    }
   },
   "types_to_exclude": [
    "module",
    "function",
    "builtin_function_or_method",
    "instance",
    "_Feature"
   ],
   "window_display": false
  }
 },
 "nbformat": 4,
 "nbformat_minor": 5
}
