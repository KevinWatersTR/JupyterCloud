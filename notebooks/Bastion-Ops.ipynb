{
 "cells": [
  {
   "cell_type": "markdown",
   "metadata": {},
   "source": [
    "# Overview\n",
    "\n"
   ]
  },
  {
   "cell_type": "markdown",
   "metadata": {},
   "source": [
    "## Prerequisites \n",
    "<br>\n",
    "<p>Add the following to the DEFAULT profile to your \\.oci\\config file:\n",
    "    </p>\n",
    "    \n",
    "```sh\n",
    "target_profile = <Your Profile>\n",
    "```\n",
    "\n",
    "<p>The value in your target profile will be your working profile.  Under this profile, add the following:</p>\n",
    "\n",
    "```sh\n",
    "auth_profile = <Name of your security profile>\n",
    "target_compartment = <Compartment where you will create Bastion Sessions>\n",
    "```\n"
   ]
  },
  {
   "cell_type": "markdown",
   "metadata": {},
   "source": [
    "## Assumptions\n",
    "\n",
    "##### Windows environments only can be used"
   ]
  },
  {
   "cell_type": "markdown",
   "metadata": {},
   "source": [
    "# Prerequisites"
   ]
  },
  {
   "cell_type": "markdown",
   "metadata": {},
   "source": [
    "## Imports and Initializations"
   ]
  },
  {
   "cell_type": "code",
   "execution_count": null,
   "metadata": {
    "ExecuteTime": {
     "end_time": "2022-02-01T13:59:19.411103Z",
     "start_time": "2022-02-01T13:58:55.903779Z"
    },
    "code_folding": [
     22
    ]
   },
   "outputs": [],
   "source": [
    "import oci\n",
    "from pyUtils.token_signer import token_signer\n",
    "import pprint, json\n",
    "import datetime\n",
    "import pytz\n",
    "from dateutil.relativedelta import relativedelta\n",
    "from IPython.display import display, Math, HTML, Markdown\n",
    "display(HTML(\"<style>.container { width:80% !important; }</style>\"))\n",
    "display(HTML(\"<style>div.output_scroll { height: 70em; }</style>\"))\n",
    "\n",
    "# Read \"target_profile\" from .oci/config file\n",
    "try:\n",
    "    tenancyProfile = oci.config.from_file()['target_profile']\n",
    "except:\n",
    "    print('A Target Profile not found in config file.  Using Default Profile')\n",
    "    tenancyProfile = 'DEFAULT'\n",
    "\n",
    "tenancyConfig = oci.config.from_file(profile_name=tenancyProfile)\n",
    "bastion_client = oci.bastion.BastionClient(\n",
    "                        {'region':oci.config.from_file(profile_name=tenancyProfile)['region']},\n",
    "                        signer=token_signer(tenancyConfig['auth_profile'])  )\n",
    "\n",
    "def create_session (session_type,sessionName,resourcePort,targetResourceId,targetIP):\n",
    "    create_session_response = bastion_client.create_session(\n",
    "        create_session_details=oci.bastion.models.CreateSessionDetails(\n",
    "            bastion_id=bastionId,\n",
    "            target_resource_details=oci.bastion.models.CreateManagedSshSessionTargetResourceDetails(\n",
    "                session_type=session_type,\n",
    "                target_resource_operating_system_user_name=\"opc\",\n",
    "                target_resource_id= targetResourceId ,\n",
    "                target_resource_port=resourcePort,\n",
    "                target_resource_private_ip_address=targetIP),\n",
    "            key_details=keyDetails,\n",
    "            display_name=sessionName,\n",
    "            key_type=\"PUB\",\n",
    "            session_ttl_in_seconds=10800)\n",
    "        ) \n",
    "    return create_session_response.__dict__['data']\n"
   ]
  },
  {
   "cell_type": "markdown",
   "metadata": {},
   "source": [
    "## Required settings"
   ]
  },
  {
   "cell_type": "code",
   "execution_count": null,
   "metadata": {
    "ExecuteTime": {
     "end_time": "2022-02-01T14:48:34.535707Z",
     "start_time": "2022-02-01T14:48:34.502212Z"
    }
   },
   "outputs": [],
   "source": [
    "sessionNamePrefix = 'My_Bastion_'\n",
    "forwardPort = 2030\n",
    "# Required Settings\n",
    "bastionId=  tenancyConfig['target_bastion']\n",
    "targetResourceId = tenancyConfig['target_bastion_resource']\n",
    "targetIP = tenancyConfig['target_bastion_resource_ip']\n",
    "publicKeyLocation = tenancyConfig['bastion_public_key_location']\n",
    "privateKeyLocation = tenancyConfig['bastion_private_key_location']\n",
    "preferred_timezone = tenancyConfig['preferred_timezone']\n",
    "with open(publicKeyLocation, mode='r') as public_file:\n",
    "    key_data = public_file.read()\n",
    "sshKey=key_data\n",
    "keyDetails = oci.bastion.models.PublicKeyDetails(public_key_content=sshKey) "
   ]
  },
  {
   "cell_type": "markdown",
   "metadata": {},
   "source": [
    "# Bastion"
   ]
  },
  {
   "cell_type": "markdown",
   "metadata": {
    "ExecuteTime": {
     "end_time": "2021-09-21T16:22:35.165323Z",
     "start_time": "2021-09-21T16:22:35.160323Z"
    }
   },
   "source": [
    "## List Bastion Sessions and SSH Commands"
   ]
  },
  {
   "cell_type": "code",
   "execution_count": null,
   "metadata": {
    "ExecuteTime": {
     "end_time": "2022-02-01T21:28:21.214588Z",
     "start_time": "2022-02-01T21:28:20.241997Z"
    },
    "code_folding": [
     8,
     9
    ]
   },
   "outputs": [],
   "source": [
    "bastion_client = oci.bastion.BastionClient(\n",
    "                        {'region':oci.config.from_file(profile_name=tenancyProfile)['region']},\n",
    "                        signer=token_signer(tenancyConfig['auth_profile'])  )\n",
    "\n",
    "list_sessions_response = bastion_client.list_sessions( bastion_id=bastionId )\n",
    "sessions = list_sessions_response.__dict__['data']\n",
    "print('\\nMy Sessions\\n--------\\n')\n",
    "\n",
    "for session in sessions:\n",
    "    if 'ACTIVE' in session.lifecycle_state and sessionNamePrefix in session.display_name:\n",
    "#             sessionNamePrefix in session.target_resource_details.target_resource_display_name:\n",
    "        print('Session Name: ' ,session.display_name)\n",
    "        print('    Session Type: ' ,session.target_resource_details.session_type)\n",
    "        print('    Session Created: ' ,session.time_created.astimezone(pytz.timezone(preferred_timezone)).strftime(\"%m/%d/%Y %H:%M:%S %Z\")   )\n",
    "        timeout = session.time_created  + relativedelta(seconds=session.session_ttl_in_seconds) \n",
    "        print('    Session Timeout: ' ,  timeout.astimezone(pytz.timezone(preferred_timezone)).strftime(\"%m/%d/%Y %H:%M:%S %Z\")  )\n",
    "        print()\n",
    "        devSessionData = bastion_client.get_session(session.id)\n",
    "        devSessionSSH = devSessionData.__dict__['data'].ssh_metadata['command']\n",
    "#         print('SSH Command: ', devSessionSSH)\n",
    "        if 'PORT' in str(session.target_resource_details.session_type):\n",
    "            devSessionSSH = devSessionSSH + ' -v'\n",
    "        devSessionSSH = devSessionSSH.replace('<privateKey>',privateKeyLocation)\n",
    "        devSessionSSH = devSessionSSH.replace('<localPort>',str(forwardPort))\n",
    "        sshCmd = \"\"\"\n",
    "```os\n",
    "SSHCMD\n",
    "```\n",
    "\"\"\"\n",
    "        print('    SSH Command: ' )\n",
    "        display(Markdown(sshCmd.replace('SSHCMD',devSessionSSH  )     ))\n",
    "#         print('    SSH Command: \\n\\n', devSessionSSH.replace('<localPort>',str(forwardPort)))\n",
    "        print('\\n    -------\\n')\n",
    "\n",
    "print('\\n\\n')"
   ]
  },
  {
   "cell_type": "markdown",
   "metadata": {},
   "source": [
    "## Create Bastion Session"
   ]
  },
  {
   "cell_type": "markdown",
   "metadata": {},
   "source": [
    "### Create Managed SSH Session"
   ]
  },
  {
   "cell_type": "code",
   "execution_count": null,
   "metadata": {
    "ExecuteTime": {
     "end_time": "2022-02-01T21:26:18.582616Z",
     "start_time": "2022-02-01T21:26:15.578741Z"
    },
    "scrolled": true
   },
   "outputs": [],
   "source": [
    "bastion_client = oci.bastion.BastionClient(\n",
    "                        {'region':oci.config.from_file(profile_name=tenancyProfile)['region']},\n",
    "                        signer=token_signer(tenancyConfig['auth_profile'])  )\n",
    "\n",
    "session_type = \"MANAGED_SSH\"\n",
    "resourcePort = 22\n",
    "\n",
    "managedSession = create_session(session_type,sessionNamePrefix+session_type,\n",
    "                             resourcePort,targetResourceId, targetIP  )\n",
    "print('Managed Session -  ', managedSession.display_name + ' - being created in in Bastion: ' + managedSession.bastion_name  )\n",
    "print('Session being create for ' + managedSession.target_resource_details.target_resource_display_name \n",
    "     + ' with IP Address: ' +   managedSession.target_resource_details.target_resource_private_ip_address\n",
    "     + ' using Port ' + str(managedSession.target_resource_details.target_resource_port))\n",
    "print('\\nRun List of Bastion Session to verify when Session is completed')\n",
    "print('Copy and paste ssh command to your MobaXterm (or whatever you are using)')\n",
    "# pprint.pprint(managedSession)"
   ]
  },
  {
   "cell_type": "markdown",
   "metadata": {},
   "source": [
    "### Create Port Forwarding Session"
   ]
  },
  {
   "cell_type": "code",
   "execution_count": null,
   "metadata": {
    "ExecuteTime": {
     "end_time": "2022-02-01T21:26:29.070199Z",
     "start_time": "2022-02-01T21:26:26.923008Z"
    }
   },
   "outputs": [],
   "source": [
    "session_type = \"PORT_FORWARDING\"\n",
    "sessionName = 'DevInst2_Port_Forwarding'\n",
    "resourcePort = 22\n",
    "\n",
    "portForwardSession = create_session(session_type,sessionNamePrefix+session_type,resourcePort, targetResourceId, targetIP  )\n",
    "\n",
    "print('Port Forwarding Session -  ', portForwardSession.display_name + ' - being created in in Bastion: ' + portForwardSession.bastion_name  )\n",
    "print('Session being create for ' + portForwardSession.target_resource_details.target_resource_display_name \n",
    "     + ' with IP Address: ' +   portForwardSession.target_resource_details.target_resource_private_ip_address\n",
    "     + ' using Port ' + str(portForwardSession.target_resource_details.target_resource_port))\n",
    "print('\\nRun List of Bastion Session to verify when Session is completed')\n",
    "print('Copy and paste ssh command to your MobaXterm (or whatever you are using)')\n",
    "# pprint.pprint(portForwardSession)"
   ]
  },
  {
   "cell_type": "code",
   "execution_count": null,
   "metadata": {},
   "outputs": [],
   "source": []
  }
 ],
 "metadata": {
  "kernelspec": {
   "display_name": "Python 3 (ipykernel)",
   "language": "python",
   "name": "python3"
  },
  "language_info": {
   "codemirror_mode": {
    "name": "ipython",
    "version": 3
   },
   "file_extension": ".py",
   "mimetype": "text/x-python",
   "name": "python",
   "nbconvert_exporter": "python",
   "pygments_lexer": "ipython3",
   "version": "3.8.10"
  },
  "toc": {
   "base_numbering": 1,
   "nav_menu": {},
   "number_sections": true,
   "sideBar": true,
   "skip_h1_title": false,
   "title_cell": "Table of Contents",
   "title_sidebar": "Contents",
   "toc_cell": false,
   "toc_position": {
    "height": "755.868px",
    "left": "96px",
    "top": "53.97px",
    "width": "255.933px"
   },
   "toc_section_display": true,
   "toc_window_display": true
  },
  "varInspector": {
   "cols": {
    "lenName": 16,
    "lenType": 16,
    "lenVar": 40
   },
   "kernels_config": {
    "python": {
     "delete_cmd_postfix": "",
     "delete_cmd_prefix": "del ",
     "library": "var_list.py",
     "varRefreshCmd": "print(var_dic_list())"
    },
    "r": {
     "delete_cmd_postfix": ") ",
     "delete_cmd_prefix": "rm(",
     "library": "var_list.r",
     "varRefreshCmd": "cat(var_dic_list()) "
    }
   },
   "types_to_exclude": [
    "module",
    "function",
    "builtin_function_or_method",
    "instance",
    "_Feature"
   ],
   "window_display": false
  }
 },
 "nbformat": 4,
 "nbformat_minor": 2
}
