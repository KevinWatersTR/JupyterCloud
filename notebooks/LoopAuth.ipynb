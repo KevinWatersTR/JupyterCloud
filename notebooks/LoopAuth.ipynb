{
 "cells": [
  {
   "cell_type": "markdown",
   "metadata": {},
   "source": [
    "# Overview\n",
    "\n"
   ]
  },
  {
   "cell_type": "markdown",
   "metadata": {},
   "source": [
    "## Prerequisites \n",
    "\n",
    "##### Add the following to the target profile to your \\.oci\\config file:\n",
    "\n",
    "A profile name for the Authentication (different than your target profile):   `auth_profile = xxxx`\n",
    "\n",
    "Target compartment where work will be performed:  `target_compartment = xxxxx`"
   ]
  },
  {
   "cell_type": "markdown",
   "metadata": {},
   "source": [
    "## Assumptions\n",
    "\n",
    "<div class=\"alert alert-block alert-warning\"><b>Warning: </b> Should only be used on Windows environments where multi-factor authentication is required. </div>"
   ]
  },
  {
   "cell_type": "markdown",
   "metadata": {},
   "source": [
    "# Authentication "
   ]
  },
  {
   "cell_type": "markdown",
   "metadata": {},
   "source": [
    "## Initialize"
   ]
  },
  {
   "cell_type": "code",
   "execution_count": null,
   "metadata": {
    "ExecuteTime": {
     "end_time": "2021-12-24T09:32:12.737876Z",
     "start_time": "2021-12-24T09:31:34.215700Z"
    }
   },
   "outputs": [],
   "source": [
    "import oci\n",
    "import os\n",
    "import sys\n",
    "import time\n",
    "import subprocess\n",
    "def runCommand(pCommand):\n",
    "    command=pCommand\n",
    "    process = subprocess.Popen(command, shell=True, stdout=subprocess.PIPE, stderr=subprocess.PIPE)\n",
    "    out, err = process.communicate()\n",
    "    return out.decode('utf-8'),  err.decode('utf-8')\n",
    "\n",
    "tenancyProfile = 'tr-ash'\n",
    "tenancyConfig = oci.config.from_file(profile_name=tenancyProfile)\n",
    "tenancyAuthProfile = tenancyConfig['auth_profile']\n",
    "config = ' --profile ' + tenancyAuthProfile + ' --auth security_token '\n",
    "print('\\nConfiguration Parameters are: ', config)\n",
    "# print('\\nCreate Auth Export Zip file : ', 'oci session export --profile ' + securityProfile + ' --output-file tr-sso --force' )"
   ]
  },
  {
   "cell_type": "markdown",
   "metadata": {},
   "source": [
    "## Authenticate Session"
   ]
  },
  {
   "cell_type": "code",
   "execution_count": null,
   "metadata": {
    "ExecuteTime": {
     "start_time": "2021-12-25T16:55:59.574Z"
    }
   },
   "outputs": [],
   "source": [
    "\n",
    "command = 'oci session authenticate --region ' + tenancyConfig['region'] + \\\n",
    "        ' --profile ' + tenancyProfile + ' --profile-name ' + tenancyAuthProfile\n",
    "print('Creating Session for: ',tenancyAuthProfile )\n",
    "print('Running command: ',command )\n",
    "stdout, stderr = runCommand(command)\n",
    "print(stderr)\n",
    "print(stdout)"
   ]
  },
  {
   "cell_type": "markdown",
   "metadata": {
    "heading_collapsed": true
   },
   "source": [
    "## Validate Session"
   ]
  },
  {
   "cell_type": "code",
   "execution_count": null,
   "metadata": {
    "ExecuteTime": {
     "end_time": "2021-12-16T14:26:02.408147Z",
     "start_time": "2021-12-16T14:25:57.517855Z"
    },
    "hidden": true
   },
   "outputs": [],
   "source": [
    "command = 'oci session validate --profile ' + tenancyAuthProfile\n",
    "print('Validating Session for: ',tenancyAuthProfile )\n",
    "print('Running command: ',command )\n",
    "stdout, stderr = runCommand(command)\n",
    "print(stderr)\n",
    "print(stdout)"
   ]
  },
  {
   "cell_type": "markdown",
   "metadata": {},
   "source": [
    "## Refresh Session"
   ]
  },
  {
   "cell_type": "code",
   "execution_count": null,
   "metadata": {
    "ExecuteTime": {
     "end_time": "2021-12-24T09:33:39.646680Z",
     "start_time": "2021-12-24T09:33:26.950214Z"
    },
    "cell_style": "center"
   },
   "outputs": [],
   "source": [
    "command = 'oci session refresh --profile ' + tenancyAuthProfile\n",
    "print('Refreshing Session for: ',tenancyAuthProfile )\n",
    "print('Running command: ',command )\n",
    "stdout, stderr = runCommand(command)\n",
    "print(stderr)\n",
    "command = 'oci session validate --profile ' + tenancyAuthProfile\n",
    "print('Validating Session for: ',tenancyAuthProfile )\n",
    "print('Running command: ',command )\n",
    "stdout, stderr = runCommand(command)\n",
    "print(stderr)"
   ]
  },
  {
   "cell_type": "markdown",
   "metadata": {
    "cell_style": "center"
   },
   "source": [
    "## Repeat Session Refresh"
   ]
  },
  {
   "cell_type": "code",
   "execution_count": null,
   "metadata": {
    "ExecuteTime": {
     "start_time": "2021-12-23T21:26:04.781Z"
    }
   },
   "outputs": [],
   "source": [
    "for i in range(0,4):\n",
    "    \n",
    "    print('Starting run: ', i)\n",
    "    command = 'oci session refresh --profile ' + tenancyAuthProfile\n",
    "    print('Refreshing Session for: ',tenancyAuthProfile )\n",
    "    print('Running command: ',command )\n",
    "    stdout, stderr = runCommand(command)\n",
    "    print(stderr)\n",
    "    \n",
    "    command = 'oci session validate --profile ' + tenancyAuthProfile\n",
    "    print('Validating Session for: ',tenancyAuthProfile )\n",
    "    print('Running command: ',command )\n",
    "    stdout, stderr = runCommand(command)\n",
    "    print(stderr)\n",
    "    \n",
    "    print('Sleeping for: ' + str(58) + '  minutes\\n\\n')\n",
    "    time.sleep(60 * 58)\n",
    "    \n",
    "print('DONE !!!')"
   ]
  },
  {
   "cell_type": "code",
   "execution_count": null,
   "metadata": {},
   "outputs": [],
   "source": []
  }
 ],
 "metadata": {
  "kernelspec": {
   "display_name": "Python 3 (ipykernel)",
   "language": "python",
   "name": "python3"
  },
  "language_info": {
   "codemirror_mode": {
    "name": "ipython",
    "version": 3
   },
   "file_extension": ".py",
   "mimetype": "text/x-python",
   "name": "python",
   "nbconvert_exporter": "python",
   "pygments_lexer": "ipython3",
   "version": "3.8.10"
  },
  "toc": {
   "base_numbering": 1,
   "nav_menu": {},
   "number_sections": true,
   "sideBar": true,
   "skip_h1_title": false,
   "title_cell": "Table of Contents",
   "title_sidebar": "Contents",
   "toc_cell": false,
   "toc_position": {
    "height": "calc(100% - 180px)",
    "left": "10px",
    "top": "150px",
    "width": "255.946px"
   },
   "toc_section_display": true,
   "toc_window_display": true
  },
  "varInspector": {
   "cols": {
    "lenName": 16,
    "lenType": 16,
    "lenVar": 40
   },
   "kernels_config": {
    "python": {
     "delete_cmd_postfix": "",
     "delete_cmd_prefix": "del ",
     "library": "var_list.py",
     "varRefreshCmd": "print(var_dic_list())"
    },
    "r": {
     "delete_cmd_postfix": ") ",
     "delete_cmd_prefix": "rm(",
     "library": "var_list.r",
     "varRefreshCmd": "cat(var_dic_list()) "
    }
   },
   "types_to_exclude": [
    "module",
    "function",
    "builtin_function_or_method",
    "instance",
    "_Feature"
   ],
   "window_display": false
  }
 },
 "nbformat": 4,
 "nbformat_minor": 2
}
