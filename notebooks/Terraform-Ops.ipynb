{
 "cells": [
  {
   "cell_type": "markdown",
   "id": "f6a69d78",
   "metadata": {},
   "source": [
    "# Overview of Terraform Ops Notebook"
   ]
  },
  {
   "cell_type": "markdown",
   "id": "aba4686e",
   "metadata": {},
   "source": [
    "## How to Use this Notebook\n",
    "<p>\n",
    "This notebook shows you how to easily explore Terraform features and functions by directly using the OCI Comand Line Interface (CLI).  First you will need to have the CLI tool installed on your machine and working.  Then you add a few elements to your config file as noted below, then Authenticate to your tenancy using the notebook cell provided.\n",
    "</p>\n"
   ]
  },
  {
   "cell_type": "markdown",
   "id": "809a67da",
   "metadata": {
    "ExecuteTime": {
     "end_time": "2021-12-19T16:56:26.670640Z",
     "start_time": "2021-12-19T16:56:26.660340Z"
    }
   },
   "source": [
    "## References\n"
   ]
  },
  {
   "cell_type": "markdown",
   "id": "46981787",
   "metadata": {},
   "source": [
    "Resource Manager Stacks and Jobs [link](https://docs.oracle.com/en-us/iaas/Content/ResourceManager/Tasks/managingstacksandjobs.htm#stackstate  \"Stacks and Jobs\")\n"
   ]
  },
  {
   "cell_type": "markdown",
   "id": "f82d5caf",
   "metadata": {},
   "source": [
    "# Initialize Connection to Tenancy\n",
    "\n"
   ]
  },
  {
   "cell_type": "code",
   "execution_count": null,
   "id": "ccb8f660",
   "metadata": {
    "ExecuteTime": {
     "end_time": "2022-02-09T09:30:23.165036Z",
     "start_time": "2022-02-09T09:29:56.523155Z"
    }
   },
   "outputs": [],
   "source": [
    "import oci\n",
    "import pprint\n",
    "from pyUtils.token_signer import token_signer\n",
    "import json ,  pprint\n",
    "from IPython.display import display, Math, HTML, Markdown\n",
    "from pyUtils.runCLI import runCLI\n",
    "\n",
    "display(HTML(\"<style>.container { width:75% !important; }</style>\"))\n",
    "# display(HTML(\"<style>div.output_scroll { height: 70em; }</style>\"))\n",
    "\n",
    "try:\n",
    "    tenancyProfile = oci.config.from_file()['target_profile']\n",
    "except:\n",
    "    print('A Target Profile not found in config file.  Using Default Profile')\n",
    "    tenancyProfile = 'DEFAULT'\n",
    "\n",
    "tenancyConfig = oci.config.from_file(profile_name=tenancyProfile)\n",
    "\n",
    "config = ' --profile ' + tenancyConfig['auth_profile'] +  ' --auth security_token'\n",
    "print('CLI Auth config string is: ', config)\n",
    "print('Repository URL:', tenancyConfig['source_repository_url'])\n",
    "print('Repository Git Branch:', tenancyConfig['source_branch_name'])\n",
    "print('Repository Source Working Directory:', tenancyConfig['source_working_directory'])\n",
    "print(\"Auth Profile\"   ,tenancyConfig['auth_profile']) "
   ]
  },
  {
   "cell_type": "code",
   "execution_count": null,
   "id": "6a2a52b2",
   "metadata": {},
   "outputs": [],
   "source": [
    "def testx(**kwargs):\n",
    "    print('kwargs: ', kwargs)\n",
    "    for key,val in kwargs.items():\n",
    "        print(key)\n",
    "        \n",
    "testx(a=1,b=2)"
   ]
  },
  {
   "cell_type": "markdown",
   "id": "effea37a",
   "metadata": {},
   "source": [
    "# Terraform CLI\n"
   ]
  },
  {
   "cell_type": "markdown",
   "id": "677eadf5",
   "metadata": {},
   "source": [
    "## Stacks"
   ]
  },
  {
   "cell_type": "markdown",
   "id": "79ef0563",
   "metadata": {},
   "source": [
    "### Stack List "
   ]
  },
  {
   "cell_type": "code",
   "execution_count": null,
   "id": "5c86230d",
   "metadata": {
    "ExecuteTime": {
     "end_time": "2022-02-08T10:30:32.678537Z",
     "start_time": "2022-02-08T10:30:25.782275Z"
    },
    "code_folding": [
     10
    ]
   },
   "outputs": [],
   "source": [
    "command = 'oci resource-manager stack list  --compartment-id ' \\\n",
    "        + tenancyConfig['target_compartment']  + config\n",
    "print('Command: \\n', command)\n",
    "stdout, stderr = runCLI(command)\n",
    "print(stderr)\n",
    "stacks = {}\n",
    "try:\n",
    "    stacks = json.loads(stdout)\n",
    "    print('There were ' + str(len(stacks['data']) )+ '  Stacks Found')\n",
    "    stackDict = {}\n",
    "    for stack in stacks['data']:\n",
    "        print(stack['display-name'])\n",
    "        print('    Description: '  ,stack['description'])\n",
    "        print('    Stack ID: ',stack['id'])\n",
    "        print('    Time Created: ', stack['time-created'])\n",
    "        print('    Status: ', stack['lifecycle-state'])\n",
    "        print('    Terraform Version: ', stack['terraform-version'])\n",
    "        stackDict[stack['display-name']] = stack['id']\n",
    "        print('--')\n",
    "except:\n",
    "    print( 'Json convert error, likely No Data Found' ,stdout)\n",
    "# pprint.pprint(stackDict)"
   ]
  },
  {
   "cell_type": "markdown",
   "id": "f5a55c48",
   "metadata": {},
   "source": [
    "### Get Stack"
   ]
  },
  {
   "cell_type": "code",
   "execution_count": null,
   "id": "479e7d50",
   "metadata": {
    "ExecuteTime": {
     "end_time": "2022-02-08T10:40:41.549196Z",
     "start_time": "2022-02-08T10:40:35.188785Z"
    },
    "code_folding": []
   },
   "outputs": [],
   "source": [
    "targetStack = 'ocid1.ormstack.oc1.iad.jjjjjjj'\n",
    "stackId = targetStack\n",
    "command = ' oci resource-manager stack get --stack-id  ' + stackId +  config\n",
    "print('Command: \\n', command)\n",
    "stdout, stderr = runCLI(command)\n",
    "print(stderr)\n",
    "stack = ''\n",
    "# try:\n",
    "stack = json.loads(stdout)\n",
    "print(stack['data']['display-name'])\n",
    "try:\n",
    "    print('    Git Branch: ',stack['data']['config-source']['branch-name'])\n",
    "    print('    Git Directory: ',stack['data']['config-source']['working-directory'])\n",
    "except:\n",
    "    print('Not in Github')\n",
    "print('    Status: ',stack['data']['lifecycle-state'])\n",
    "print('    Time Created: ', stack['data']['time-created'])\n",
    "print('    Stack ID: ',stack['data']['id'])\n",
    "# except:\n",
    "#     print ('Error: ',stdout )\n",
    "print('\\n---------------')\n"
   ]
  },
  {
   "cell_type": "markdown",
   "id": "5d2094f3",
   "metadata": {},
   "source": [
    "### Get Stack's State"
   ]
  },
  {
   "cell_type": "code",
   "execution_count": null,
   "id": "302e4cb0",
   "metadata": {
    "ExecuteTime": {
     "end_time": "2022-02-08T10:41:25.487769Z",
     "start_time": "2022-02-08T10:41:18.825745Z"
    }
   },
   "outputs": [],
   "source": [
    "file = \"\\\"-\\\"\"\n",
    "stackId = 'ocid1.ormstack.oc1.iad.aaaaaaaa'\n",
    "stackId = targetStack\n",
    "command = 'oci resource-manager stack get-stack-tf-state --stack-id  ' \\\n",
    "          + stackId + ' --file ' + file + config\n",
    "print('Command: \\n', command)\n",
    "stdout, stderr = runCLI(command)\n",
    "\n",
    "try:\n",
    "    stackStates = json.loads(stdout)\n",
    "except:\n",
    "    print ('Error: ',stderr )\n",
    "print('\\nFetch State Complete, run cell below !')\n",
    "# pprint.pprint(stackStates)"
   ]
  },
  {
   "cell_type": "markdown",
   "id": "5faa7820",
   "metadata": {},
   "source": [
    "### Stack Report"
   ]
  },
  {
   "cell_type": "code",
   "execution_count": null,
   "id": "aae98c03",
   "metadata": {
    "ExecuteTime": {
     "end_time": "2022-02-08T10:59:16.165502Z",
     "start_time": "2022-02-08T10:59:16.061271Z"
    },
    "code_folding": [
     27,
     44,
     56,
     62,
     77,
     94,
     108,
     132
    ]
   },
   "outputs": [],
   "source": [
    "object_storage_client = oci.object_storage.ObjectStorageClient(\n",
    "                        {'region':oci.config.from_file(profile_name=tenancyProfile)['region']},\n",
    "                        signer=token_signer(tenancyConfig['auth_profile'])  )\n",
    "#get_namespace_response = object_storage_client.get_namespace()\n",
    "resourceMap = {}\n",
    "resourceMap['Environment-Name']='Development'\n",
    "resourceMap['Environment-Prefix']='dev_'\n",
    "resourceMap['Environment-Descr']='Build Environment to Debug Terraform template'\n",
    "resourceMap['namespace'] = get_namespace_response.data\n",
    "envResourceMap = resourceMap\n",
    "envResourceMap['HC Monitors'] = []\n",
    "envResourceMap['API Gateways'] = []\n",
    "envResourceMap['API Gateway Deployments'] = []\n",
    "envResourceMap['Function Applications'] = []\n",
    "envResourceMap['Functions'] = []\n",
    "envResourceMap['Object Storage Buckets'] = []\n",
    "envResourceMap['Event Rules'] = []\n",
    "envResourceMap['Logging'] = []\n",
    "\n",
    "stackOrder = ['httpmonitor', 'apigateway','apideployment', 'fnapp'  , 'fnfunc' \n",
    "              ,  resourceMap['namespace'],   'eventrule'   , '.log.'   ]\n",
    "print('Stack Resource Listing\\n-------------\\n')\n",
    "for instType in stackOrder:\n",
    "    for stackState in stackStates['resources'] :  \n",
    "#     try:\n",
    "        for stackStateInstance in stackState['instances']:\n",
    "            attributeId = stackStateInstance['attributes']['id']\n",
    "            if instType in attributeId and  'httpmonitor' ==  instType  :\n",
    "                print('HTTP Monitor')\n",
    "                print('    ' ,  stackStateInstance['attributes']['display_name'])\n",
    "                print('        ID:    ' ,  stackStateInstance['attributes']['id'])\n",
    "                print('        Target:' ,  stackStateInstance['attributes']['targets'][0])\n",
    "                print('        Path:  ' ,  stackStateInstance['attributes']['path'])\n",
    "                myMon = stackStateInstance\n",
    "                resourceMap[stackStateInstance['attributes']['display_name']] = \\\n",
    "                            stackStateInstance['attributes']['id']\n",
    "                newDict={}\n",
    "                newDict[stackStateInstance['attributes']['display_name']] = \\\n",
    "                    {'ID':     stackStateInstance['attributes']['id'],\n",
    "                     'Targets':stackStateInstance['attributes']['targets'][0],\n",
    "                     'Path':   stackStateInstance['attributes']['path']  \n",
    "                    }\n",
    "                envResourceMap['HC Monitors'].append(newDict)\n",
    "                continue\n",
    "            elif instType in attributeId  and  instType == resourceMap['namespace']:\n",
    "                print('Object Storage Bucket')\n",
    "                print('    ' , stackStateInstance['attributes']['name'])\n",
    "                print('        ID:' , stackStateInstance['attributes']['bucket_id'])\n",
    "                myOs = stackStateInstance\n",
    "                resourceMap[stackStateInstance['attributes']['name']] = \\\n",
    "                            stackStateInstance['attributes']['bucket_id']\n",
    "                newDict={}\n",
    "                newDict[stackStateInstance['attributes']['name']] = \\\n",
    "                    {'ID':     stackStateInstance['attributes']['bucket_id']  }\n",
    "                envResourceMap['Object Storage Buckets'].append(newDict)\n",
    "                continue                \n",
    "            elif instType in attributeId  and  instType ==  'apideployment' :\n",
    "                print('        API Gateway Deployment')\n",
    "                print('            ' , stackStateInstance['attributes']['display_name'])\n",
    "                print('                ID:      ' , stackStateInstance['attributes']['id'])       \n",
    "                print('                Endpoint:' , stackStateInstance['attributes']['endpoint'])    \n",
    "                print('                Function:' , stackStateInstance['attributes']['specification'][0]['routes'][0] ['backend'][0]['function_id'])\n",
    "                deployPath = stackStateInstance['attributes']['path_prefix']  + \\\n",
    "                    stackStateInstance['attributes']['specification'][0]['routes'][0] ['path']   \n",
    "                print('                Path:    ' , deployPath)\n",
    "                myDeply = stackStateInstance\n",
    "                resourceMap[stackStateInstance['attributes']['display_name']] = \\\n",
    "                            stackStateInstance['attributes']['id']\n",
    "                newDict={}\n",
    "                newDict[stackStateInstance['attributes']['display_name']] = \\\n",
    "                    {'ID':     stackStateInstance['attributes']['id'],\n",
    "                     'Endpoint':stackStateInstance['attributes']['endpoint'],\n",
    "                     'Function':stackStateInstance['attributes']['specification'][0]['routes'][0] ['backend'][0]['function_id'],\n",
    "                     'Path':   deployPath  \n",
    "                    }\n",
    "                envResourceMap['API Gateway Deployments'].append(newDict)\n",
    "                continue                  \n",
    "            elif instType in attributeId  and  instType ==  'apigateway' :\n",
    "                print('API Gateway')\n",
    "                myGtw = stackStateInstance\n",
    "                print('    ' , stackStateInstance['attributes']['display_name'])     \n",
    "                print('        ID:        ' , stackStateInstance['attributes']['id'])                  \n",
    "                print('        Hostname : ' , stackStateInstance['attributes']['hostname'])          \n",
    "                print('        IP Address:' , stackStateInstance['attributes']['ip_addresses'][0]['ip_address'])                    \n",
    "                resourceMap[stackStateInstance['attributes']['display_name']] = \\\n",
    "                            stackStateInstance['attributes']['id']\n",
    "                newDict={}\n",
    "                newDict[stackStateInstance['attributes']['display_name']] = \\\n",
    "                    {'ID':     stackStateInstance['attributes']['id'],  \n",
    "                     'hostname':     stackStateInstance['attributes']['hostname'],  \n",
    "                     'IP Address':     stackStateInstance['attributes']['ip_addresses'][0]['ip_address']                 \n",
    "                    }\n",
    "                envResourceMap['API Gateways'].append(newDict)\n",
    "                continue                  \n",
    "            elif instType in attributeId  and  instType ==  '.log.' :\n",
    "                print('Log')\n",
    "                print('    ' , stackStateInstance['attributes']['display_name'])\n",
    "                print('         ID:' , stackStateInstance['attributes']['id'])\n",
    "                myLog = stackStateInstance\n",
    "                resourceMap[stackStateInstance['attributes']['display_name']] = \\\n",
    "                            stackStateInstance['attributes']['id']\n",
    "                resourceMap['truccr-Log-Group'] = \\\n",
    "                            stackStateInstance['attributes']['log_group_id']\n",
    "                newDict={}\n",
    "                newDict[stackStateInstance['attributes']['display_name']] = \\\n",
    "                    {'ID':     stackStateInstance['attributes']['id']  }\n",
    "                envResourceMap['Logging'].append(newDict)\n",
    "                continue                  \n",
    "            elif instType in attributeId  and  instType ==  'eventrule' :\n",
    "                print('Event Rule')\n",
    "                print('    ' , stackStateInstance['attributes']['display_name'])   \n",
    "                print('        ID:          ' , stackStateInstance['attributes']['id'])  \n",
    "                myRule = stackStateInstance\n",
    "                conditionsStr = stackStateInstance['attributes']   ['condition']\n",
    "                conditions = json.loads(conditionsStr)\n",
    "                print('        Bucket Name: ',  conditions['data']['additionalDetails']['bucketName'][0]  )\n",
    "                print('        Filter  :    ', conditions ['data']['resourceName'][0]     )\n",
    "                eventTypes = conditions['eventType'] \n",
    "                print('        Event Types')\n",
    "                for eventType in eventTypes:\n",
    "                    print('            ', eventType)\n",
    "                resourceMap[stackStateInstance['attributes']['display_name']] = \\\n",
    "                            stackStateInstance['attributes']['id']\n",
    "                newDict={}\n",
    "                newDict[stackStateInstance['attributes']['display_name']] = \\\n",
    "                    {'ID':     stackStateInstance['attributes']['id'],\n",
    "                     'Bucket Name': conditions['data']['additionalDetails']['bucketName'][0] ,\n",
    "                     'Filter': conditions ['data']['resourceName'][0] ,\n",
    "                     'Event Types':   eventTypes  \n",
    "                    }\n",
    "                envResourceMap['Event Rules'].append(newDict)\n",
    "                continue                  \n",
    "            elif instType in attributeId  and  instType ==  'fnapp' :\n",
    "                print('Application')\n",
    "                print('    ' , stackStateInstance['attributes']['display_name'])   \n",
    "                print('        ID:' , stackStateInstance['attributes']['id'])    \n",
    "                resourceMap[stackStateInstance['attributes']['display_name']] = \\\n",
    "                            stackStateInstance['attributes']['id']\n",
    "                newDict={}\n",
    "                newDict[stackStateInstance['attributes']['display_name']] = \\\n",
    "                    {'ID':     stackStateInstance['attributes']['id']           \n",
    "                    }\n",
    "                envResourceMap['Function Applications'].append(newDict)\n",
    "                continue  \n",
    "            elif instType in attributeId  and  instType ==  'fnfunc' :\n",
    "                print('        Function')\n",
    "                print('            ' , stackStateInstance['attributes']['display_name'])    \n",
    "                print('              ID:     ' , stackStateInstance['attributes']['id'])\n",
    "                print( '              Image:  '  ,stackStateInstance['attributes']['image'])\n",
    "                configDict = stackStateInstance['attributes']['config']\n",
    "                myFunct = stackStateInstance\n",
    "                if len(configDict.keys()) > 0:\n",
    "                    print('               Configuration:')\n",
    "                    [print( '                    ' + key,':',value) for key, value in configDict.items()]\n",
    "                resourceMap[stackStateInstance['attributes']['display_name']] = \\\n",
    "                            stackStateInstance['attributes']['id']\n",
    "                newDict={}\n",
    "                newDict[stackStateInstance['attributes']['display_name']] = \\\n",
    "                    {'ID':     stackStateInstance['attributes']['id'],  \n",
    "                     'Image':     stackStateInstance['attributes']['image'],  \n",
    "                     'Configuration':  configDict,                 \n",
    "                     'Application ID': stackStateInstance['attributes']['application_id']\n",
    "                    }\n",
    "                envResourceMap['Functions'].append(newDict)\n",
    "                \n",
    "    print()\n",
    "\n",
    "print('-------------')\n",
    "with open('TFResourceMap.json', 'w') as convert_file:\n",
    "     convert_file.write(json.dumps(resourceMap))\n",
    "print('Conversion of Resource Map Complete - TFResourceMap.json'  )\n",
    "with open('envResourceMap.json', 'w') as convert_file:\n",
    "     convert_file.write(json.dumps(envResourceMap))\n",
    "print('Conversion of Environment Resource Map Complete - envResourceMap.json ' )\n",
    "#     pprint.pprint (stackState['instances'])\n",
    "print('DONE')"
   ]
  },
  {
   "cell_type": "code",
   "execution_count": null,
   "id": "a18ad37b",
   "metadata": {
    "ExecuteTime": {
     "end_time": "2022-02-02T00:43:56.282982Z",
     "start_time": "2022-02-02T00:43:56.256885Z"
    }
   },
   "outputs": [],
   "source": [
    "pprint.pprint(envResourceMap)\n"
   ]
  },
  {
   "cell_type": "code",
   "execution_count": null,
   "id": "a508a3f2",
   "metadata": {
    "ExecuteTime": {
     "end_time": "2022-01-27T21:36:09.387990Z",
     "start_time": "2022-01-27T21:36:09.365783Z"
    },
    "scrolled": false
   },
   "outputs": [],
   "source": [
    "with open('TFResourceMap.json') as f:\n",
    "    data = f.read()\n",
    "\n",
    "# reconstructing the data as a dictionary\n",
    "rMap = json.loads(data)\n",
    "for k,v in rMap.items():\n",
    "    print(k,v)\n",
    "# print(js)"
   ]
  },
  {
   "cell_type": "markdown",
   "id": "ee6906d9",
   "metadata": {},
   "source": [
    "### Stack from file\n",
    "\n",
    "<div class=\"alert alert-block alert-info\">\n",
    "<b>Tip:</b> To Check if Stack creation has completed, re-run the Stack List Report.</div>\n"
   ]
  },
  {
   "cell_type": "code",
   "execution_count": null,
   "id": "7b153aab",
   "metadata": {
    "ExecuteTime": {
     "end_time": "2021-12-23T16:07:17.747543Z",
     "start_time": "2021-12-23T16:07:11.671583Z"
    }
   },
   "outputs": [],
   "source": [
    "displayName = '\\\"My Display Name\\\"'\n",
    "stackDescription = '\\\"Whatever \\\"'\n",
    "configSource = '\\\"../terraform_files/Template.zip\\\"'\n",
    "command = 'oci resource-manager  stack create --compartment-id  ' + targetComptId \\\n",
    "          + ' --config-source ' + configSource \\\n",
    "          + ' --description ' + stackDescription \\\n",
    "          + ' --display-name ' + displayName \\\n",
    "          + ' --terraform-version  \"1.0.x\" ' \\\n",
    "          +  config\n",
    "print('Command: \\n', command)\n",
    "stdout, stderr = runCLI(command)\n",
    "print(stderr)\n",
    "try:\n",
    "    stackOut = json.loads(stdout)\n",
    "except:\n",
    "    print ('Error: ',stdout )\n",
    "\n",
    "print('Done')"
   ]
  },
  {
   "cell_type": "markdown",
   "id": "66955341",
   "metadata": {},
   "source": [
    "### Stack from Template"
   ]
  },
  {
   "cell_type": "code",
   "execution_count": null,
   "id": "e7202cc7",
   "metadata": {
    "ExecuteTime": {
     "end_time": "2021-12-24T16:15:37.306338Z",
     "start_time": "2021-12-24T16:15:31.142232Z"
    },
    "code_folding": [
     5
    ]
   },
   "outputs": [],
   "source": [
    "# variables =  '\"{\\\\\"Env\\\\\": \\\\\"Blue\\\\\", \\\\\"Log_group_id\\\\\": \\\\\"cecece\\\\\"}\"'\n",
    "displayName = '\\\" Stack 12/23 4pm \\\"'\n",
    "sourceWorkingDirectory = ''\n",
    "stackDescription = '\\\"This Stack included .DS_Store files\\\"'\n",
    "templateId = ''\n",
    "command = 'oci resource-manager stack create-from-template ' \\\n",
    "        + ' --compartment-id ' + targetComptId \\\n",
    "        + ' --description ' + stackDescription \\\n",
    "        + ' --display-name ' + displayName \\\n",
    "        + ' --template-id ' + templateId  \\\n",
    "        + ' --terraform-version  \"1.0.x\" ' \\\n",
    "        + config\n",
    "#         + ' --variables ' + variables  \\\n",
    "#         + ' --working-directory ' + sourceWorkingDirectory \\\n",
    "\n",
    "print('Command: \\n', command)\n",
    "stdout, stderr = runCLI(command)\n",
    "print(stderr)\n",
    "try:\n",
    "    stackOut = json.loads(stdout)\n",
    "except:\n",
    "    print ('Error: ',stdout )\n",
    "\n",
    "print('Done')"
   ]
  },
  {
   "cell_type": "markdown",
   "id": "f5833ba6",
   "metadata": {},
   "source": [
    "### Stack from Github"
   ]
  },
  {
   "cell_type": "markdown",
   "id": "e1e6a4df",
   "metadata": {},
   "source": [
    "#### Required Environment Config"
   ]
  },
  {
   "cell_type": "code",
   "execution_count": null,
   "id": "14dbb120",
   "metadata": {
    "ExecuteTime": {
     "end_time": "2022-02-08T00:10:09.509737Z",
     "start_time": "2022-02-08T00:10:09.474823Z"
    }
   },
   "outputs": [],
   "source": [
    "\n",
    "\n",
    "devEnvMap = {}\n",
    "devEnvMap['Environment'] = 'dev'\n",
    "devEnvMap['Log_Group_Id'] = 'ocid1.loggroup.oc1.iad.klllll'\n",
    "\n",
    "CiEnvMap = {}\n",
    "CiEnvMap['Environment'] = 'CI'\n",
    "CiEnvMap['Log_Group_Id'] = 'ocid1.loggroup.oc1.iad.lllll'\n",
    "\n",
    "\n",
    "preProdEnvMap = {}\n",
    "preProdEnvMap['Environment'] = ''\n",
    "preProdEnvMap['Log_Group_Id'] = ''\n",
    "\n",
    "convEnvMap['Environment'] = '$env'\n",
    "convEnvMap['Log_Group_Id'] = '$log_group_id'\n",
    "convEnvMap['subnet_id'] = '$subnet_id'\n",
    "convEnvMap['subnet_id_pub'] = '$subnet_id_pub'\n",
    "convEnvMap['compartment_ids'] = '$compt_id'\n",
    "convEnvMap['user_id'] = '$user_id'\n",
    "for k,v in prodEnvMap.items():\n",
    "    print('export ' +  k.replace('$','') + '='+v)"
   ]
  },
  {
   "cell_type": "markdown",
   "id": "d7117fae",
   "metadata": {},
   "source": [
    "#### Create Stack"
   ]
  },
  {
   "cell_type": "code",
   "execution_count": null,
   "id": "7e7455b2",
   "metadata": {
    "ExecuteTime": {
     "end_time": "2022-02-08T00:14:54.116726Z",
     "start_time": "2022-02-08T00:14:47.423567Z"
    }
   },
   "outputs": [],
   "source": [
    "displayName = '\\\"dev - Speedometer, branch - alpha-dev-i13 \\\"'\n",
    "stackDescription = '\\\"This Stack is a Test for Frontloader rule Filter \\\"'\n",
    "branchName = tenancyConfig['source_branch_name']\n",
    "branchName = 'alpha-dev-i13'\n",
    "workingDir = tenancyConfig['source_working_directory']\n",
    "\n",
    "envMap = preProdEnvMap\n",
    "envMap['Environment'] = devEnvMap['Environment']\n",
    "envMap['Log_Group_Id'] = devEnvMap['Log_Group_Id']\n",
    "\n",
    "variables = '\"{\\\\\"env\\\\\":\\\\\"ENV\\\\\",\\\\\"log_group_id\\\\\":\\\\\"LGID\\\\\" ,\\\\\"user_id\\\\\":\\\\\"USRID\\\\\" ' + \\\n",
    "    ',\\\\\"subnet_id\\\\\":\\\\\"SUBNET\\\\\",\\\\\"subnet_id_pub\\\\\":\\\\\"PSUBNT\\\\\" ,\\\\\"compartment_ids\\\\\":\\\\\"COMPT\\\\\" }\"'\n",
    "variables = variables.replace('ENV',envMap['Environment'] )\n",
    "variables = variables.replace('LGID',envMap['Log_Group_Id'] )\n",
    "variables = variables.replace('USRID',envMap['user_id'] )\n",
    "variables = variables.replace('SUBNET',envMap['subnet_id'] )\n",
    "variables = variables.replace('PSUBNT',envMap['subnet_id_pub'] )\n",
    "variables = variables.replace('COMPT',envMap['compartment_ids'] )\n",
    "\n",
    "command = 'oci resource-manager  stack create-from-git-provider --compartment-id  ' \\\n",
    "          + tenancyConfig['target_compartment'] \\\n",
    "          + ' --config-source-configuration-source-provider-id ' + tenancyConfig['github_source_provider']  \\\n",
    "          + ' --config-source-repository-url ' + tenancyConfig['source_repository_url'] \\\n",
    "          + ' --config-source-branch-name ' + branchName \\\n",
    "          + ' --description ' + stackDescription \\\n",
    "          + ' --display-name ' + displayName \\\n",
    "          + ' --config-source-working-directory ' + workingDir \\\n",
    "          + ' --terraform-version  \"1.0.x\" ' \\\n",
    "          + ' --variables ' + variables \\\n",
    "          +  config\n",
    " \n",
    "print('Command: \\n', command)\n",
    "# x = sssak\n",
    "stdout, stderr = runCLI(command)\n",
    "print(stderr)\n",
    "try:\n",
    "    stackOut = json.loads(stdout)\n",
    "except:\n",
    "    print ('Error: ',stdout )\n",
    "\n",
    "targetStack = stackOut['data']['id']\n",
    "print('Target Stack Name is:',stackOut['data']['display-name'] )\n",
    "print('     ID:',targetStack)\n",
    "print('---------------')\n",
    "# pprint.pprint(stackOut)\n",
    "print('Done')"
   ]
  },
  {
   "cell_type": "markdown",
   "id": "2df6bc3b",
   "metadata": {},
   "source": [
    "### Update Stack from Github"
   ]
  },
  {
   "cell_type": "code",
   "execution_count": null,
   "id": "cf03fb7d",
   "metadata": {
    "ExecuteTime": {
     "end_time": "2022-02-06T22:48:29.906520Z",
     "start_time": "2022-02-06T22:48:23.209876Z"
    },
    "code_folding": [
     4
    ],
    "scrolled": true
   },
   "outputs": [],
   "source": [
    "# displayName = '\\\"dev - Service Transmission Test - Junk \\\"'\n",
    "stackDescription = '\\\"This Stack is a Test for issue #11  \\\"'\n",
    "branchName = 'alpha-dev-i11'\n",
    "\n",
    "command = 'oci resource-manager  stack update-from-git-provider '  \\\n",
    "          + ' --config-source-configuration-source-provider-id ' + tenancyConfig['github_source_provider']  \\\n",
    "          + ' --config-source-repository-url ' + tenancyConfig['source_repository_url'] \\\n",
    "          + ' --config-source-branch-name ' + branchName \\\n",
    "          + ' --stack-id ' + targetStack \\\n",
    "          + ' --description ' + stackDescription \\\n",
    "          + ' --config-source-working-directory ' + tenancyConfig['source_working_directory'] \\\n",
    "          + ' --terraform-version  \"1.0.x\" ' \\\n",
    "          +  config\n",
    " \n",
    "print('Command: \\n', command)\n",
    "stdout, stderr = runCLI(command)\n",
    "print(stderr)\n",
    "try:\n",
    "    stackOut = json.loads(stdout)\n",
    "except:\n",
    "    print ('Error: ',stdout )\n",
    "\n",
    "targetStack = stackOut['data']['id']\n",
    "print('Target Stack Name is:',stackOut['data']['display-name'] )\n",
    "print('     ID:',targetStack)\n",
    "print('---------------')\n",
    "# pprint.pprint(stackOut)\n",
    "print('Done')"
   ]
  },
  {
   "cell_type": "markdown",
   "id": "e5b2c611",
   "metadata": {},
   "source": [
    "### Purge Stacks"
   ]
  },
  {
   "cell_type": "code",
   "execution_count": null,
   "id": "b3492c0b",
   "metadata": {
    "ExecuteTime": {
     "end_time": "2022-02-07T23:57:03.903406Z",
     "start_time": "2022-02-07T23:57:03.880014Z"
    }
   },
   "outputs": [],
   "source": [
    "\n",
    "stackPurgeList = []\n",
    "for name,id  in stackDict.items():\n",
    "    if 1==1 : # 'truck' not in name :\n",
    "        print(name, ' - ' + id)\n",
    "        stackPurgeList.append(id)\n",
    "print('\\nNumber of stacks in List: ',len(stackPurgeList))"
   ]
  },
  {
   "cell_type": "code",
   "execution_count": null,
   "id": "119e9b75",
   "metadata": {
    "ExecuteTime": {
     "end_time": "2022-02-07T23:57:45.097798Z",
     "start_time": "2022-02-07T23:57:13.226554Z"
    },
    "scrolled": true
   },
   "outputs": [],
   "source": [
    "print('Beginning Purge')\n",
    "for stack2Purge in stackPurgeList:\n",
    "    command = 'oci resource-manager stack delete --force --stack-id ' + stack2Purge + config\n",
    "    print('Command: \\n', command)\n",
    "    stdout, stderr = runCLI(command)\n",
    "    print(stderr)\n",
    "    print('Out: ', stdout)\n",
    "print('Done')"
   ]
  },
  {
   "cell_type": "markdown",
   "id": "83abae41",
   "metadata": {},
   "source": [
    "## Jobs"
   ]
  },
  {
   "cell_type": "markdown",
   "id": "32589cf0",
   "metadata": {},
   "source": [
    "### Stack Jobs"
   ]
  },
  {
   "cell_type": "code",
   "execution_count": null,
   "id": "7ea745b0",
   "metadata": {
    "ExecuteTime": {
     "end_time": "2022-02-08T00:27:58.901493Z",
     "start_time": "2022-02-08T00:27:52.364608Z"
    },
    "code_folding": [
     9,
     12
    ],
    "scrolled": true
   },
   "outputs": [],
   "source": [
    "# stackId = 'ocid1.ormstack.oc1.iad.xxxx'\n",
    "stackId = targetStack\n",
    "command = 'oci resource-manager job list  --stack-id ' + stackId  + config\n",
    "print('Command: \\n', command)\n",
    "stdout, stderr = runCLI(command)\n",
    "print(stderr)\n",
    "stackJobs = ''\n",
    "try:\n",
    "    stackJobs = json.loads(stdout)\n",
    "except:\n",
    "    print( 'Json convert error' ,stdout)\n",
    "\n",
    "try:\n",
    "    for job in stackJobs['data']:\n",
    "        print(job['display-name'])\n",
    "        print('    Operation: ', job['operation'])\n",
    "        print('    Status: ' , job['lifecycle-state'])\n",
    "        print('    ID: ', job['id'])\n",
    "        print('    Time Created: ', job['time-created'])\n",
    "        print('    Time Finished: ', job['time-finished'])\n",
    "        print('--')\n",
    "except:\n",
    "    print('No Records')\n",
    "print('----------\\n')\n",
    "# pprint.pprint(stackJobs['data'])\n",
    "print('Done')"
   ]
  },
  {
   "cell_type": "markdown",
   "id": "9ac14e5c",
   "metadata": {},
   "source": [
    "### Stack Plan"
   ]
  },
  {
   "cell_type": "code",
   "execution_count": null,
   "id": "dab6f517",
   "metadata": {
    "ExecuteTime": {
     "end_time": "2022-02-08T00:15:46.316196Z",
     "start_time": "2022-02-08T00:15:39.101944Z"
    },
    "code_folding": []
   },
   "outputs": [],
   "source": [
    "# targetStack = 'ocid1.ormstack.oc1.iad.xxxxx'\n",
    "stackId = targetStack\n",
    "displayName = '\\\"TEST  ** Plan  added frontloader function \\\"'\n",
    "# variables =  '\"{\\\\\"env\\\\\": \\\\\"Blue\\\\\", \\\\\"log_group_id\\\\\": \\\\\"cecece\\\\\"}\"'\n",
    "command = ' oci resource-manager job create-plan-job --stack-id  ' + stackId \\\n",
    "        + ' --display-name ' + displayName  \\\n",
    "        +  config\n",
    "#         + ' --variables ' + variables \\\n",
    "print('Command: \\n', command)\n",
    "stdout, stderr = runCLI(command)\n",
    "print(stderr)\n",
    "print('Creation of Plan Job Completed!!')\n",
    "try:\n",
    "    stackPlan = json.loads(stdout)\n",
    "    print(stackPlan['data']['display-name'])\n",
    "    print('    Git Branch: ',stackPlan['data']['config-source']['branch-name'])\n",
    "    print('    Git Directory: ',stackPlan['data']['working-directory'])\n",
    "    print('    Terraform Operation: ',stackPlan['data']['operation'])\n",
    "    print('    Status: ',stackPlan['data']['lifecycle-state'])\n",
    "    print('    Time Created: ', stackPlan['data']['time-created'])\n",
    "    print('    Job ID: ',stackPlan['data']['id'])\n",
    "    print('    Stack ID: ',stackPlan['data']['stack-id'])\n",
    "    targetJob = stackPlan['data']['id']\n",
    "except:\n",
    "    print ('Error: ',stdout )\n",
    "print('\\n---------------')\n",
    "print('Target Stack now is: ', targetStack )\n",
    "print('\\nTarget Job ID is: '+ targetJob + '\\n\\n')\n",
    "# pprint.pprint(stackPlan)\n",
    "print('Done')"
   ]
  },
  {
   "cell_type": "markdown",
   "id": "1811b0c6",
   "metadata": {},
   "source": [
    "### Job Log Tail"
   ]
  },
  {
   "cell_type": "code",
   "execution_count": null,
   "id": "03011d25",
   "metadata": {
    "ExecuteTime": {
     "end_time": "2022-02-08T00:24:10.885644Z",
     "start_time": "2022-02-08T00:24:04.568972Z"
    },
    "code_folding": [
     9
    ],
    "scrolled": true
   },
   "outputs": [],
   "source": [
    "jobId = 'ocid1.ormjob.oc1.iad.yyyyyy'\n",
    "jobId = targetJob\n",
    "command = 'oci resource-manager job  get-job-logs-content  --job-id ' + jobId + config\n",
    "\n",
    "print('Command: \\n', command)\n",
    "stdout, stderr = runCLI(command)\n",
    "print(stderr)\n",
    "# print('Creation of Plan Job Completed!!')\n",
    "logCutoff = 1500\n",
    "try:\n",
    "    jobLog = json.loads(stdout)\n",
    "    logContent = jobLog['data']\n",
    "    logLength = len(logContent)\n",
    "    print('Log Length is: ' ,logLength)\n",
    "    if logLength > logCutoff :\n",
    "        print(logContent[logLength -logCutoff: logLength ])\n",
    "    else:\n",
    "        print(logContent)\n",
    "\n",
    "except:\n",
    "    print ('Error reading Log: ' )\n",
    "\n",
    "print('\\n---------------')\n"
   ]
  },
  {
   "cell_type": "markdown",
   "id": "50572f91",
   "metadata": {},
   "source": [
    "### Stack Apply"
   ]
  },
  {
   "cell_type": "code",
   "execution_count": null,
   "id": "ebb94f17",
   "metadata": {
    "ExecuteTime": {
     "end_time": "2022-02-08T00:23:08.702249Z",
     "start_time": "2022-02-08T00:23:02.321076Z"
    },
    "code_folding": []
   },
   "outputs": [],
   "source": [
    "stackId = targetStack\n",
    "displayName = '\\\"Test for timeout Dev env\\\"'\n",
    "execPlanStrategy = 'AUTO_APPROVED'\n",
    "# stackId = ''\n",
    "command = ' oci resource-manager job create-apply-job --stack-id  ' + stackId \\\n",
    "          + ' --display-name ' + displayName  \\\n",
    "          + ' --execution-plan-strategy ' + execPlanStrategy  \\\n",
    "          +  config\n",
    "print('Command: \\n', command)\n",
    "stdout, stderr = runCLI(command)\n",
    "print(stderr)\n",
    "try:\n",
    "    stackPlan = json.loads(stdout)\n",
    "    print(stackPlan['data']['display-name'])\n",
    "    print('    Git Branch: ',stackPlan['data']['config-source']['branch-name'])\n",
    "    print('    Git Directory: ',stackPlan['data']['working-directory'])\n",
    "    print('    Terraform Operation: ',stackPlan['data']['operation'])\n",
    "    print('    Status: ',stackPlan['data']['lifecycle-state'])\n",
    "    print('    Time Created: ', stackPlan['data']['time-created'])\n",
    "    print('    Job ID: ',stackPlan['data']['id'])\n",
    "    print('    Stack ID: ',stackPlan['data']['stack-id'])\n",
    "    targetJob = stackPlan['data']['id']\n",
    "except:\n",
    "    print ('Error: ',stdout )\n",
    "print('\\nTarget Job ID is: '+ targetJob + '\\n\\n')\n",
    "print('Done')\n",
    "\n"
   ]
  },
  {
   "cell_type": "markdown",
   "id": "f225a516",
   "metadata": {},
   "source": [
    "### Stack Destroy\n",
    "\n",
    "<div class=\"alert alert-block alert-danger\">\n",
    "<b>Danger:</b> Running Stack Destroy will permanently remove OCI components.  Use caution when using.\n",
    "</div>"
   ]
  },
  {
   "cell_type": "code",
   "execution_count": null,
   "id": "3355e1b8",
   "metadata": {
    "ExecuteTime": {
     "end_time": "2022-02-07T23:21:15.460230Z",
     "start_time": "2022-02-07T23:21:04.041876Z"
    }
   },
   "outputs": [],
   "source": [
    "execPlanStrategy = 'AUTO_APPROVED'\n",
    "stackId = ''\n",
    "stackId = targetStack\n",
    "command = ' oci resource-manager job create-destroy-job --stack-id  ' \\\n",
    "           + stackId  +  ' --execution-plan-strategy '  + execPlanStrategy  +     config\n",
    "print('Do you want to destroy?(yes/no): ', stackId)\n",
    "a = input()\n",
    "if a == 'yes':\n",
    "    print('yessire')\n",
    "    print('Command: \\n', command)\n",
    "    stdout, stderr = runCLI(command)\n",
    "    stackDestroy = json.loads(stdout)\n",
    "    targetJob = stackDestroy['data']['id']\n",
    "    print('\\nTarget Job ID is: '+ targetJob + '\\n\\n')\n",
    "    print(stderr)\n",
    "    print(stdout)\n",
    "else:\n",
    "    print('Destroy Stack Cancelled !')"
   ]
  },
  {
   "cell_type": "markdown",
   "id": "1805fb28",
   "metadata": {},
   "source": [
    "### Purge Jobs"
   ]
  },
  {
   "cell_type": "markdown",
   "id": "fe6fcdd2",
   "metadata": {},
   "source": [
    "**TBD**"
   ]
  },
  {
   "cell_type": "markdown",
   "id": "f07adca6",
   "metadata": {},
   "source": [
    "## Templates"
   ]
  },
  {
   "cell_type": "markdown",
   "id": "af4b6ecd",
   "metadata": {},
   "source": [
    "### Template List"
   ]
  },
  {
   "cell_type": "code",
   "execution_count": null,
   "id": "140d4851",
   "metadata": {
    "ExecuteTime": {
     "end_time": "2022-01-27T22:55:19.218900Z",
     "start_time": "2022-01-27T22:55:13.197844Z"
    }
   },
   "outputs": [],
   "source": [
    "sortBy = ' --sort-by TIMECREATED --sort-order DESC  '\n",
    "command = 'oci resource-manager template list --template-category-id 3 -c ' \\\n",
    "          + tenancyConfig['target_compartment'] + sortBy + config\n",
    "print('Command: \\n', command)\n",
    "stdout, stderr = runCLI(command)\n",
    "print(stderr)\n",
    "templates = json.loads(stdout)\n",
    "\n",
    "print('There were ' + str(len(templates['data']['items']) )+ '  Templates Found\\n -------')\n",
    "templatesDict = {}\n",
    "for template in templates['data']['items']:\n",
    "    print(template['display-name'])\n",
    "    print('    Description: ', template['description'] )\n",
    "    print('    ID: ', template['id']  + '\\n ---')\n",
    "    templatesDict[template['display-name']] = template['id']\n",
    "# pprint.pprint(templates['data'])"
   ]
  },
  {
   "cell_type": "markdown",
   "id": "0857c029",
   "metadata": {},
   "source": [
    "### Get Template"
   ]
  },
  {
   "cell_type": "code",
   "execution_count": null,
   "id": "665fc0c6",
   "metadata": {
    "ExecuteTime": {
     "end_time": "2022-01-27T10:43:44.786057Z",
     "start_time": "2022-01-27T10:43:37.952402Z"
    }
   },
   "outputs": [],
   "source": [
    "templateId = 'ocid1.ormtemplate.oc1.iad.mmmmmm'\n",
    "command = 'oci resource-manager template get --template-id  ' + templateId  + config\n",
    "print('Command: \\n', command)\n",
    "stdout, stderr = runCLI(command)\n",
    "print(stderr)\n",
    "template = json.loads(stdout)\n",
    "\n",
    "pprint.pprint(template['data'])"
   ]
  },
  {
   "cell_type": "markdown",
   "id": "c24bec2d",
   "metadata": {},
   "source": [
    "### Get Template Config File"
   ]
  },
  {
   "cell_type": "code",
   "execution_count": null,
   "id": "6165222b",
   "metadata": {
    "ExecuteTime": {
     "end_time": "2021-12-14T19:29:11.485664Z",
     "start_time": "2021-12-14T19:29:07.286418Z"
    }
   },
   "outputs": [],
   "source": [
    "\n",
    "file = \"\\\"templatex.zip\\\"\"\n",
    "templateId = 'template_id'\n",
    "command = ' oci resource-manager template get-template-tf-config --template-id '+ templateId  + ' --file ' + file + config\n",
    "print('Command: \\n', command)\n",
    "stdout,stderr = runCLI(command)\n",
    "print(stderr)\n",
    "try:\n",
    "    template = json.loads(stdout)\n",
    "except:\n",
    "    print ('Error: ',stdout )\n",
    "\n",
    "print('Done')"
   ]
  },
  {
   "cell_type": "markdown",
   "id": "59486343",
   "metadata": {
    "heading_collapsed": true
   },
   "source": [
    "### Create Private Template"
   ]
  },
  {
   "cell_type": "code",
   "execution_count": null,
   "id": "946e9396",
   "metadata": {
    "ExecuteTime": {
     "end_time": "2021-12-24T20:29:37.455503Z",
     "start_time": "2021-12-24T20:29:36.452859Z"
    },
    "hidden": true
   },
   "outputs": [],
   "source": [
    "# config1 = from_file(file_location=\"\")\n",
    "import base64\n",
    "with open( r\"Template.zip\",'rb' ) as file:\n",
    "    zipContents = file.read()\n",
    "encodedZip = base64.b64encode(zipContents).decode('ascii')\n",
    "\n",
    "zipfileupload = oci.resource_manager.models.CreateTemplateZipUploadConfigSourceDetails()\n",
    "zipfileupload.config_source_type = 'ZIP_UPLOAD'\n",
    "# zipfileupload.working_directory = 'MyTerraformScripts'\n",
    "zipfileupload.zip_file_base64_encoded = encodedZip\n",
    "\n",
    "resourcemanager = oci.resource_manager.models.CreateTemplateDetails()\n",
    "resourcemanager.compartment_id = tenancyConfig['target_compartment']\n",
    "resourcemanager.display_name = \"Sample Template2\"\n",
    "resourcemanager.description = \"Sample Temaplate2\"\n",
    "resourcemanager.template_config_source = zipfileupload\n",
    "\n",
    "# def getCommandOutput(pCommand):\n",
    "# Stack = oci.resource_manager.ResourceManagerClient(config1)\n",
    "Template = oci.resource_manager.ResourceManagerClient({'region': tenancyConfig['region']},\n",
    "                                          signer=get_signer(tenancyConfig['auth_profile'] ))\n",
    "\n",
    "Template.create_template(create_template_details=resourcemanager)\n"
   ]
  },
  {
   "cell_type": "markdown",
   "id": "905ede70",
   "metadata": {},
   "source": [
    "### Purge Templates"
   ]
  },
  {
   "cell_type": "code",
   "execution_count": null,
   "id": "21570c2e",
   "metadata": {
    "ExecuteTime": {
     "end_time": "2022-01-27T22:54:18.537801Z",
     "start_time": "2022-01-27T22:54:18.515979Z"
    }
   },
   "outputs": [],
   "source": [
    "templatePurgeList = []\n",
    "for name,id  in templatesDict.items():\n",
    "    if  1==1 : #'Sample' in name :\n",
    "        print(name, ' - ' + id)\n",
    "        templatePurgeList.append(id)\n",
    "print('\\nNumber of stacks in List: ',len(templatePurgeList))"
   ]
  },
  {
   "cell_type": "code",
   "execution_count": null,
   "id": "a89c817d",
   "metadata": {
    "ExecuteTime": {
     "end_time": "2022-01-27T22:55:06.587363Z",
     "start_time": "2022-01-27T22:54:35.188742Z"
    }
   },
   "outputs": [],
   "source": [
    "print('Beginning Purge of Templates')\n",
    "for template2Purge in templatePurgeList:\n",
    "    command = 'oci resource-manager template delete --force --template-id ' + template2Purge + config\n",
    "    print('Command: \\n', command)\n",
    "    stdout, stderr = runCLI(command)\n",
    "    print(stderr)\n",
    "    print('Out: ', stdout)\n",
    "print('Done')"
   ]
  },
  {
   "cell_type": "markdown",
   "id": "653ca23b",
   "metadata": {},
   "source": [
    "# Cleanup"
   ]
  },
  {
   "cell_type": "markdown",
   "id": "bdae259e",
   "metadata": {},
   "source": [
    "## Bucket Cleanup CLI Commands"
   ]
  },
  {
   "cell_type": "markdown",
   "id": "a6436c24",
   "metadata": {},
   "source": [
    "### List Stack Buckets Contents"
   ]
  },
  {
   "cell_type": "code",
   "execution_count": null,
   "id": "61639522",
   "metadata": {
    "ExecuteTime": {
     "end_time": "2022-02-07T23:17:27.865653Z",
     "start_time": "2022-02-07T23:15:47.231193Z"
    }
   },
   "outputs": [],
   "source": [
    "# print(envResourceMap['Object Storage Buckets'])\n",
    "for buckets in envResourceMap['Object Storage Buckets']:\n",
    "    for bucket in buckets.keys():\n",
    "#         print('oci os object list -bn ' +   bucket + ' -ns ' +envResourceMap['namespace']  +   config)\n",
    "        command = 'oci  os object list -bn ' +   bucket + ' -ns ' +envResourceMap['namespace']  +  config\n",
    "        print('Command: \\n', command)\n",
    "        try:\n",
    "            stdout, stderr = runCLI(command)\n",
    "        except:\n",
    "            print('Errorx', stderr)\n",
    "        print('Error', stdout)\n",
    "        contents = json.loads(stdout)\n",
    "        print('\\nContents in Bucket: ' +  bucket  + '\\n' )\n",
    "        totalSize = 0\n",
    "        for file in contents['data']:\n",
    "            fileSize = file['size']/1000 \n",
    "            totalSize += fileSize\n",
    "#             format_float = \"{:.2f}\".format(float)\n",
    "            print(file['name'] + \"  size: {:.2f} KB\".format(fileSize)    )\n",
    "        print('---\\n')\n",
    "        print('Total Size of Bucket is: '  + \"{:.0f} KB\".format(totalSize)   )\n",
    "        print('\\n-------------\\n')\n",
    "            \n",
    "        "
   ]
  },
  {
   "cell_type": "markdown",
   "id": "98bcd684",
   "metadata": {},
   "source": [
    "### Delete bulk\n",
    "<div class=\"alert alert-block alert-danger\">\n",
    "<b>Danger:</b> Running Bulk Version Delete will permanently remove All Files.  Use caution when using.\n",
    "</div>"
   ]
  },
  {
   "cell_type": "code",
   "execution_count": null,
   "id": "a9fb51fa",
   "metadata": {
    "ExecuteTime": {
     "end_time": "2022-02-07T12:25:07.509597Z",
     "start_time": "2022-02-07T12:24:44.919695Z"
    }
   },
   "outputs": [],
   "source": [
    "for buckets in envResourceMap['Object Storage Buckets']:\n",
    "    for bucket in buckets.keys():\n",
    "        command = 'oci  os object  bulk-delete-versions --force -bn ' +   bucket + \\\n",
    "                ' -ns ' +envResourceMap['namespace']  +  config\n",
    "        print('\\nAre You Sure You Want to Delete Bucket - ', bucket + ' (Y/n) ??')\n",
    "        a = input()\n",
    "        if a != 'Y':\n",
    "            print('Aborting Delete !! of Bucket - ', bucket)\n",
    "            continue\n",
    "        print('Command: \\n', command)\n",
    "        try:\n",
    "            stdout, stderr = runCLI(command)\n",
    "            print('\\nCompleted Bulk Version Delete of Bucket: ', bucket)\n",
    "            contents = json.loads(stdout)\n",
    "        except:\n",
    "            print('\\nError', stderr)      \n",
    "print('Done !!')"
   ]
  }
 ],
 "metadata": {
  "kernelspec": {
   "display_name": "Python 3 (ipykernel)",
   "language": "python",
   "name": "python3"
  },
  "language_info": {
   "codemirror_mode": {
    "name": "ipython",
    "version": 3
   },
   "file_extension": ".py",
   "mimetype": "text/x-python",
   "name": "python",
   "nbconvert_exporter": "python",
   "pygments_lexer": "ipython3",
   "version": "3.8.10"
  },
  "toc": {
   "base_numbering": 1,
   "nav_menu": {},
   "number_sections": true,
   "sideBar": true,
   "skip_h1_title": false,
   "title_cell": "Table of Contents",
   "title_sidebar": "Contents",
   "toc_cell": false,
   "toc_position": {
    "height": "47.6432px",
    "left": "140px",
    "top": "56.2763px",
    "width": "211.935px"
   },
   "toc_section_display": true,
   "toc_window_display": true
  },
  "varInspector": {
   "cols": {
    "lenName": 16,
    "lenType": 16,
    "lenVar": 40
   },
   "kernels_config": {
    "python": {
     "delete_cmd_postfix": "",
     "delete_cmd_prefix": "del ",
     "library": "var_list.py",
     "varRefreshCmd": "print(var_dic_list())"
    },
    "r": {
     "delete_cmd_postfix": ") ",
     "delete_cmd_prefix": "rm(",
     "library": "var_list.r",
     "varRefreshCmd": "cat(var_dic_list()) "
    }
   },
   "oldHeight": 500.83900000000006,
   "position": {
    "height": "522.824px",
    "left": "725.995px",
    "right": "20px",
    "top": "52.9884px",
    "width": "543.993px"
   },
   "types_to_exclude": [
    "module",
    "function",
    "builtin_function_or_method",
    "instance",
    "_Feature"
   ],
   "varInspector_section_display": "block",
   "window_display": false
  }
 },
 "nbformat": 4,
 "nbformat_minor": 5
}
