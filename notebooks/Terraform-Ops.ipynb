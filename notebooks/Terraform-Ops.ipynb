{
 "cells": [
  {
   "cell_type": "markdown",
   "id": "f6a69d78",
   "metadata": {},
   "source": [
    "# Overview of Terraform Ops Notebook"
   ]
  },
  {
   "cell_type": "markdown",
   "id": "aba4686e",
   "metadata": {},
   "source": [
    "## How to Use this Notebook\n",
    "<p>\n",
    "This notebook shows you how to easily explore Terraform features and functions by directly using the OCI Comand Line Interface (CLI).  First you will need to have the CLI tool installed on your machine and working.  Then you add a few elements to your config file as noted below, then Authenticate to your tenancy using the notebook cell provided.\n",
    "</p>\n"
   ]
  },
  {
   "cell_type": "markdown",
   "id": "809a67da",
   "metadata": {
    "ExecuteTime": {
     "end_time": "2021-12-19T16:56:26.670640Z",
     "start_time": "2021-12-19T16:56:26.660340Z"
    }
   },
   "source": [
    "## References\n"
   ]
  },
  {
   "cell_type": "markdown",
   "id": "46981787",
   "metadata": {},
   "source": [
    "Resource Manager Stacks and Jobs [link](https://docs.oracle.com/en-us/iaas/Content/ResourceManager/Tasks/managingstacksandjobs.htm#stackstate  \"Stacks and Jobs\")\n"
   ]
  },
  {
   "cell_type": "markdown",
   "id": "f82d5caf",
   "metadata": {},
   "source": [
    "# Initialize Connection to Tenancy\n",
    "\n"
   ]
  },
  {
   "cell_type": "code",
   "execution_count": null,
   "id": "ccb8f660",
   "metadata": {
    "ExecuteTime": {
     "end_time": "2022-01-13T16:34:23.125892Z",
     "start_time": "2022-01-13T16:34:06.760311Z"
    }
   },
   "outputs": [],
   "source": [
    "import oci\n",
    "import pprint\n",
    "# import subprocess\n",
    "import json ,  pprint\n",
    "from IPython.display import display, Math, HTML, Markdown\n",
    "from pyUtils.runCLI import runCLI\n",
    "\n",
    "display(HTML(\"<style>.container { width:100% !important; }</style>\"))\n",
    "# display(HTML(\"<style>div.output_scroll { height: 70em; }</style>\"))\n",
    "\n",
    "try:\n",
    "    tenancyProfile = oci.config.from_file()['target_profile']\n",
    "except:\n",
    "    print('A Target Profile not found in config file.  Using Default Profile')\n",
    "    tenancyProfile = 'DEFAULT'\n",
    "\n",
    "tenancyConfig = oci.config.from_file(profile_name=tenancyProfile)\n",
    "\n",
    "config = ' --profile ' + tenancyConfig['auth_profile'] +  ' --auth security_token'\n",
    "print('CLI Auth config string is: ', config)\n"
   ]
  },
  {
   "cell_type": "markdown",
   "id": "effea37a",
   "metadata": {},
   "source": [
    "# Terraform CLI\n"
   ]
  },
  {
   "cell_type": "markdown",
   "id": "677eadf5",
   "metadata": {},
   "source": [
    "## Stacks"
   ]
  },
  {
   "cell_type": "markdown",
   "id": "79ef0563",
   "metadata": {},
   "source": [
    "### Stack List "
   ]
  },
  {
   "cell_type": "code",
   "execution_count": null,
   "id": "5c86230d",
   "metadata": {
    "ExecuteTime": {
     "end_time": "2022-01-13T16:35:30.171657Z",
     "start_time": "2022-01-13T16:35:24.500125Z"
    },
    "code_folding": [
     12
    ]
   },
   "outputs": [],
   "source": [
    "\n",
    "command = 'oci resource-manager stack list  --compartment-id ' \\\n",
    "        + tenancyConfig['target_compartment']  + config\n",
    "print('Command: \\n', command)\n",
    "stdout, stderr = runCLI(command)\n",
    "print(stderr)\n",
    "try:\n",
    "    stacks = json.loads(stdout)\n",
    "except:\n",
    "    print( 'Json convert error' ,stdout)\n",
    "\n",
    "print('There were ' + str(len(stacks['data']) )+ '  Stacks Found')\n",
    "stackDict = {}\n",
    "for stack in stacks['data']:\n",
    "    print(stack['display-name'])\n",
    "    print('    Description: '  ,stack['description'])\n",
    "    print('    Stack ID: ',stack['id'])\n",
    "    print('    Time Created: ', stack['time-created'])\n",
    "    print('    Status: ', stack['lifecycle-state'])\n",
    "    print('    Terraform Version: ', stack['terraform-version'])\n",
    "\n",
    "    stackDict[stack['display-name']] = stack['id']\n",
    "\n",
    "    print('--')\n",
    "# pprint.pprint(stackDict)\n",
    "\n"
   ]
  },
  {
   "cell_type": "markdown",
   "id": "f5a55c48",
   "metadata": {
    "heading_collapsed": true
   },
   "source": [
    "### Get Stack"
   ]
  },
  {
   "cell_type": "code",
   "execution_count": null,
   "id": "479e7d50",
   "metadata": {
    "ExecuteTime": {
     "end_time": "2022-01-06T09:09:01.263414Z",
     "start_time": "2022-01-06T09:08:54.203593Z"
    },
    "hidden": true
   },
   "outputs": [],
   "source": [
    "# targeStack = 'ocid1.ormstack.oc1.iad.aaaaaaaazuhcdkafhvuutnm3pojdzrsurbzagcgx2bv32elpbhekr2zbi2ma'\n",
    "stackId = targetStack\n",
    "command = ' oci resource-manager stack get --stack-id  ' + stackId +  config\n",
    "print('Command: \\n', command)\n",
    "stdout, stderr = runCommand(command)\n",
    "print(stderr)\n",
    "stack = ''\n",
    "try:\n",
    "    stack = json.loads(stdout)\n",
    "    print(stack['data']['display-name'])\n",
    "    print('    Git Branch: ',stack['data']['config-source']['branch-name'])\n",
    "    print('    Git Directory: ',stack['data']['config-source']['working-directory'])\n",
    "    print('    Status: ',stack['data']['lifecycle-state'])\n",
    "    print('    Time Created: ', stack['data']['time-created'])\n",
    "    print('    Stack ID: ',stack['data']['id'])\n",
    "except:\n",
    "    print ('Error: ',stdout )\n",
    "print('\\n---------------')\n",
    "pprint.pprint(stack)\n",
    "# pprint.pprint(stackPlan)"
   ]
  },
  {
   "cell_type": "markdown",
   "id": "5d2094f3",
   "metadata": {},
   "source": [
    "### Get Stack's State"
   ]
  },
  {
   "cell_type": "code",
   "execution_count": null,
   "id": "302e4cb0",
   "metadata": {
    "ExecuteTime": {
     "end_time": "2022-01-06T22:48:46.012128Z",
     "start_time": "2022-01-06T22:48:39.351338Z"
    }
   },
   "outputs": [],
   "source": [
    "file = \"\\\"-\\\"\"\n",
    "stackId = 'stack_id'\n",
    "# stackId = targetStack\n",
    "command = 'oci resource-manager stack get-stack-tf-state --stack-id  ' \\\n",
    "          + stackId + ' --file ' + file + config\n",
    "print('Command: \\n', command)\n",
    "stdout, stderr = runCLI(command)\n",
    "\n",
    "try:\n",
    "    stackStates = json.loads(stdout)\n",
    "except:\n",
    "    print ('Error: ',stderr )\n",
    "print('\\nFetch State Complete, run cell below !')"
   ]
  },
  {
   "cell_type": "code",
   "execution_count": null,
   "id": "aae98c03",
   "metadata": {
    "ExecuteTime": {
     "end_time": "2022-01-06T23:06:37.434790Z",
     "start_time": "2022-01-06T23:06:37.364841Z"
    },
    "code_folding": [
     10,
     20,
     28,
     34,
     41,
     50,
     60,
     76
    ],
    "scrolled": true
   },
   "outputs": [],
   "source": [
    "print('\\nStack Resource Listing\\n-------------\\n')\n",
    "stackOrder = ['httpmonitor', 'apigateway','apideployment', 'fnapp'  , 'fnfunc' \n",
    "              , 'id4d1hpkrsyu',   'eventrule'   , '.log.'   ]\n",
    "# stackOrder = [ '.log.'   ]\n",
    "resourceMap = {}\n",
    "for instType in stackOrder:\n",
    "    for stackState in stackStates['resources'] :  \n",
    "#     try:\n",
    "        for stackStateInstance in stackState['instances']:\n",
    "            attributeId = stackStateInstance['attributes']['id']\n",
    "            if instType in attributeId and  'httpmonitor' ==  instType  :\n",
    "                print('HTTP Monitor')\n",
    "                print('    ' ,  stackStateInstance['attributes']['display_name'])\n",
    "                print('        ID:    ' ,  stackStateInstance['attributes']['id'])\n",
    "                print('        Target:' ,  stackStateInstance['attributes']['targets'][0])\n",
    "                print('        Path:  ' ,  stackStateInstance['attributes']['path'])\n",
    "                myMon = stackStateInstance\n",
    "                resourceMap[stackStateInstance['attributes']['display_name']] = \\\n",
    "                            stackStateInstance['attributes']['id']\n",
    "                continue\n",
    "            elif instType in attributeId  and  instType ==  'id4d1hpkrsyu' :\n",
    "                print('Object Storage Bucket')\n",
    "                print('    ' , stackStateInstance['attributes']['name'])\n",
    "                print('        ID:' , stackStateInstance['attributes']['id'])\n",
    "                myOs = stackStateInstance\n",
    "                resourceMap[stackStateInstance['attributes']['name']] = \\\n",
    "                            stackStateInstance['attributes']['id']\n",
    "                continue                \n",
    "            elif instType in attributeId  and  instType ==  'apideployment' :\n",
    "                print('        API Gateway Deployment')\n",
    "                print('            ' , stackStateInstance['attributes']['display_name'])\n",
    "                print('                ID:' , stackStateInstance['attributes']['id'])       \n",
    "                print('                Endpoint:' , stackStateInstance['attributes']['endpoint'])    \n",
    "                print('                Function:' , stackStateInstance['attributes']['specification'][0]['routes'][0] ['backend'][0]['function_id'])\n",
    "                deployPath = stackStateInstance['attributes']['path_prefix']  + \\\n",
    "                    stackStateInstance['attributes']['specification'][0]['routes'][0] ['path']   \n",
    "                print('                Path:' , deployPath)\n",
    "                myDeply = stackStateInstance\n",
    "                resourceMap[stackStateInstance['attributes']['display_name']] = \\\n",
    "                            stackStateInstance['attributes']['id']\n",
    "                continue                  \n",
    "            elif instType in attributeId  and  instType ==  'apigateway' :\n",
    "                print('API Gateway')\n",
    "                myGtw = stackStateInstance\n",
    "                print('    ' , stackStateInstance['attributes']['display_name'])     \n",
    "                print('        ID:' , stackStateInstance['attributes']['id'])                    \n",
    "                print('        IP Address' , stackStateInstance['attributes']['ip_addresses'][0]['ip_address'])                    \n",
    "                resourceMap[stackStateInstance['attributes']['display_name']] = \\\n",
    "                            stackStateInstance['attributes']['id']\n",
    "                continue                  \n",
    "            elif instType in attributeId  and  instType ==  '.log.' :\n",
    "                print('Log')\n",
    "                print('    ' , stackStateInstance['attributes']['display_name'])\n",
    "                print('         ID:' , stackStateInstance['attributes']['id'])\n",
    "#                 print('         Type:' , stackStateInstance['attributes']['log_type'])\n",
    "#                 print('         Service : ' , (myLog['attributes']['configuration'][0]['source'][0] ['service'] ))  \n",
    "                myLog = stackStateInstance\n",
    "                resourceMap[stackStateInstance['attributes']['display_name']] = \\\n",
    "                            stackStateInstance['attributes']['id']\n",
    "                continue                  \n",
    "            elif instType in attributeId  and  instType ==  'eventrule' :\n",
    "                print('Event Rule')\n",
    "                print('    ' , stackStateInstance['attributes']['display_name'])   \n",
    "                print('        ID:' , stackStateInstance['attributes']['id'])  \n",
    "                myRule = stackStateInstance\n",
    "                conditionsStr = stackStateInstance['attributes']   ['condition']\n",
    "                conditions = json.loads(conditionsStr)\n",
    "                print('        Bucket Name: ',  conditions['data']['additionalDetails']['bucketName'][0]  )\n",
    "                print('        Filter  :    ', conditions ['data']['resourceName'][0]     )\n",
    "                eventTypes = conditions['eventType'] \n",
    "                print('        Event Types')\n",
    "                for eventType in eventTypes:\n",
    "                    print('            ', eventType)\n",
    "                resourceMap[stackStateInstance['attributes']['display_name']] = \\\n",
    "                            stackStateInstance['attributes']['id']\n",
    "                continue                  \n",
    "            elif instType in attributeId  and  instType ==  'fnapp' :\n",
    "                print('Application')\n",
    "                print('    ' , stackStateInstance['attributes']['display_name'])   \n",
    "                print('        ID:' , stackStateInstance['attributes']['id'])    \n",
    "                resourceMap[stackStateInstance['attributes']['display_name']] = \\\n",
    "                            stackStateInstance['attributes']['id']\n",
    "                continue  \n",
    "            elif instType in attributeId  and  instType ==  'fnfunc' :\n",
    "                print('        Function')\n",
    "                print('            ' , stackStateInstance['attributes']['display_name'])    \n",
    "                print('               ID:' , stackStateInstance['attributes']['id'])\n",
    "                print( '               Image: '  ,stackStateInstance['attributes']['image'])\n",
    "                configDict = stackStateInstance['attributes']['config']\n",
    "                myFunct = stackStateInstance\n",
    "                if len(configDict.keys()) > 0:\n",
    "                    print('               Configuration:')\n",
    "                    [print( '                    ' + key,':',value) for key, value in configDict.items()]\n",
    "                resourceMap[stackStateInstance['attributes']['display_name']] = \\\n",
    "                            stackStateInstance['attributes']['id']\n",
    "    print()\n",
    "\n",
    "print('\\n-------------')\n",
    "with open('DevResourceMap.json', 'w') as convert_file:\n",
    "     convert_file.write(json.dumps(resourceMap))\n",
    "#     pprint.pprint (stackState['instances'])\n",
    "print('DONE')"
   ]
  },
  {
   "cell_type": "code",
   "execution_count": null,
   "id": "a508a3f2",
   "metadata": {
    "ExecuteTime": {
     "end_time": "2022-01-07T09:53:31.891277Z",
     "start_time": "2022-01-07T09:53:31.867505Z"
    }
   },
   "outputs": [],
   "source": [
    "with open('DevResourceMap.json') as f:\n",
    "    data = f.read()\n",
    "  \n",
    "print(\"Data type before reconstruction : \", type(data))\n",
    "      \n",
    "# reconstructing the data as a dictionary\n",
    "js = json.loads(data)\n",
    "  \n",
    "print(\"Data type after reconstruction : \", type(js))\n",
    "print(js)"
   ]
  },
  {
   "cell_type": "markdown",
   "id": "ee6906d9",
   "metadata": {},
   "source": [
    "### Create Stack from file\n",
    "\n",
    "<div class=\"alert alert-block alert-info\">\n",
    "<b>Tip:</b> To Check if Stack creation has completed, re-run the Stack List Report.</div>\n"
   ]
  },
  {
   "cell_type": "code",
   "execution_count": null,
   "id": "7b153aab",
   "metadata": {
    "ExecuteTime": {
     "end_time": "2021-12-23T16:07:17.747543Z",
     "start_time": "2021-12-23T16:07:11.671583Z"
    }
   },
   "outputs": [],
   "source": [
    "displayName = '\\\"Speedometer (CostApp.zip) Stack from file\\\"'\n",
    "stackDescription = '\\\"Used CLI to create Stack \\\"'\n",
    "configSource = '\\\"../terraform_files/CostApp.zip\\\"'\n",
    "command = 'oci resource-manager  stack create --compartment-id  ' + targetComptId \\\n",
    "          + ' --config-source ' + configSource \\\n",
    "          + ' --description ' + stackDescription \\\n",
    "          + ' --display-name ' + displayName \\\n",
    "          + ' --terraform-version  \"1.0.x\" ' \\\n",
    "          +  config\n",
    "print('Command: \\n', command)\n",
    "stdout, stderr = runCLI(command)\n",
    "print(stderr)\n",
    "try:\n",
    "    stackOut = json.loads(stdout)\n",
    "except:\n",
    "    print ('Error: ',stdout )\n",
    "\n",
    "print('Done')"
   ]
  },
  {
   "cell_type": "markdown",
   "id": "66955341",
   "metadata": {},
   "source": [
    "### Create Stack from Template"
   ]
  },
  {
   "cell_type": "code",
   "execution_count": null,
   "id": "e7202cc7",
   "metadata": {
    "ExecuteTime": {
     "end_time": "2021-12-24T16:15:37.306338Z",
     "start_time": "2021-12-24T16:15:31.142232Z"
    }
   },
   "outputs": [],
   "source": [
    "variables =  '\"{\\\\\"Env\\\\\": \\\\\"Blue\\\\\", \\\\\"Log_group_id\\\\\": \\\\\"cecece\\\\\"}\"'\n",
    "displayName = '\\\"Speedometer Stack 12/23 4pm \\\"'\n",
    "sourceWorkingDirectory = '\\\"terraform_templates/speedometer/environments/Pre-prod_206255/\\\"'\n",
    "stackDescription = '\\\"This Stack included .DS_Store files\\\"'\n",
    "templateId = 'ocid1.ormtemplate.oc1.iad.amaaaaaafmyzdhaacgbvkgntyncqz2533escj7ongeomalp6jucsho3jaiia'\n",
    "command = 'oci resource-manager stack create-from-template ' \\\n",
    "        + ' --compartment-id ' + targetComptId \\\n",
    "        + ' --description ' + stackDescription \\\n",
    "        + ' --display-name ' + displayName \\\n",
    "        + ' --template-id ' + templateId  \\\n",
    "        + ' --terraform-version  \"1.0.x\" ' \\\n",
    "        + config\n",
    "#         + ' --variables ' + variables  \\\n",
    "#         + ' --working-directory ' + sourceWorkingDirectory \\\n",
    "\n",
    "print('Command: \\n', command)\n",
    "stdout, stderr = runCLI(command)\n",
    "print(stderr)\n",
    "try:\n",
    "    stackOut = json.loads(stdout)\n",
    "except:\n",
    "    print ('Error: ',stdout )\n",
    "\n",
    "print('Done')"
   ]
  },
  {
   "cell_type": "markdown",
   "id": "f5833ba6",
   "metadata": {},
   "source": [
    "### Create Stack from Github"
   ]
  },
  {
   "cell_type": "code",
   "execution_count": null,
   "id": "7e7455b2",
   "metadata": {
    "ExecuteTime": {
     "end_time": "2022-01-12T22:33:46.429048Z",
     "start_time": "2022-01-12T22:33:46.391836Z"
    }
   },
   "outputs": [],
   "source": [
    "\n",
    "sourceRepositoryUrl  =  '\\\"https://github.com/tr/truccr_oci-iac.git\\\"'\n",
    "sourceBranchName = '\\\"split-fn-app-dev\\\"'\n",
    "sourceWorkingDirectory = '\\\"terraform_templates/speedometer/environments/Pre-prod_206255\\\"'\n",
    "displayName = '\\\"Dev - Test Speedometer Function Tag change test - Junk \\\"'\n",
    "stackDescription = '\\\"This Stack is a Test \\\"'\n",
    "configSourceProvider = 'ocid1.ormconfigsourceprovider.oc1.iad.aaaaaaaaqvci2yp3mgmkdggokooxgwwxhevnflp4r2yaie5hmmm7kqhibpoq'\n",
    "command = 'oci resource-manager  stack create-from-git-provider --compartment-id  ' + targetComptId \\\n",
    "          + ' --config-source-configuration-source-provider-id ' + configSourceProvider  \\\n",
    "          + ' --config-source-repository-url ' + sourceRepositoryUrl \\\n",
    "          + ' --config-source-branch-name ' + sourceBranchName \\\n",
    "          + ' --description ' + stackDescription \\\n",
    "          + ' --display-name ' + displayName \\\n",
    "          + ' --config-source-working-directory ' + sourceWorkingDirectory \\\n",
    "          + ' --terraform-version  \"1.0.x\" ' \\\n",
    "          +  config\n",
    " \n",
    "print('Command: \\n', command)\n",
    "# stdout, stderr = runCLI(command)\n",
    "print(stderr)\n",
    "try:\n",
    "    stackOut = json.loads(stdout)\n",
    "except:\n",
    "    print ('Error: ',stdout )\n",
    "\n",
    "targetStack = stackOut['data']['id']\n",
    "print('Target Stack Name is:',stackOut['data']['display-name'] )\n",
    "print('     ID:',targetStack)\n",
    "print('---------------')\n",
    "pprint.pprint(stackOut)\n",
    "print('Done')"
   ]
  },
  {
   "cell_type": "markdown",
   "id": "e5b2c611",
   "metadata": {},
   "source": [
    "### Purge Stacks"
   ]
  },
  {
   "cell_type": "code",
   "execution_count": null,
   "id": "b3492c0b",
   "metadata": {
    "ExecuteTime": {
     "end_time": "2022-01-12T22:02:21.585584Z",
     "start_time": "2022-01-12T22:02:21.557356Z"
    }
   },
   "outputs": [],
   "source": [
    "\n",
    "stackPurgeList = []\n",
    "for name,id  in stackDict.items():\n",
    "    if   'Junk' in name :\n",
    "        print(name, ' - ' + id)\n",
    "        stackPurgeList.append(id)\n",
    "print('\\nNumber of stacks in List: ',len(stackPurgeList))"
   ]
  },
  {
   "cell_type": "code",
   "execution_count": null,
   "id": "119e9b75",
   "metadata": {
    "ExecuteTime": {
     "end_time": "2022-01-12T22:02:41.737221Z",
     "start_time": "2022-01-12T22:02:29.817957Z"
    },
    "scrolled": true
   },
   "outputs": [],
   "source": [
    "print('Beginning Purge')\n",
    "for stack2Purge in stackPurgeList:\n",
    "    command = 'oci resource-manager stack delete --force --stack-id ' + stack2Purge + config\n",
    "    print('Command: \\n', command)\n",
    "    stdout, stderr = runCLI(command)\n",
    "    print(stderr)\n",
    "    print('Out: ', stdout)\n",
    "print('Done')"
   ]
  },
  {
   "cell_type": "markdown",
   "id": "83abae41",
   "metadata": {},
   "source": [
    "## Jobs"
   ]
  },
  {
   "cell_type": "markdown",
   "id": "32589cf0",
   "metadata": {},
   "source": [
    "### Stack Jobs"
   ]
  },
  {
   "cell_type": "code",
   "execution_count": null,
   "id": "7ea745b0",
   "metadata": {
    "ExecuteTime": {
     "end_time": "2022-01-12T18:16:43.585594Z",
     "start_time": "2022-01-12T18:16:39.272031Z"
    },
    "code_folding": [
     12
    ]
   },
   "outputs": [],
   "source": [
    "stackId = 'stack_id'\n",
    "# stackId = targetStack\n",
    "command = 'oci resource-manager job list  --stack-id ' + stackId  + config\n",
    "print('Command: \\n', command)\n",
    "stdout, stderr = runCLI(command)\n",
    "print(stderr)\n",
    "stackJobs = ''\n",
    "try:\n",
    "    stackJobs = json.loads(stdout)\n",
    "except:\n",
    "    print( 'Json convert error' ,stdout)\n",
    "\n",
    "for job in stackJobs['data']:\n",
    "    print(job['display-name'])\n",
    "    print('    Operation: ', job['operation'])\n",
    "    print('    Status: ' , job['lifecycle-state'])\n",
    "    print('    ID: ', job['id'])\n",
    "    print('    Time Created: ', job['time-created'])\n",
    "    print('    Time Finished: ', job['time-finished'])\n",
    "    print('--')\n",
    "print('----------\\n')\n",
    "pprint.pprint(stackJobs['data'])\n",
    "print('Done')"
   ]
  },
  {
   "cell_type": "markdown",
   "id": "9ac14e5c",
   "metadata": {},
   "source": [
    "### Stack Plan"
   ]
  },
  {
   "cell_type": "code",
   "execution_count": null,
   "id": "dab6f517",
   "metadata": {
    "ExecuteTime": {
     "end_time": "2022-01-12T18:17:06.486306Z",
     "start_time": "2022-01-12T18:17:01.278182Z"
    }
   },
   "outputs": [],
   "source": [
    "# stackId = 'stackDescription'\n",
    "# stackId = targetStack\n",
    "displayName = '\\\"TEST  ** Plan  changes with variables \\\"'\n",
    "variables =  '\"{\\\\\"env\\\\\": \\\\\"Blue\\\\\", \\\\\"log_group_id\\\\\": \\\\\"cecece\\\\\"}\"'\n",
    "command = ' oci resource-manager job create-plan-job --stack-id  ' + stackId \\\n",
    "        + ' --display-name ' + displayName  \\\n",
    "        +  config\n",
    "#         + ' --variables ' + variables \\\n",
    "targetStack = ''\n",
    "print('Command: \\n', command)\n",
    "stdout, stderr = runCLI(command)\n",
    "print(stderr)\n",
    "print('Creation of Plan Job Completed!!')\n",
    "try:\n",
    "    stackPlan = json.loads(stdout)\n",
    "    print(stackPlan['data']['display-name'])\n",
    "    print('    Git Branch: ',stackPlan['data']['config-source']['branch-name'])\n",
    "    print('    Git Directory: ',stackPlan['data']['working-directory'])\n",
    "    print('    Terraform Operation: ',stackPlan['data']['operation'])\n",
    "    print('    Status: ',stackPlan['data']['lifecycle-state'])\n",
    "    print('    Time Created: ', stackPlan['data']['time-created'])\n",
    "    print('    Job ID: ',stackPlan['data']['id'])\n",
    "    print('    Stack ID: ',stackPlan['data']['stack-id'])\n",
    "    targetStack = stackPlan['data']['stack-id']\n",
    "except:\n",
    "    print ('Error: ',stdout )\n",
    "print('\\n---------------')\n",
    "print('Target Stack now is: ', targetStack )\n",
    "# pprint.pprint(stackPlan)\n",
    "print('Done')"
   ]
  },
  {
   "cell_type": "code",
   "execution_count": null,
   "id": "94ba97c2",
   "metadata": {},
   "outputs": [],
   "source": []
  },
  {
   "cell_type": "markdown",
   "id": "50572f91",
   "metadata": {},
   "source": [
    "### Stack Apply"
   ]
  },
  {
   "cell_type": "code",
   "execution_count": null,
   "id": "ebb94f17",
   "metadata": {
    "ExecuteTime": {
     "end_time": "2022-01-05T18:35:20.246167Z",
     "start_time": "2022-01-05T18:35:15.688186Z"
    }
   },
   "outputs": [],
   "source": [
    "stackId = targetStack\n",
    "displayName = '\\\"Test for bucket name change 2\\\"'\n",
    "execPlanStrategy = 'AUTO_APPROVED'\n",
    "# stackId = 'ocid1.ormstack.oc1.iad.aaaaaaaa3bnekl6352t6cfwnzkener6zddvdbsqis5fupd6ucm4aghxnh2uq'\n",
    "command = ' oci resource-manager job create-apply-job --stack-id  ' + stackId \\\n",
    "          + ' --display-name ' + displayName  \\\n",
    "          + ' --execution-plan-strategy ' + execPlanStrategy  \\\n",
    "          +  config\n",
    "print('Command: \\n', command)\n",
    "stdout, stderr = runCLI(command)\n",
    "print(stderr)\n",
    "try:\n",
    "    stackPlan = json.loads(stdout)\n",
    "    print(stackPlan['data']['display-name'])\n",
    "    print('    Git Branch: ',stackPlan['data']['config-source']['branch-name'])\n",
    "    print('    Git Directory: ',stackPlan['data']['working-directory'])\n",
    "    print('    Terraform Operation: ',stackPlan['data']['operation'])\n",
    "    print('    Status: ',stackPlan['data']['lifecycle-state'])\n",
    "except:\n",
    "    print ('Error: ',stdout )\n",
    "print('Done')\n",
    "\n"
   ]
  },
  {
   "cell_type": "markdown",
   "id": "f225a516",
   "metadata": {},
   "source": [
    "### Stack Destroy\n",
    "\n",
    "<div class=\"alert alert-block alert-danger\">\n",
    "<b>Danger:</b> Running Stack Destroy will permanently remove OCI components.  Use caution when using.\n",
    "</div>"
   ]
  },
  {
   "cell_type": "code",
   "execution_count": null,
   "id": "3355e1b8",
   "metadata": {
    "ExecuteTime": {
     "end_time": "2022-01-05T18:25:26.051571Z",
     "start_time": "2022-01-05T18:25:18.546850Z"
    }
   },
   "outputs": [],
   "source": [
    "execPlanStrategy = 'AUTO_APPROVED'\n",
    "stackId = ''\n",
    "stackId = targetStack\n",
    "command = ' oci resource-manager job create-destroy-job --stack-id  ' \\\n",
    "           + stackId  +  ' --execution-plan-strategy '  + execPlanStrategy  +     config\n",
    "print('Do you want to destroy?(yes/no): ', stackId)\n",
    "a = input()\n",
    "if a == 'yes':\n",
    "    print('yessire')\n",
    "    print('Command: \\n', command)\n",
    "    stdout, stderr = runCLI(command)\n",
    "    print(stderr)\n",
    "    print(stdout)\n",
    "print('Destroy Stack Cancelled !')"
   ]
  },
  {
   "cell_type": "markdown",
   "id": "1805fb28",
   "metadata": {},
   "source": [
    "### Purge Jobs"
   ]
  },
  {
   "cell_type": "markdown",
   "id": "fe6fcdd2",
   "metadata": {},
   "source": [
    "**TBD**"
   ]
  },
  {
   "cell_type": "markdown",
   "id": "f07adca6",
   "metadata": {},
   "source": [
    "## Templates"
   ]
  },
  {
   "cell_type": "markdown",
   "id": "af4b6ecd",
   "metadata": {},
   "source": [
    "### PrivateTemplate List"
   ]
  },
  {
   "cell_type": "code",
   "execution_count": null,
   "id": "140d4851",
   "metadata": {
    "ExecuteTime": {
     "end_time": "2021-12-24T19:48:54.153404Z",
     "start_time": "2021-12-24T19:48:47.955997Z"
    }
   },
   "outputs": [],
   "source": [
    "sortBy = ' --sort-by TIMECREATED --sort-order DESC  '\n",
    "command = 'oci resource-manager template list --template-category-id 3 -c ' \\\n",
    "          + targetComptId + sortBy + config\n",
    "print('Command: \\n', command)\n",
    "stdout, stderr = runCLI(command)\n",
    "print(stderr)\n",
    "templates = json.loads(stdout)\n",
    "\n",
    "print('There were ' + str(len(templates['data']['items']) )+ '  Templates Found\\n -------')\n",
    "for template in templates['data']['items']:\n",
    "    print(template['display-name'])\n",
    "    print('    Description: ', template['description'] )\n",
    "    print('    ID: ', template['id']  + '\\n ---')\n",
    "# pprint.pprint(templates['data'])"
   ]
  },
  {
   "cell_type": "markdown",
   "id": "0857c029",
   "metadata": {},
   "source": [
    "### Get Template"
   ]
  },
  {
   "cell_type": "code",
   "execution_count": null,
   "id": "665fc0c6",
   "metadata": {
    "ExecuteTime": {
     "end_time": "2021-12-24T19:50:35.374598Z",
     "start_time": "2021-12-24T19:50:29.081673Z"
    }
   },
   "outputs": [],
   "source": [
    "templateId = \\\n",
    "'template_id'\n",
    "command = 'oci resource-manager template get --template-id  ' + templateId  + config\n",
    "print('Command: \\n', command)\n",
    "stdout, stderr = runCLI(command)\n",
    "print(stderr)\n",
    "template = json.loads(stdout)\n",
    "\n",
    "pprint.pprint(template['data'])"
   ]
  },
  {
   "cell_type": "markdown",
   "id": "c24bec2d",
   "metadata": {},
   "source": [
    "### Get Template Config File"
   ]
  },
  {
   "cell_type": "code",
   "execution_count": null,
   "id": "6165222b",
   "metadata": {
    "ExecuteTime": {
     "end_time": "2021-12-14T19:29:11.485664Z",
     "start_time": "2021-12-14T19:29:07.286418Z"
    }
   },
   "outputs": [],
   "source": [
    "\n",
    "file = \"\\\"templatex.zip\\\"\"\n",
    "templateId = 'template_id'\n",
    "command = ' oci resource-manager template get-template-tf-config --template-id '+ templateId  + ' --file ' + file + config\n",
    "print('Command: \\n', command)\n",
    "stdout,stderr = runCLI(command)\n",
    "print(stderr)\n",
    "try:\n",
    "    template = json.loads(stdout)\n",
    "except:\n",
    "    print ('Error: ',stdout )\n",
    "\n",
    "print('Done')"
   ]
  },
  {
   "cell_type": "markdown",
   "id": "59486343",
   "metadata": {},
   "source": [
    "### Create Private Template"
   ]
  },
  {
   "cell_type": "code",
   "execution_count": null,
   "id": "946e9396",
   "metadata": {
    "ExecuteTime": {
     "end_time": "2021-12-24T20:29:37.455503Z",
     "start_time": "2021-12-24T20:29:36.452859Z"
    }
   },
   "outputs": [],
   "source": [
    "# config1 = from_file(file_location=\"\")\n",
    "import base64\n",
    "with open( r\"CostApp.zip\",'rb' ) as file:\n",
    "    zipContents = file.read()\n",
    "encodedZip = base64.b64encode(zipContents).decode('ascii')\n",
    "\n",
    "zipfileupload = oci.resource_manager.models.CreateTemplateZipUploadConfigSourceDetails()\n",
    "zipfileupload.config_source_type = 'ZIP_UPLOAD'\n",
    "# zipfileupload.working_directory = 'MyTerraformScripts'\n",
    "zipfileupload.zip_file_base64_encoded = encodedZip\n",
    "\n",
    "resourcemanager = oci.resource_manager.models.CreateTemplateDetails()\n",
    "resourcemanager.compartment_id = tenancyConfig['target_compartment']\n",
    "resourcemanager.display_name = \"Sample Template2\"\n",
    "resourcemanager.description = \"Sample Temaplate2\"\n",
    "resourcemanager.template_config_source = zipfileupload\n",
    "\n",
    "# def getCommandOutput(pCommand):\n",
    "# Stack = oci.resource_manager.ResourceManagerClient(config1)\n",
    "Template = oci.resource_manager.ResourceManagerClient({'region': tenancyConfig['region']},\n",
    "                                          signer=get_signer(tenancyConfig['auth_profile'] ))\n",
    "\n",
    "Template.create_template(create_template_details=resourcemanager)\n"
   ]
  },
  {
   "cell_type": "markdown",
   "id": "e1cf2c2d",
   "metadata": {},
   "source": [
    "### Update Private Template"
   ]
  },
  {
   "cell_type": "code",
   "execution_count": null,
   "id": "0db39c52",
   "metadata": {
    "ExecuteTime": {
     "end_time": "2021-12-24T20:59:36.397430Z",
     "start_time": "2021-12-24T20:59:36.215092Z"
    }
   },
   "outputs": [],
   "source": [
    "import base64\n",
    "with open( r\"CostApp.zip\",'rb' ) as file:\n",
    "    zipContents = file.read()\n",
    "encodedZip = base64.b64encode(zipContents).decode('ascii')\n",
    "zipfileupload = oci.resource_manager.models.UpdateTemplateZipUploadConfigSourceDetails()\n",
    "zipfileupload.config_source_type = 'ZIP_UPLOAD'\n",
    "# zipfileupload.working_directory = 'MyTerraformScripts'\n",
    "zipfileupload.zip_file_base64_encoded = encodedZip\n",
    "resourcemanager = oci.resource_manager.models.UpdateTemplateDetails()\n",
    "resourcemanager.compartment_id = tenancyConfig['target_compartment']\n",
    "resourcemanager.display_name = \"Sample Template2\"\n",
    "resourcemanager.description = \"Sample Temaplate2x\"\n",
    "resourcemanager.\n",
    "resourcemanager.template_config_source = zipfileupload\n",
    "Template = oci.resource_manager.ResourceManagerClient({'region': tenancyConfig['region']},\n",
    "                                          signer=get_signer(tenancyConfig['auth_profile'] ))\n",
    "\n",
    "testxx = Template.update_template(update_template_details=resourcemanager)\n",
    "print(testxx.data)"
   ]
  },
  {
   "cell_type": "markdown",
   "id": "a5018df6",
   "metadata": {},
   "source": [
    "### Create Stack from Template"
   ]
  },
  {
   "cell_type": "code",
   "execution_count": null,
   "id": "b146240b",
   "metadata": {
    "ExecuteTime": {
     "end_time": "2021-12-24T20:07:53.895655Z",
     "start_time": "2021-12-24T20:07:53.526829Z"
    }
   },
   "outputs": [],
   "source": [
    "\n",
    "stackTemplateDetails=  oci.resource_manager.models.CreateStackTemplateConfigSourceDetails()\n",
    "stackTemplateDetails.template_id=  \\\n",
    "   'ocid1.ormtemplate.oc1.iad.amaaaaaafmyzdhaacgbvkgntyncqz2533escj7ongeomalp6jucsho3jaiia'\n",
    "stackTemplateDetails.config_source_type=\"TEMPLATE_CONFIG_SOURCE\"\n",
    "stackTemplateDetails.working_directory='terraform_templates'\n",
    "# stackTemplateDetails.config_source_type='UNKOWN'\n",
    "\n",
    "createStackDetails=oci.resource_manager.models.CreateStackDetails()\n",
    "createStackDetails.config_source=stackTemplateDetails\n",
    "createStackDetails.compartment_id = tenancyConfig['target_compartment']\n",
    "createStackDetails.display_name = \"Stack from Sample Template\"\n",
    "createStackDetails.description = \"Stack from Sample Temaplate\"\n",
    "createStackDetails.terraform_version =  \"1.0.x\"\n",
    "createStackDetails.variables={\n",
    "            'env': 'xme',\n",
    "            'log_group_id': 'wXfZ36ni34dituFB6MBo' }\n",
    "\n",
    "stackTemplate = oci.resource_manager.ResourceManagerClient({'region': tenancyConfig['region']},\n",
    "                                          signer=get_signer(tenancyConfig['auth_profile'] ))\n",
    "\n",
    "create_stack_response=stackTemplate.create_stack(create_stack_details=createStackDetails)\n",
    "# Get the data from response\n",
    "print(create_stack_response.data)\n",
    "\n"
   ]
  },
  {
   "cell_type": "code",
   "execution_count": null,
   "id": "abf85d40",
   "metadata": {},
   "outputs": [],
   "source": []
  }
 ],
 "metadata": {
  "kernelspec": {
   "display_name": "Python 3 (ipykernel)",
   "language": "python",
   "name": "python3"
  },
  "language_info": {
   "codemirror_mode": {
    "name": "ipython",
    "version": 3
   },
   "file_extension": ".py",
   "mimetype": "text/x-python",
   "name": "python",
   "nbconvert_exporter": "python",
   "pygments_lexer": "ipython3",
   "version": "3.8.10"
  },
  "toc": {
   "base_numbering": 1,
   "nav_menu": {},
   "number_sections": true,
   "sideBar": true,
   "skip_h1_title": false,
   "title_cell": "Table of Contents",
   "title_sidebar": "Contents",
   "toc_cell": false,
   "toc_position": {
    "height": "905.278px",
    "left": "68px",
    "top": "121.968px",
    "width": "196.954px"
   },
   "toc_section_display": true,
   "toc_window_display": true
  },
  "varInspector": {
   "cols": {
    "lenName": 16,
    "lenType": 16,
    "lenVar": 40
   },
   "kernels_config": {
    "python": {
     "delete_cmd_postfix": "",
     "delete_cmd_prefix": "del ",
     "library": "var_list.py",
     "varRefreshCmd": "print(var_dic_list())"
    },
    "r": {
     "delete_cmd_postfix": ") ",
     "delete_cmd_prefix": "rm(",
     "library": "var_list.r",
     "varRefreshCmd": "cat(var_dic_list()) "
    }
   },
   "oldHeight": 500.83900000000006,
   "position": {
    "height": "522.824px",
    "left": "725.995px",
    "right": "20px",
    "top": "52.9884px",
    "width": "543.993px"
   },
   "types_to_exclude": [
    "module",
    "function",
    "builtin_function_or_method",
    "instance",
    "_Feature"
   ],
   "varInspector_section_display": "block",
   "window_display": false
  }
 },
 "nbformat": 4,
 "nbformat_minor": 5
}
