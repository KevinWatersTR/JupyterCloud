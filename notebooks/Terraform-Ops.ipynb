{
 "cells": [
  {
   "cell_type": "markdown",
   "id": "f6a69d78",
   "metadata": {},
   "source": [
    "# Overview"
   ]
  },
  {
   "cell_type": "markdown",
   "id": "aba4686e",
   "metadata": {},
   "source": [
    "## How to Use this Notebook\n",
    "\n",
    "This notebook shows you how to easily explore Terraform features and functions by directly using the OCI Comand Line Interface (CLI).  First you will need to have the CLI tool installed on your machine and working.  Then you add a few elements to your config file as noted below, then Authenticate to your tenancy using the notebook cell provided.\n",
    "\n",
    "\n",
    "<div class=\"alert alert-block alert-warning\">\n",
    "<b>Example config file:</b> Use yellow boxes for examples that are not inside code cells, or use for mathematical formulas if needed. Typically also used to display warning messages.\n",
    "</div>\n",
    "\n"
   ]
  },
  {
   "cell_type": "markdown",
   "id": "f8fe2a83",
   "metadata": {},
   "source": [
    "This is <a href=\"https://en.wikipedia.org\" title=\"Wikipedia\">a reference</a>\n",
    "\n",
    "this is a [click me](https://en.wikipedia.org \"Testme\")\n",
    "\n",
    "Terraform [click me](https://docs.oracle.com/en-us/iaas/Content/ResourceManager/Tasks/managingstacksandjobs.htm#stackstate  \"xme\")\n",
    "\n"
   ]
  },
  {
   "cell_type": "markdown",
   "id": "809a67da",
   "metadata": {
    "ExecuteTime": {
     "end_time": "2021-12-19T16:56:26.670640Z",
     "start_time": "2021-12-19T16:56:26.660340Z"
    }
   },
   "source": [
    "## References\n"
   ]
  },
  {
   "cell_type": "markdown",
   "id": "46981787",
   "metadata": {},
   "source": [
    "\n",
    "this is a [click me](https://en.wikipedia.org \"Testme\")\n",
    "\n",
    "Resource Manager Stacks and Jobs [link](https://docs.oracle.com/en-us/iaas/Content/ResourceManager/Tasks/managingstacksandjobs.htm#stackstate  \"Stacks and Jobs\")\n",
    "\n",
    "\n"
   ]
  },
  {
   "cell_type": "markdown",
   "id": "f82d5caf",
   "metadata": {},
   "source": [
    "# Initialize Connection to Tenancy\n",
    "```python\n",
    "x=1\n",
    "print(x)\n",
    "```\n"
   ]
  },
  {
   "cell_type": "code",
   "execution_count": null,
   "id": "ccb8f660",
   "metadata": {
    "ExecuteTime": {
     "end_time": "2021-12-23T15:41:14.527679Z",
     "start_time": "2021-12-23T15:40:35.843220Z"
    }
   },
   "outputs": [],
   "source": [
    "# List Bastions\n",
    "import oci\n",
    "import pprint\n",
    "import subprocess\n",
    "import json ,  pprint\n",
    "from IPython.display import display, Math, HTML, Markdown\n",
    "\n",
    "tenancyProfile = 'tr-ash'\n",
    "tenancyConfig = oci.config.from_file(profile_name=tenancyProfile)\n",
    "securityProfile=  tenancyConfig['auth_profile']  \n",
    "securityConfig = oci.config.from_file(profile_name=securityProfile)\n",
    "region =  tenancyConfig['region']\n",
    "token_file = securityConfig['security_token_file']\n",
    "tenancyId = tenancyConfig['tenancy']\n",
    "targetComptId = tenancyConfig['target_compartment']\n",
    "# Config parameters\n",
    "config = ' --profile ' + securityProfile +  ' --auth security_token'\n",
    "\n",
    "display(HTML(\"<style>.container { width:75% !important; }</style>\"))\n",
    "# display(HTML(\"<style>div.output_scroll { height: 70em; }</style>\"))\n"
   ]
  },
  {
   "cell_type": "markdown",
   "id": "de50795b",
   "metadata": {},
   "source": [
    "## General Use Methods"
   ]
  },
  {
   "cell_type": "code",
   "execution_count": null,
   "id": "59fce93e",
   "metadata": {
    "ExecuteTime": {
     "end_time": "2021-12-23T15:43:36.077201Z",
     "start_time": "2021-12-23T15:43:36.049229Z"
    }
   },
   "outputs": [],
   "source": [
    "# General Use Methods\n",
    "def runCommand(pCommand):\n",
    "    command=pCommand\n",
    "    process = subprocess.Popen(command, shell=True, stdout=subprocess.PIPE, stderr=subprocess.PIPE)\n",
    "    out, err = process.communicate()\n",
    "    return out.decode('utf-8'),  err.decode('utf-8')\n"
   ]
  },
  {
   "cell_type": "markdown",
   "id": "1aa34777",
   "metadata": {},
   "source": [
    "## Authenticate Session"
   ]
  },
  {
   "cell_type": "code",
   "execution_count": null,
   "id": "8b1b99f7",
   "metadata": {
    "ExecuteTime": {
     "end_time": "2021-12-20T09:13:35.937698Z",
     "start_time": "2021-12-20T09:13:12.045892Z"
    }
   },
   "outputs": [],
   "source": [
    "command = 'oci session authenticate --region ' + tenancyConfig['region'] + \\\n",
    "        ' --profile ' + tenancyProfile + ' --profile-name ' + securityProfile\n",
    "print('Creating Session for: ',securityProfile )\n",
    "print('Running command: ',command )\n",
    "stdout, stderr = runCommand(command)\n",
    "print(stderr)"
   ]
  },
  {
   "cell_type": "markdown",
   "id": "8b2849c5",
   "metadata": {},
   "source": [
    "## Refresh Session"
   ]
  },
  {
   "cell_type": "code",
   "execution_count": null,
   "id": "b8380b39",
   "metadata": {
    "ExecuteTime": {
     "end_time": "2021-12-20T09:16:47.251260Z",
     "start_time": "2021-12-20T09:16:36.500772Z"
    }
   },
   "outputs": [],
   "source": [
    "\n",
    "command = 'oci session refresh --profile '  + securityProfile\n",
    "print('Refreshing Session for: ',securityProfile )\n",
    "print('Running command: ',command )\n",
    "stdout, stderr = runCommand(command)\n",
    "print(stderr)\n",
    "command = 'oci session validate --profile ' + securityProfile\n",
    "print('Validating Session for: ',securityProfile )\n",
    "print('Running command: ',command )\n",
    "stdout, stderr = runCommand(command)\n",
    "print(stderr)"
   ]
  },
  {
   "cell_type": "markdown",
   "id": "effea37a",
   "metadata": {},
   "source": [
    "# Terraform CLI\n"
   ]
  },
  {
   "cell_type": "markdown",
   "id": "677eadf5",
   "metadata": {},
   "source": [
    "## Stacks"
   ]
  },
  {
   "cell_type": "markdown",
   "id": "79ef0563",
   "metadata": {},
   "source": [
    "### Stack List \n",
    "\n",
    "<div class=\"alert alert-block alert-success\">\n",
    "<b>Sample Output:</b> <p>\n",
    "  There were 9  Stacks Found  <br>\n",
    "CostApp-Ionut3  \n",
    "   \n",
    "    Description: Stack with var for API Gateway and monitor_trigger\n",
    "    Stack ID: ocid1.ormstack.oc1.iad.aaa...\n",
    "    Time Created:  2021-12-17T19:07:47.834000+00:00\n",
    "    Status:  ACTIVE\n",
    "    Terraform Version:  1.0.x\n",
    "--  \n",
    "    </p>\n",
    "</div>"
   ]
  },
  {
   "cell_type": "code",
   "execution_count": null,
   "id": "5c86230d",
   "metadata": {
    "ExecuteTime": {
     "end_time": "2021-12-24T19:48:27.368869Z",
     "start_time": "2021-12-24T19:48:20.313595Z"
    },
    "code_folding": []
   },
   "outputs": [],
   "source": [
    "\n",
    "command = 'oci resource-manager stack list  --compartment-id ' + targetComptId  + config\n",
    "print('Command: \\n', command)\n",
    "stdout, stderr = runCommand(command)\n",
    "print(stderr)\n",
    "try:\n",
    "    stacks = json.loads(stdout)\n",
    "except:\n",
    "    print( 'Json convert error' ,stdout)\n",
    "\n",
    "print('There were ' + str(len(stacks['data']) )+ '  Stacks Found')\n",
    "for stack in stacks['data']:\n",
    "    print(stack['display-name'])\n",
    "    print('    Description: '  ,stack['description'])\n",
    "    print('    Stack ID: ',stack['id'])\n",
    "    print('    Time Created: ', stack['time-created'])\n",
    "    print('    Status: ', stack['lifecycle-state'])\n",
    "    print('    Terraform Version: ', stack['terraform-version'])\n",
    "    print('--')\n",
    "# pprint.pprint(stack)\n",
    "\n"
   ]
  },
  {
   "cell_type": "markdown",
   "id": "f5a55c48",
   "metadata": {},
   "source": [
    "### Get Stack"
   ]
  },
  {
   "cell_type": "code",
   "execution_count": null,
   "id": "479e7d50",
   "metadata": {
    "ExecuteTime": {
     "end_time": "2021-12-16T14:51:20.418002Z",
     "start_time": "2021-12-16T14:51:15.861570Z"
    }
   },
   "outputs": [],
   "source": [
    "stackId = 'ocid1.ormstack.oc1.iad.aaaaaaaaddlrp4juzcgetgrqe2em2zryvnvasfe4gtwgjgv4n5hhdcjctova'\n",
    "command = ' oci resource-manager stack get --stack-id  ' + stackId +  config\n",
    "print('Command: \\n', command)\n",
    "stdout, stderr = runCommand(command)\n",
    "print(stderr)\n",
    "stack = ''\n",
    "try:\n",
    "    stack = json.loads(stdout)\n",
    "    print(stack['data']['display-name'])\n",
    "    print('    Git Branch: ',stack['data']['config-source']['branch-name'])\n",
    "    print('    Git Directory: ',stack['data']['config-source']['working-directory'])\n",
    "    print('    Status: ',stack['data']['lifecycle-state'])\n",
    "    print('    Time Created: ', stack['data']['time-created'])\n",
    "    print('    Stack ID: ',stack['data']['id'])\n",
    "except:\n",
    "    print ('Error: ',stdout )\n",
    "print('\\n---------------')\n",
    "# pprint.pprint(stackPlan)"
   ]
  },
  {
   "cell_type": "markdown",
   "id": "5d2094f3",
   "metadata": {},
   "source": [
    "### Get Stack's State"
   ]
  },
  {
   "cell_type": "code",
   "execution_count": null,
   "id": "aae98c03",
   "metadata": {
    "ExecuteTime": {
     "end_time": "2021-12-15T23:29:14.274673Z",
     "start_time": "2021-12-15T23:29:09.307564Z"
    }
   },
   "outputs": [],
   "source": [
    "file = \"\\\"-\\\"\"\n",
    "stackId = 'ocid1.ormstack.oc1.iad.aaaaaaaavh6aptcq2mwi2x4jh2m3ypohdeyyrjy7td2oqujc2fc73ahk4v6q'\n",
    "command = 'oci resource-manager stack get-stack-tf-state --stack-id  ' \\\n",
    "          + stackId + ' --file ' + file + config\n",
    "print('Command: \\n', command)\n",
    "stdout, stderr = runCommand(command)\n",
    "print(stderr)\n",
    "try:\n",
    "    stackStates = json.loads(stdout)\n",
    "except:\n",
    "    print ('Error: ',stdout )\n",
    "for stackState in stackStates['resources'] :  #['resources']['instances']['attributes']:\n",
    "    for stackStateInstance in stackState['instances']:\n",
    "#         pprint.pprint (stackState['instances'])\n",
    "        print(stackStateInstance['attributes']['display_name'])\n",
    "        print( '   Status: '  ,stackStateInstance['attributes']['state'])\n",
    "        configDict = stackStateInstance['attributes']['config']\n",
    "#\n",
    "        if len(configDict.keys()) > 0:\n",
    "            print('    Config:')\n",
    "            [print( '        ' + key,':',value) for key, value in configDict.items()]\n",
    "        try:\n",
    "            print( '    Image: '  ,stackStateInstance['attributes']['image'])\n",
    "        except:\n",
    "            pass\n",
    "        print( '    ID: '  ,stackStateInstance['attributes']['id'])\n",
    "        print('--')\n",
    "print('\\n-------------')\n",
    "#     pprint.pprint (stackState['instances'])\n",
    "print('DONE')"
   ]
  },
  {
   "cell_type": "markdown",
   "id": "ee6906d9",
   "metadata": {},
   "source": [
    "### Create Stack from file\n",
    "\n",
    "<div class=\"alert alert-block alert-info\">\n",
    "<b>Tip:</b> To Check if Stack creation has completed, re-run the Stack List Report.</div>\n"
   ]
  },
  {
   "cell_type": "code",
   "execution_count": null,
   "id": "7b153aab",
   "metadata": {
    "ExecuteTime": {
     "end_time": "2021-12-23T16:07:17.747543Z",
     "start_time": "2021-12-23T16:07:11.671583Z"
    }
   },
   "outputs": [],
   "source": [
    "displayName = '\\\"Speedometer (CostApp.zip) Stack from file\\\"'\n",
    "stackDescription = '\\\"Used CLI to create Stack \\\"'\n",
    "configSource = '\\\"../terraform_files/CostApp.zip\\\"'\n",
    "command = 'oci resource-manager  stack create --compartment-id  ' + targetComptId \\\n",
    "          + ' --config-source ' + configSource \\\n",
    "          + ' --description ' + stackDescription \\\n",
    "          + ' --display-name ' + displayName \\\n",
    "          + ' --terraform-version  \"1.0.x\" ' \\\n",
    "          +  config\n",
    "print('Command: \\n', command)\n",
    "stdout, stderr = runCommand(command)\n",
    "print(stderr)\n",
    "try:\n",
    "    stackOut = json.loads(stdout)\n",
    "except:\n",
    "    print ('Error: ',stdout )\n",
    "\n",
    "print('Done')"
   ]
  },
  {
   "cell_type": "markdown",
   "id": "66955341",
   "metadata": {},
   "source": [
    "### Create Stack from Private Template"
   ]
  },
  {
   "cell_type": "code",
   "execution_count": null,
   "id": "e7202cc7",
   "metadata": {
    "ExecuteTime": {
     "end_time": "2021-12-24T16:15:37.306338Z",
     "start_time": "2021-12-24T16:15:31.142232Z"
    }
   },
   "outputs": [],
   "source": [
    "variables =  '\"{\\\\\"Env\\\\\": \\\\\"Blue\\\\\", \\\\\"Log_group_id\\\\\": \\\\\"cecece\\\\\"}\"'\n",
    "displayName = '\\\"Speedometer Stack 12/23 4pm \\\"'\n",
    "sourceWorkingDirectory = '\\\"terraform_templates/speedometer/environments/Pre-prod_206255/\\\"'\n",
    "stackDescription = '\\\"This Stack included .DS_Store files\\\"'\n",
    "templateId = 'ocid1.ormtemplate.oc1.iad.amaaaaaafmyzdhaacgbvkgntyncqz2533escj7ongeomalp6jucsho3jaiia'\n",
    "command = 'oci resource-manager stack create-from-template ' \\\n",
    "        + ' --compartment-id ' + targetComptId \\\n",
    "        + ' --description ' + stackDescription \\\n",
    "        + ' --display-name ' + displayName \\\n",
    "        + ' --template-id ' + templateId  \\\n",
    "        + ' --terraform-version  \"1.0.x\" ' \\\n",
    "        + config\n",
    "#         + ' --variables ' + variables  \\\n",
    "#         + ' --working-directory ' + sourceWorkingDirectory \\\n",
    "\n",
    "print('Command: \\n', command)\n",
    "stdout, stderr = runCommand(command)\n",
    "print(stderr)\n",
    "try:\n",
    "    stackOut = json.loads(stdout)\n",
    "except:\n",
    "    print ('Error: ',stdout )\n",
    "\n",
    "print('Done')"
   ]
  },
  {
   "cell_type": "markdown",
   "id": "f5833ba6",
   "metadata": {},
   "source": [
    "### Create Stack from Github"
   ]
  },
  {
   "cell_type": "code",
   "execution_count": null,
   "id": "7e7455b2",
   "metadata": {
    "ExecuteTime": {
     "end_time": "2021-12-23T15:49:27.259791Z",
     "start_time": "2021-12-23T15:49:21.451594Z"
    }
   },
   "outputs": [],
   "source": [
    "\n",
    "sourceRepositoryUrl  =  '\\\"https://github.com/tr/truccr_oci-iac.git\\\"'\n",
    "sourceBranchName = '\\\"terra2\\\"'\n",
    "sourceWorkingDirectory = '\\\"terraform_templates/speedometer/environments/Pre-prod_206255/\\\"'\n",
    "displayName = '\\\"Speedometer Stack 12/23 \\\"'\n",
    "stackDescription = '\\\"This Stack included .DS_Store files\\\"'\n",
    "configSourceProvider = 'ocid1.ormconfigsourceprovider.oc1.iad.aaaaaaaaqvci2yp3mgmkdggokooxgwwxhevnflp4r2yaie5hmmm7kqhibpoq'\n",
    "command = 'oci resource-manager  stack create-from-git-provider --compartment-id  ' + targetComptId \\\n",
    "          + ' --config-source-configuration-source-provider-id ' + configSourceProvider  \\\n",
    "          + ' --config-source-repository-url ' + sourceRepositoryUrl \\\n",
    "          + ' --config-source-branch-name ' + sourceBranchName \\\n",
    "          + ' --description ' + stackDescription \\\n",
    "          + ' --display-name ' + displayName \\\n",
    "          + ' --config-source-working-directory ' + sourceWorkingDirectory \\\n",
    "          + ' --terraform-version  \"1.0.x\" ' \\\n",
    "          +  config\n",
    " \n",
    "print('Command: \\n', command)\n",
    "stdout, stderr = runCommand(command)\n",
    "print(stderr)\n",
    "try:\n",
    "    stackOut = json.loads(stdout)\n",
    "except:\n",
    "    print ('Error: ',stdout )\n",
    "\n",
    "print('Done')"
   ]
  },
  {
   "cell_type": "markdown",
   "id": "e5b2c611",
   "metadata": {},
   "source": [
    "### Purge Stack"
   ]
  },
  {
   "cell_type": "code",
   "execution_count": null,
   "id": "b3492c0b",
   "metadata": {},
   "outputs": [],
   "source": []
  },
  {
   "cell_type": "markdown",
   "id": "83abae41",
   "metadata": {},
   "source": [
    "## Jobs"
   ]
  },
  {
   "cell_type": "markdown",
   "id": "32589cf0",
   "metadata": {},
   "source": [
    "### Stack Jobs"
   ]
  },
  {
   "cell_type": "code",
   "execution_count": null,
   "id": "7ea745b0",
   "metadata": {
    "ExecuteTime": {
     "end_time": "2021-12-16T17:02:24.693734Z",
     "start_time": "2021-12-16T17:02:19.358131Z"
    },
    "code_folding": [
     11
    ]
   },
   "outputs": [],
   "source": [
    "stackId = 'ocid1.ormstack.oc1.iad.aaaaaaaaj5shdkrnand75vot25t7fgno67ini2e7jlnt45pkv4yv7swaw5eq'\n",
    "command = 'oci resource-manager job list  --stack-id ' + stackId  + config\n",
    "print('Command: \\n', command)\n",
    "stdout, stderr = runCommand(command)\n",
    "print(stderr)\n",
    "stackJobs = ''\n",
    "try:\n",
    "    stackJobs = json.loads(stdout)\n",
    "except:\n",
    "    print( 'Json convert error' ,stdout)\n",
    "\n",
    "for job in stackJobs['data']:\n",
    "    print(job['display-name'])\n",
    "    print('    Operation: ', job['operation'])\n",
    "    print('    Status: ' , job['lifecycle-state'])\n",
    "    print('    ID: ', job['id'])\n",
    "    print('    Time Created: ', job['time-created'])\n",
    "    print('    Time Finished: ', job['time-finished'])\n",
    "    print('--')\n",
    "print('------')\n",
    "pprint.pprint(stackJobs['data'])\n",
    "print('Done')"
   ]
  },
  {
   "cell_type": "markdown",
   "id": "9ac14e5c",
   "metadata": {},
   "source": [
    "### Stack Plan"
   ]
  },
  {
   "cell_type": "code",
   "execution_count": null,
   "id": "dab6f517",
   "metadata": {
    "ExecuteTime": {
     "end_time": "2021-12-16T16:15:03.370112Z",
     "start_time": "2021-12-16T16:14:57.672957Z"
    }
   },
   "outputs": [],
   "source": [
    "stackId = 'ocid1.ormstack.oc1.iad.aaaaaaaa6hfu2o6gvmvpigaqj5k7crnhnpifm3cqqpcnhq6nly53yzcdssgq'\n",
    "displayName = '\\\"TEST  ** Plan  changes with variables \\\"'\n",
    "variables =  '\"{\\\\\"env\\\\\": \\\\\"Blue\\\\\", \\\\\"log_group_id\\\\\": \\\\\"cecece\\\\\"}\"'\n",
    "command = ' oci resource-manager job create-plan-job --stack-id  ' + stackId \\\n",
    "        + ' --display-name ' + displayName  \\\n",
    "        + ' --variables ' + variables \\\n",
    "        +  config\n",
    "print('Command: \\n', command)\n",
    "stdout, stderr = runCommand(command)\n",
    "print(stderr)\n",
    "print('Creation of Plan Job Completed!!')\n",
    "try:\n",
    "    stackPlan = json.loads(stdout)\n",
    "    print(stackPlan['data']['display-name'])\n",
    "    print('    Git Branch: ',stackPlan['data']['config-source']['branch-name'])\n",
    "    print('    Git Directory: ',stackPlan['data']['working-directory'])\n",
    "    print('    Terraform Operation: ',stackPlan['data']['operation'])\n",
    "    print('    Status: ',stackPlan['data']['lifecycle-state'])\n",
    "    print('    Time Created: ', stackPlan['data']['time-created'])\n",
    "    print('    Job ID: ',stackPlan['data']['id'])\n",
    "    print('    Stack ID: ',stackPlan['data']['stack-id'])\n",
    "except:\n",
    "    print ('Error: ',stdout )\n",
    "print('\\n---------------')\n",
    "# pprint.pprint(stackPlan)\n",
    "print('Done')"
   ]
  },
  {
   "cell_type": "code",
   "execution_count": null,
   "id": "94ba97c2",
   "metadata": {},
   "outputs": [],
   "source": []
  },
  {
   "cell_type": "markdown",
   "id": "50572f91",
   "metadata": {},
   "source": [
    "### Stack Apply"
   ]
  },
  {
   "cell_type": "code",
   "execution_count": null,
   "id": "ebb94f17",
   "metadata": {
    "ExecuteTime": {
     "end_time": "2021-12-16T15:38:18.263275Z",
     "start_time": "2021-12-16T15:38:12.065866Z"
    }
   },
   "outputs": [],
   "source": [
    "displayName = '\\\"Test for Jupyter Scripts \\\"'\n",
    "execPlanStrategy = 'AUTO_APPROVED'\n",
    "# stackId = 'ocid1.ormstack.oc1.iad.aaaaaaaa3bnekl6352t6cfwnzkener6zddvdbsqis5fupd6ucm4aghxnh2uq'\n",
    "command = ' oci resource-manager job create-apply-job --stack-id  ' + stackId \\\n",
    "          + ' --display-name ' + displayName  \\\n",
    "          + ' --execution-plan-strategy ' + execPlanStrategy  \\\n",
    "          +  config\n",
    "print('Command: \\n', command)\n",
    "stdout, stderr = runCommand(command)\n",
    "print(stderr)\n",
    "try:\n",
    "    stackPlan = json.loads(stdout)\n",
    "    print(stackPlan['data']['display-name'])\n",
    "    print('    Git Branch: ',stackPlan['data']['config-source']['branch-name'])\n",
    "    print('    Git Directory: ',stackPlan['data']['working-directory'])\n",
    "    print('    Terraform Operation: ',stackPlan['data']['operation'])\n",
    "    print('    Status: ',stackPlan['data']['lifecycle-state'])\n",
    "except:\n",
    "    print ('Error: ',stdout )\n",
    "print('Done')\n",
    "\n"
   ]
  },
  {
   "cell_type": "markdown",
   "id": "f225a516",
   "metadata": {},
   "source": [
    "### Stack Destroy\n",
    "\n",
    "<div class=\"alert alert-block alert-danger\">\n",
    "<b>Danger:</b> Running Stack Destroy will permanently remove OCI components.  Use caution when using.\n",
    "</div>"
   ]
  },
  {
   "cell_type": "code",
   "execution_count": null,
   "id": "3355e1b8",
   "metadata": {
    "ExecuteTime": {
     "end_time": "2021-12-16T16:49:17.146726Z",
     "start_time": "2021-12-16T16:47:17.382604Z"
    }
   },
   "outputs": [],
   "source": [
    "execPlanStrategy = 'AUTO_APPROVED'\n",
    "stackId = 'ocid1.ormstack.oc1.iad.aaaaaaaaj5shdkrnand75vot25t7fgno67ini2e7jlnt45pkv4yv7swaw5eq'\n",
    "command = ' oci resource-manager job create-destroy-job --stack-id  ' \\\n",
    "           + stackId  +  ' --execution-plan-strategy '  + execPlanStrategy  +     config\n",
    "print('Do you want to destroy?(yes/no): ', stackId)\n",
    "a = input()\n",
    "if a == 'yes':\n",
    "    print('yessire')\n",
    "    print('Command: \\n', command)\n",
    "    stdout, stderr = runCommand(command)\n",
    "    print(stderr)\n",
    "    print(stdout)\n",
    "print('Destroy Stack Cancelled !')"
   ]
  },
  {
   "cell_type": "markdown",
   "id": "1805fb28",
   "metadata": {},
   "source": [
    "### Purge Jobs"
   ]
  },
  {
   "cell_type": "markdown",
   "id": "fe6fcdd2",
   "metadata": {},
   "source": [
    "**TBD**"
   ]
  },
  {
   "cell_type": "markdown",
   "id": "f07adca6",
   "metadata": {},
   "source": [
    "## Templates"
   ]
  },
  {
   "cell_type": "markdown",
   "id": "af4b6ecd",
   "metadata": {},
   "source": [
    "### PrivateTemplate List"
   ]
  },
  {
   "cell_type": "code",
   "execution_count": null,
   "id": "140d4851",
   "metadata": {
    "ExecuteTime": {
     "end_time": "2021-12-24T19:48:54.153404Z",
     "start_time": "2021-12-24T19:48:47.955997Z"
    }
   },
   "outputs": [],
   "source": [
    "sortBy = ' --sort-by TIMECREATED --sort-order DESC  '\n",
    "command = 'oci resource-manager template list --template-category-id 3 -c ' \\\n",
    "          + targetComptId + sortBy + config\n",
    "print('Command: \\n', command)\n",
    "stdout, stderr = runCommand(command)\n",
    "print(stderr)\n",
    "templates = json.loads(stdout)\n",
    "\n",
    "print('There were ' + str(len(templates['data']['items']) )+ '  Templates Found\\n -------')\n",
    "for template in templates['data']['items']:\n",
    "    print(template['display-name'])\n",
    "    print('    Description: ', template['description'] )\n",
    "    print('    ID: ', template['id']  + '\\n ---')\n",
    "# pprint.pprint(templates['data'])"
   ]
  },
  {
   "cell_type": "markdown",
   "id": "0857c029",
   "metadata": {},
   "source": [
    "### Get Template"
   ]
  },
  {
   "cell_type": "code",
   "execution_count": null,
   "id": "665fc0c6",
   "metadata": {
    "ExecuteTime": {
     "end_time": "2021-12-24T19:50:35.374598Z",
     "start_time": "2021-12-24T19:50:29.081673Z"
    }
   },
   "outputs": [],
   "source": [
    "templateId = \\\n",
    "'ocid1.ormtemplate.oc1.iad.amaaaaaafmyzdhaacgbvkgntyncqz2533escj7ongeomalp6jucsho3jaiia'\n",
    "command = 'oci resource-manager template get --template-id  ' + templateId  + config\n",
    "print('Command: \\n', command)\n",
    "stdout, stderr = runCommand(command)\n",
    "print(stderr)\n",
    "template = json.loads(stdout)\n",
    "\n",
    "pprint.pprint(template['data'])"
   ]
  },
  {
   "cell_type": "markdown",
   "id": "c24bec2d",
   "metadata": {},
   "source": [
    "### Get Template Config File"
   ]
  },
  {
   "cell_type": "code",
   "execution_count": null,
   "id": "6165222b",
   "metadata": {
    "ExecuteTime": {
     "end_time": "2021-12-14T19:29:11.485664Z",
     "start_time": "2021-12-14T19:29:07.286418Z"
    }
   },
   "outputs": [],
   "source": [
    "\n",
    "file = \"\\\"templatex.zip\\\"\"\n",
    "templateId = 'ocid1.ormtemplate.oc1.iad.amaaaaaafmyzdhaahpmtuar3i47j24kqhbcice7u3rcjk3pn32jug7xah3aq'\n",
    "command = ' oci resource-manager template get-template-tf-config --template-id '+ templateId  + ' --file ' + file + config\n",
    "print('Command: \\n', command)\n",
    "stdout,stderr = runCommand(command)\n",
    "print(stderr)\n",
    "try:\n",
    "    template = json.loads(stdout)\n",
    "except:\n",
    "    print ('Error: ',stdout )\n",
    "\n",
    "print('Done')"
   ]
  },
  {
   "cell_type": "markdown",
   "id": "59486343",
   "metadata": {},
   "source": [
    "### Create Private Template"
   ]
  },
  {
   "cell_type": "code",
   "execution_count": null,
   "id": "946e9396",
   "metadata": {
    "ExecuteTime": {
     "end_time": "2021-12-24T20:29:37.455503Z",
     "start_time": "2021-12-24T20:29:36.452859Z"
    }
   },
   "outputs": [],
   "source": [
    "# config1 = from_file(file_location=\"\")\n",
    "import base64\n",
    "with open( r\"CostApp.zip\",'rb' ) as file:\n",
    "    zipContents = file.read()\n",
    "encodedZip = base64.b64encode(zipContents).decode('ascii')\n",
    "\n",
    "def get_signer(securityProfile):\n",
    "    securityConfig = oci.config.from_file(profile_name=securityProfile)\n",
    "    token_file = securityConfig['security_token_file']\n",
    "    token = None\n",
    "    with open(token_file, 'r') as f:\n",
    "         token = f.read()    \n",
    "    private_key = oci.signer.load_private_key_from_file(securityConfig['key_file'])\n",
    "    return oci.auth.signers.SecurityTokenSigner(token, private_key) \n",
    "\n",
    "tenancyProfile = 'tr-ash'\n",
    "tenancyConfig = oci.config.from_file(profile_name=tenancyProfile)\n",
    "\n",
    "zipfileupload = oci.resource_manager.models.CreateTemplateZipUploadConfigSourceDetails()\n",
    "zipfileupload.config_source_type = 'ZIP_UPLOAD'\n",
    "# zipfileupload.working_directory = 'MyTerraformScripts'\n",
    "zipfileupload.zip_file_base64_encoded = encodedZip\n",
    "\n",
    "resourcemanager = oci.resource_manager.models.CreateTemplateDetails()\n",
    "resourcemanager.compartment_id = tenancyConfig['target_compartment']\n",
    "resourcemanager.display_name = \"Sample Template2\"\n",
    "resourcemanager.description = \"Sample Temaplate2\"\n",
    "resourcemanager.template_config_source = zipfileupload\n",
    "\n",
    "# def getCommandOutput(pCommand):\n",
    "# Stack = oci.resource_manager.ResourceManagerClient(config1)\n",
    "Template = oci.resource_manager.ResourceManagerClient({'region': tenancyConfig['region']},\n",
    "                                          signer=get_signer(tenancyConfig['auth_profile'] ))\n",
    "\n",
    "Template.create_template(create_template_details=resourcemanager)\n"
   ]
  },
  {
   "cell_type": "markdown",
   "id": "e1cf2c2d",
   "metadata": {},
   "source": [
    "### Update Private Template"
   ]
  },
  {
   "cell_type": "code",
   "execution_count": null,
   "id": "0db39c52",
   "metadata": {
    "ExecuteTime": {
     "end_time": "2021-12-24T20:59:36.397430Z",
     "start_time": "2021-12-24T20:59:36.215092Z"
    }
   },
   "outputs": [],
   "source": [
    "import base64\n",
    "with open( r\"CostApp.zip\",'rb' ) as file:\n",
    "    zipContents = file.read()\n",
    "encodedZip = base64.b64encode(zipContents).decode('ascii')\n",
    "zipfileupload = oci.resource_manager.models.UpdateTemplateZipUploadConfigSourceDetails()\n",
    "zipfileupload.config_source_type = 'ZIP_UPLOAD'\n",
    "# zipfileupload.working_directory = 'MyTerraformScripts'\n",
    "zipfileupload.zip_file_base64_encoded = encodedZip\n",
    "resourcemanager = oci.resource_manager.models.UpdateTemplateDetails()\n",
    "resourcemanager.compartment_id = tenancyConfig['target_compartment']\n",
    "resourcemanager.display_name = \"Sample Template2\"\n",
    "resourcemanager.description = \"Sample Temaplate2x\"\n",
    "resourcemanager.\n",
    "resourcemanager.template_config_source = zipfileupload\n",
    "Template = oci.resource_manager.ResourceManagerClient({'region': tenancyConfig['region']},\n",
    "                                          signer=get_signer(tenancyConfig['auth_profile'] ))\n",
    "\n",
    "testxx = Template.update_template(update_template_details=resourcemanager)\n",
    "print(testxx.data)"
   ]
  },
  {
   "cell_type": "markdown",
   "id": "a5018df6",
   "metadata": {},
   "source": [
    "### Create Stack from Template"
   ]
  },
  {
   "cell_type": "code",
   "execution_count": null,
   "id": "b146240b",
   "metadata": {
    "ExecuteTime": {
     "end_time": "2021-12-24T20:07:53.895655Z",
     "start_time": "2021-12-24T20:07:53.526829Z"
    }
   },
   "outputs": [],
   "source": [
    "\n",
    "stackTemplateDetails=  oci.resource_manager.models.CreateStackTemplateConfigSourceDetails()\n",
    "stackTemplateDetails.template_id=  \\\n",
    "   'ocid1.ormtemplate.oc1.iad.amaaaaaafmyzdhaacgbvkgntyncqz2533escj7ongeomalp6jucsho3jaiia'\n",
    "stackTemplateDetails.config_source_type=\"TEMPLATE_CONFIG_SOURCE\"\n",
    "stackTemplateDetails.working_directory='terraform_templates'\n",
    "# stackTemplateDetails.config_source_type='UNKOWN'\n",
    "\n",
    "createStackDetails=oci.resource_manager.models.CreateStackDetails()\n",
    "createStackDetails.config_source=stackTemplateDetails\n",
    "createStackDetails.compartment_id = tenancyConfig['target_compartment']\n",
    "createStackDetails.display_name = \"Stack from Sample Template\"\n",
    "createStackDetails.description = \"Stack from Sample Temaplate\"\n",
    "createStackDetails.terraform_version =  \"1.0.x\"\n",
    "createStackDetails.variables={\n",
    "            'env': 'xme',\n",
    "            'log_group_id': 'wXfZ36ni34dituFB6MBo' }\n",
    "\n",
    "stackTemplate = oci.resource_manager.ResourceManagerClient({'region': tenancyConfig['region']},\n",
    "                                          signer=get_signer(tenancyConfig['auth_profile'] ))\n",
    "\n",
    "create_stack_response=stackTemplate.create_stack(create_stack_details=createStackDetails)\n",
    "# Get the data from response\n",
    "print(create_stack_response.data)\n",
    "\n"
   ]
  },
  {
   "cell_type": "code",
   "execution_count": null,
   "id": "abf85d40",
   "metadata": {},
   "outputs": [],
   "source": []
  }
 ],
 "metadata": {
  "kernelspec": {
   "display_name": "Python 3 (ipykernel)",
   "language": "python",
   "name": "python3"
  },
  "language_info": {
   "codemirror_mode": {
    "name": "ipython",
    "version": 3
   },
   "file_extension": ".py",
   "mimetype": "text/x-python",
   "name": "python",
   "nbconvert_exporter": "python",
   "pygments_lexer": "ipython3",
   "version": "3.8.10"
  },
  "toc": {
   "base_numbering": 1,
   "nav_menu": {},
   "number_sections": true,
   "sideBar": false,
   "skip_h1_title": false,
   "title_cell": "Table of Contents",
   "title_sidebar": "Contents",
   "toc_cell": false,
   "toc_position": {
    "height": "905.292px",
    "left": "44px",
    "top": "89.7143px",
    "width": "165px"
   },
   "toc_section_display": true,
   "toc_window_display": true
  },
  "varInspector": {
   "cols": {
    "lenName": 16,
    "lenType": 16,
    "lenVar": 40
   },
   "kernels_config": {
    "python": {
     "delete_cmd_postfix": "",
     "delete_cmd_prefix": "del ",
     "library": "var_list.py",
     "varRefreshCmd": "print(var_dic_list())"
    },
    "r": {
     "delete_cmd_postfix": ") ",
     "delete_cmd_prefix": "rm(",
     "library": "var_list.r",
     "varRefreshCmd": "cat(var_dic_list()) "
    }
   },
   "oldHeight": 500.83900000000006,
   "position": {
    "height": "40px",
    "left": "1296px",
    "right": "20px",
    "top": "90px",
    "width": "537px"
   },
   "types_to_exclude": [
    "module",
    "function",
    "builtin_function_or_method",
    "instance",
    "_Feature"
   ],
   "varInspector_section_display": "none",
   "window_display": true
  }
 },
 "nbformat": 4,
 "nbformat_minor": 5
}
