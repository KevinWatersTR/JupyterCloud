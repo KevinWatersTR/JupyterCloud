{
 "cells": [
  {
   "cell_type": "markdown",
   "metadata": {},
   "source": [
    "# Overview\n",
    "\n"
   ]
  },
  {
   "cell_type": "markdown",
   "metadata": {},
   "source": [
    "## Prerequisites \n",
    "\n",
    "##### Add the following to the target profile to your \\.oci\\config file:\n",
    "\n",
    "A profile name for the Authentication (different than your target profile):   `auth_profile = xxxx`\n",
    "\n",
    "Target compartment where work will be performed:  `target_compartment = xxxxx`"
   ]
  },
  {
   "cell_type": "markdown",
   "metadata": {},
   "source": [
    "## Assumptions\n",
    "\n",
    "<div class=\"alert alert-block alert-warning\"><b>Warning: </b> Should only be used on Windows environments where multi-factor authentication is required. </div>"
   ]
  },
  {
   "cell_type": "markdown",
   "metadata": {},
   "source": [
    "# Authentication "
   ]
  },
  {
   "cell_type": "markdown",
   "metadata": {},
   "source": [
    "## Initialize"
   ]
  },
  {
   "cell_type": "code",
   "execution_count": 2,
   "metadata": {
    "ExecuteTime": {
     "end_time": "2022-01-08T10:20:22.934527Z",
     "start_time": "2022-01-08T10:20:22.908881Z"
    }
   },
   "outputs": [
    {
     "name": "stdout",
     "output_type": "stream",
     "text": [
      "\n",
      "Configuration Parameters are:   --profile tr-sso --auth security_token \n"
     ]
    }
   ],
   "source": [
    "import oci\n",
    "import os\n",
    "import sys\n",
    "import time\n",
    "from pyUtils.runCLI import runCLI\n",
    "\n",
    "tenancyProfile =oci.config.from_file()['target_profile']  \n",
    "tenancyConfig = oci.config.from_file(profile_name=tenancyProfile)\n",
    "tenancyAuthProfile = tenancyConfig['auth_profile']\n",
    "config = ' --profile ' + tenancyAuthProfile + ' --auth security_token '\n",
    "print('\\nConfiguration Parameters are: ', config)\n",
    "# print('\\nCreate Auth Export Zip file : ', 'oci session export --profile ' + securityProfile + ' --output-file tr-sso --force' )"
   ]
  },
  {
   "cell_type": "markdown",
   "metadata": {},
   "source": [
    "## Authenticate Session"
   ]
  },
  {
   "cell_type": "code",
   "execution_count": 3,
   "metadata": {
    "ExecuteTime": {
     "end_time": "2022-01-08T10:28:36.834113Z",
     "start_time": "2022-01-08T10:26:43.393004Z"
    }
   },
   "outputs": [
    {
     "name": "stdout",
     "output_type": "stream",
     "text": [
      "Creating Session for:  tr-sso\n",
      "Running command:  oci session authenticate --region us-ashburn-1 --profile tr-ash --profile-name tr-sso\n",
      "\n",
      "    Please switch to newly opened browser window to log in!\n",
      "    You can also open the following URL in a web browser window to continue:\n",
      "https://login.us-ashburn-1.oraclecloud.com/v1/oauth2/authorize?action=login&client_id=iaas_console&response_type=token+id_token&nonce=e3bb7bbf-0a4f-4bce-9fd8-c13e2ce7f8f5&scope=openid&public_key=eyJrdHkiOiAiUlNBIiwgIm4iOiAiMk5ScG9mcHgwSjRXNEtLYmJXd0lPaVVJdzZDMS1SYmJMMktBWW1XSUdPYmFlVHF5Sks4aW9Dc0V4cTlqcXpxVFB0OWhOUXd6b3hkVm1UNXM1ZDcyTXQtRUtiQzhEbGhmcHVQcm5LNUQ4dXJya2c5Ty11c0hyQnphRDN2QzNPQXpHVlFBTU5kdTRpWVhlaWVweUJJTTVKcXJuWkExV2dzeVZ2c2FtRXBueXBxREFNcHhpMHJPV0RMZVV1UnpuOWxQbW1TOVBxYXZZWjY0UndyUC02OHZHVzRTMExxUnEwVzdpc0oxUmU1bjZRLURrdkkzeFlnTmxqcXJsRWcySEQwLVlwbGFoT2RHQU9PU2FXVTBPX0ZOMDNpZEZNN045UzhqT3dSM29SaC0zZHNfX1V0aFo1eUZUQmh4bVVYWk1RYlY1ZWU0c1JWM2VsWE9GUDJkbllJRll3IiwgImUiOiAiQVFBQiIsICJraWQiOiAiSWdub3JlZCJ9&redirect_uri=http%3A%2F%2Flocalhost%3A8181\n",
      "    Completed browser authentication process!\n",
      "Config written to: C:\\Users\\C280373\\.oci\\config\n",
      "\n",
      "    Try out your newly created session credentials with the following example command:\n",
      "\n",
      "    oci iam region list --config-file C:\\Users\\C280373\\.oci\\config --profile tr-sso --auth security_token\n",
      "\n",
      "\n"
     ]
    }
   ],
   "source": [
    "\n",
    "command = 'oci session authenticate --region ' + tenancyConfig['region'] + \\\n",
    "        ' --profile ' + tenancyProfile + ' --profile-name ' + tenancyAuthProfile\n",
    "print('Creating Session for: ',tenancyAuthProfile )\n",
    "print('Running command: ',command )\n",
    "stdout, stderr = runCLI(command)\n",
    "print(stderr)\n",
    "print(stdout)"
   ]
  },
  {
   "cell_type": "markdown",
   "metadata": {
    "heading_collapsed": true
   },
   "source": [
    "## Validate Session"
   ]
  },
  {
   "cell_type": "code",
   "execution_count": null,
   "metadata": {
    "ExecuteTime": {
     "end_time": "2021-12-16T14:26:02.408147Z",
     "start_time": "2021-12-16T14:25:57.517855Z"
    },
    "hidden": true
   },
   "outputs": [],
   "source": [
    "command = 'oci session validate --profile ' + tenancyAuthProfile\n",
    "print('Validating Session for: ',tenancyAuthProfile )\n",
    "print('Running command: ',command )\n",
    "stdout, stderr = runCommand(command)\n",
    "print(stderr)\n",
    "print(stdout)"
   ]
  },
  {
   "cell_type": "markdown",
   "metadata": {},
   "source": [
    "## Refresh Session"
   ]
  },
  {
   "cell_type": "code",
   "execution_count": 5,
   "metadata": {
    "ExecuteTime": {
     "end_time": "2022-01-08T10:32:18.433867Z",
     "start_time": "2022-01-08T10:32:08.018465Z"
    },
    "cell_style": "center"
   },
   "outputs": [
    {
     "name": "stdout",
     "output_type": "stream",
     "text": [
      "Refreshing Session for:  tr-sso\n",
      "Running command:  oci session refresh --profile tr-sso\n",
      "Attempting to refresh token from https://auth.us-ashburn-1.oraclecloud.com/v1/authentication/refresh\n",
      "Successfully refreshed token\n",
      "\n",
      "Validating Session for:  tr-sso\n",
      "Running command:  oci session validate --profile tr-sso\n",
      "Session is valid until 2022-01-08 06:32:11\n",
      "\n"
     ]
    }
   ],
   "source": [
    "command = 'oci session refresh --profile ' + tenancyAuthProfile\n",
    "print('Refreshing Session for: ',tenancyAuthProfile )\n",
    "print('Running command: ',command )\n",
    "stdout, stderr = runCLI(command)\n",
    "print(stderr)\n",
    "command = 'oci session validate --profile ' + tenancyAuthProfile\n",
    "print('Validating Session for: ',tenancyAuthProfile )\n",
    "print('Running command: ',command )\n",
    "stdout, stderr = runCLI(command)\n",
    "print(stderr)"
   ]
  },
  {
   "cell_type": "markdown",
   "metadata": {
    "cell_style": "center"
   },
   "source": [
    "## Repeat Session Refresh"
   ]
  },
  {
   "cell_type": "code",
   "execution_count": null,
   "metadata": {
    "ExecuteTime": {
     "end_time": "2022-01-06T23:04:32.320361Z",
     "start_time": "2022-01-06T19:10:34.599552Z"
    }
   },
   "outputs": [],
   "source": [
    "for i in range(0,4):\n",
    "    \n",
    "    print('Starting run: ', i)\n",
    "    command = 'oci session refresh --profile ' + tenancyAuthProfile\n",
    "    print('Refreshing Session for: ',tenancyAuthProfile )\n",
    "    print('Running command: ',command )\n",
    "    stdout, stderr = runCLI(command)\n",
    "    print(stderr)\n",
    "    \n",
    "    command = 'oci session validate --profile ' + tenancyAuthProfile\n",
    "    print('Validating Session for: ',tenancyAuthProfile )\n",
    "    print('Running command: ',command )\n",
    "    stdout, stderr = runCLI(command)\n",
    "    print(stderr)\n",
    "    \n",
    "    print('Sleeping for: ' + str(58) + '  minutes\\n\\n')\n",
    "    time.sleep(60 * 58)\n",
    "    \n",
    "print('DONE !!!')"
   ]
  },
  {
   "cell_type": "code",
   "execution_count": null,
   "metadata": {},
   "outputs": [],
   "source": []
  }
 ],
 "metadata": {
  "kernelspec": {
   "display_name": "Python 3 (ipykernel)",
   "language": "python",
   "name": "python3"
  },
  "language_info": {
   "codemirror_mode": {
    "name": "ipython",
    "version": 3
   },
   "file_extension": ".py",
   "mimetype": "text/x-python",
   "name": "python",
   "nbconvert_exporter": "python",
   "pygments_lexer": "ipython3",
   "version": "3.8.10"
  },
  "toc": {
   "base_numbering": 1,
   "nav_menu": {},
   "number_sections": true,
   "sideBar": true,
   "skip_h1_title": false,
   "title_cell": "Table of Contents",
   "title_sidebar": "Contents",
   "toc_cell": false,
   "toc_position": {
    "height": "calc(100% - 180px)",
    "left": "10px",
    "top": "150px",
    "width": "255.946px"
   },
   "toc_section_display": true,
   "toc_window_display": true
  },
  "varInspector": {
   "cols": {
    "lenName": 16,
    "lenType": 16,
    "lenVar": 40
   },
   "kernels_config": {
    "python": {
     "delete_cmd_postfix": "",
     "delete_cmd_prefix": "del ",
     "library": "var_list.py",
     "varRefreshCmd": "print(var_dic_list())"
    },
    "r": {
     "delete_cmd_postfix": ") ",
     "delete_cmd_prefix": "rm(",
     "library": "var_list.r",
     "varRefreshCmd": "cat(var_dic_list()) "
    }
   },
   "types_to_exclude": [
    "module",
    "function",
    "builtin_function_or_method",
    "instance",
    "_Feature"
   ],
   "window_display": false
  }
 },
 "nbformat": 4,
 "nbformat_minor": 2
}
